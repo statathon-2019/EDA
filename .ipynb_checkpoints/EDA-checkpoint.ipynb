{
 "cells": [
  {
   "cell_type": "code",
   "execution_count": 0,
   "metadata": {
    "colab": {},
    "colab_type": "code",
    "collapsed": true,
    "id": "V-ZPnh01OGAn"
   },
   "outputs": [],
   "source": [
    "import numpy as np\n",
    "import pandas as pd\n",
    "import matplotlib.pyplot as plt"
   ]
  },
  {
   "cell_type": "code",
   "execution_count": null,
   "metadata": {
    "collapsed": true
   },
   "outputs": [],
   "source": [
    "#it is good to know"
   ]
  },
  {
   "cell_type": "code",
   "execution_count": 0,
   "metadata": {
    "colab": {},
    "colab_type": "code",
    "collapsed": true,
    "id": "rz-b8MBCOGAt"
   },
   "outputs": [],
   "source": [
    "train=pd.read_csv('train.csv')\n",
    "test=pd.read_csv('test.csv')"
   ]
  },
  {
   "cell_type": "code",
   "execution_count": 4,
   "metadata": {
    "colab": {
     "base_uri": "https://localhost:8080/",
     "height": 215
    },
    "colab_type": "code",
    "id": "JSgNJr9vOGAw",
    "outputId": "8834109c-10d9-4249-fb2a-907893e36b22"
   },
   "outputs": [
    {
     "data": {
      "text/html": [
       "<div>\n",
       "<style scoped>\n",
       "    .dataframe tbody tr th:only-of-type {\n",
       "        vertical-align: middle;\n",
       "    }\n",
       "\n",
       "    .dataframe tbody tr th {\n",
       "        vertical-align: top;\n",
       "    }\n",
       "\n",
       "    .dataframe thead th {\n",
       "        text-align: right;\n",
       "    }\n",
       "</style>\n",
       "<table border=\"1\" class=\"dataframe\">\n",
       "  <thead>\n",
       "    <tr style=\"text-align: right;\">\n",
       "      <th></th>\n",
       "      <th>id</th>\n",
       "      <th>cancel</th>\n",
       "      <th>year</th>\n",
       "      <th>zip.code</th>\n",
       "      <th>house.color</th>\n",
       "      <th>ni.age</th>\n",
       "      <th>len.at.res</th>\n",
       "      <th>credit</th>\n",
       "      <th>coverage.type</th>\n",
       "      <th>dwelling.type</th>\n",
       "      <th>premium</th>\n",
       "      <th>sales.channel</th>\n",
       "      <th>ni.gender</th>\n",
       "      <th>ni.marital.status</th>\n",
       "      <th>n.adults</th>\n",
       "      <th>n.children</th>\n",
       "      <th>tenure</th>\n",
       "      <th>claim.ind</th>\n",
       "    </tr>\n",
       "  </thead>\n",
       "  <tbody>\n",
       "    <tr>\n",
       "      <th>0</th>\n",
       "      <td>1</td>\n",
       "      <td>0</td>\n",
       "      <td>2013</td>\n",
       "      <td>98004.0</td>\n",
       "      <td>blue</td>\n",
       "      <td>37.0</td>\n",
       "      <td>18.000000</td>\n",
       "      <td>high</td>\n",
       "      <td>C</td>\n",
       "      <td>Tenant</td>\n",
       "      <td>950.507336</td>\n",
       "      <td>Broker</td>\n",
       "      <td>F</td>\n",
       "      <td>0.0</td>\n",
       "      <td>2.0</td>\n",
       "      <td>0.0</td>\n",
       "      <td>15.0</td>\n",
       "      <td>0.0</td>\n",
       "    </tr>\n",
       "    <tr>\n",
       "      <th>1</th>\n",
       "      <td>2</td>\n",
       "      <td>0</td>\n",
       "      <td>2013</td>\n",
       "      <td>85017.0</td>\n",
       "      <td>white</td>\n",
       "      <td>40.0</td>\n",
       "      <td>17.000000</td>\n",
       "      <td>medium</td>\n",
       "      <td>A</td>\n",
       "      <td>Condo</td>\n",
       "      <td>909.346046</td>\n",
       "      <td>Broker</td>\n",
       "      <td>F</td>\n",
       "      <td>1.0</td>\n",
       "      <td>5.0</td>\n",
       "      <td>0.0</td>\n",
       "      <td>15.0</td>\n",
       "      <td>0.0</td>\n",
       "    </tr>\n",
       "    <tr>\n",
       "      <th>2</th>\n",
       "      <td>3</td>\n",
       "      <td>0</td>\n",
       "      <td>2013</td>\n",
       "      <td>80021.0</td>\n",
       "      <td>white</td>\n",
       "      <td>45.0</td>\n",
       "      <td>14.000000</td>\n",
       "      <td>high</td>\n",
       "      <td>A</td>\n",
       "      <td>House</td>\n",
       "      <td>897.084502</td>\n",
       "      <td>Phone</td>\n",
       "      <td>M</td>\n",
       "      <td>0.0</td>\n",
       "      <td>1.0</td>\n",
       "      <td>0.0</td>\n",
       "      <td>14.0</td>\n",
       "      <td>0.0</td>\n",
       "    </tr>\n",
       "    <tr>\n",
       "      <th>3</th>\n",
       "      <td>4</td>\n",
       "      <td>0</td>\n",
       "      <td>2013</td>\n",
       "      <td>85002.0</td>\n",
       "      <td>red</td>\n",
       "      <td>45.0</td>\n",
       "      <td>24.366136</td>\n",
       "      <td>high</td>\n",
       "      <td>A</td>\n",
       "      <td>House</td>\n",
       "      <td>979.039007</td>\n",
       "      <td>Phone</td>\n",
       "      <td>M</td>\n",
       "      <td>0.0</td>\n",
       "      <td>5.0</td>\n",
       "      <td>0.0</td>\n",
       "      <td>22.0</td>\n",
       "      <td>1.0</td>\n",
       "    </tr>\n",
       "    <tr>\n",
       "      <th>4</th>\n",
       "      <td>5</td>\n",
       "      <td>0</td>\n",
       "      <td>2013</td>\n",
       "      <td>50001.0</td>\n",
       "      <td>yellow</td>\n",
       "      <td>36.0</td>\n",
       "      <td>16.000000</td>\n",
       "      <td>high</td>\n",
       "      <td>C</td>\n",
       "      <td>House</td>\n",
       "      <td>932.379027</td>\n",
       "      <td>Broker</td>\n",
       "      <td>M</td>\n",
       "      <td>1.0</td>\n",
       "      <td>2.0</td>\n",
       "      <td>4.0</td>\n",
       "      <td>4.0</td>\n",
       "      <td>0.0</td>\n",
       "    </tr>\n",
       "  </tbody>\n",
       "</table>\n",
       "</div>"
      ],
      "text/plain": [
       "   id  cancel  year  zip.code house.color  ni.age  len.at.res  credit  \\\n",
       "0   1       0  2013   98004.0        blue    37.0   18.000000    high   \n",
       "1   2       0  2013   85017.0       white    40.0   17.000000  medium   \n",
       "2   3       0  2013   80021.0       white    45.0   14.000000    high   \n",
       "3   4       0  2013   85002.0         red    45.0   24.366136    high   \n",
       "4   5       0  2013   50001.0      yellow    36.0   16.000000    high   \n",
       "\n",
       "  coverage.type dwelling.type     premium sales.channel ni.gender  \\\n",
       "0             C        Tenant  950.507336        Broker         F   \n",
       "1             A         Condo  909.346046        Broker         F   \n",
       "2             A         House  897.084502         Phone         M   \n",
       "3             A         House  979.039007         Phone         M   \n",
       "4             C         House  932.379027        Broker         M   \n",
       "\n",
       "   ni.marital.status  n.adults  n.children  tenure  claim.ind  \n",
       "0                0.0       2.0         0.0    15.0        0.0  \n",
       "1                1.0       5.0         0.0    15.0        0.0  \n",
       "2                0.0       1.0         0.0    14.0        0.0  \n",
       "3                0.0       5.0         0.0    22.0        1.0  \n",
       "4                1.0       2.0         4.0     4.0        0.0  "
      ]
     },
     "execution_count": 4,
     "metadata": {
      "tags": []
     },
     "output_type": "execute_result"
    }
   ],
   "source": [
    "train.head()"
   ]
  },
  {
   "cell_type": "code",
   "execution_count": 5,
   "metadata": {
    "colab": {
     "base_uri": "https://localhost:8080/",
     "height": 336
    },
    "colab_type": "code",
    "id": "VPI-xAJ7OGA3",
    "outputId": "381e6c19-a2c1-430f-d61c-dcd1c7666e59",
    "scrolled": true
   },
   "outputs": [
    {
     "data": {
      "text/plain": [
       "id                     int64\n",
       "cancel                 int64\n",
       "year                   int64\n",
       "zip.code             float64\n",
       "house.color           object\n",
       "ni.age               float64\n",
       "len.at.res           float64\n",
       "credit                object\n",
       "coverage.type         object\n",
       "dwelling.type         object\n",
       "premium              float64\n",
       "sales.channel         object\n",
       "ni.gender             object\n",
       "ni.marital.status    float64\n",
       "n.adults             float64\n",
       "n.children           float64\n",
       "tenure               float64\n",
       "claim.ind            float64\n",
       "dtype: object"
      ]
     },
     "execution_count": 5,
     "metadata": {
      "tags": []
     },
     "output_type": "execute_result"
    }
   ],
   "source": [
    "train.dtypes"
   ]
  },
  {
   "cell_type": "markdown",
   "metadata": {
    "colab_type": "text",
    "id": "Cf0_vUDjOGA8"
   },
   "source": [
    "# Check NA Value & Clean ID"
   ]
  },
  {
   "cell_type": "code",
   "execution_count": 6,
   "metadata": {
    "colab": {
     "base_uri": "https://localhost:8080/",
     "height": 336
    },
    "colab_type": "code",
    "id": "J7_3_I89OGA9",
    "outputId": "8b2961db-b3ba-4628-8884-0c144bd1d81f",
    "scrolled": true
   },
   "outputs": [
    {
     "data": {
      "text/plain": [
       "id                      0\n",
       "cancel                  0\n",
       "year                    0\n",
       "zip.code              951\n",
       "house.color           945\n",
       "ni.age               1002\n",
       "len.at.res            967\n",
       "credit                907\n",
       "coverage.type         980\n",
       "dwelling.type         993\n",
       "premium               957\n",
       "sales.channel        1025\n",
       "ni.gender             960\n",
       "ni.marital.status     994\n",
       "n.adults              931\n",
       "n.children            938\n",
       "tenure                980\n",
       "claim.ind             986\n",
       "dtype: int64"
      ]
     },
     "execution_count": 6,
     "metadata": {
      "tags": []
     },
     "output_type": "execute_result"
    }
   ],
   "source": [
    "train.isna().sum()"
   ]
  },
  {
   "cell_type": "code",
   "execution_count": 0,
   "metadata": {
    "colab": {},
    "colab_type": "code",
    "collapsed": true,
    "id": "T9SWe3MxOGBB"
   },
   "outputs": [],
   "source": [
    "cleaned = train.dropna()"
   ]
  },
  {
   "cell_type": "code",
   "execution_count": 8,
   "metadata": {
    "colab": {
     "base_uri": "https://localhost:8080/",
     "height": 34
    },
    "colab_type": "code",
    "id": "39r5-ms8OGBE",
    "outputId": "75496942-6add-467c-f190-b6b6311ea255"
   },
   "outputs": [
    {
     "data": {
      "text/plain": [
       "0.9862575399947547"
      ]
     },
     "execution_count": 8,
     "metadata": {
      "tags": []
     },
     "output_type": "execute_result"
    }
   ],
   "source": [
    "cleaned.shape[0]/train.shape[0]"
   ]
  },
  {
   "cell_type": "code",
   "execution_count": 9,
   "metadata": {
    "colab": {
     "base_uri": "https://localhost:8080/",
     "height": 215
    },
    "colab_type": "code",
    "id": "W3pIDYMsOGCH",
    "outputId": "d19d6b08-7226-42a4-aebf-4c01fff3e3fc"
   },
   "outputs": [
    {
     "data": {
      "text/html": [
       "<div>\n",
       "<style scoped>\n",
       "    .dataframe tbody tr th:only-of-type {\n",
       "        vertical-align: middle;\n",
       "    }\n",
       "\n",
       "    .dataframe tbody tr th {\n",
       "        vertical-align: top;\n",
       "    }\n",
       "\n",
       "    .dataframe thead th {\n",
       "        text-align: right;\n",
       "    }\n",
       "</style>\n",
       "<table border=\"1\" class=\"dataframe\">\n",
       "  <thead>\n",
       "    <tr style=\"text-align: right;\">\n",
       "      <th></th>\n",
       "      <th>cancel</th>\n",
       "      <th>year</th>\n",
       "      <th>zip.code</th>\n",
       "      <th>house.color</th>\n",
       "      <th>ni.age</th>\n",
       "      <th>len.at.res</th>\n",
       "      <th>credit</th>\n",
       "      <th>coverage.type</th>\n",
       "      <th>dwelling.type</th>\n",
       "      <th>premium</th>\n",
       "      <th>sales.channel</th>\n",
       "      <th>ni.gender</th>\n",
       "      <th>ni.marital.status</th>\n",
       "      <th>n.adults</th>\n",
       "      <th>n.children</th>\n",
       "      <th>tenure</th>\n",
       "      <th>claim.ind</th>\n",
       "    </tr>\n",
       "  </thead>\n",
       "  <tbody>\n",
       "    <tr>\n",
       "      <th>0</th>\n",
       "      <td>0</td>\n",
       "      <td>2013</td>\n",
       "      <td>98004.0</td>\n",
       "      <td>blue</td>\n",
       "      <td>37.0</td>\n",
       "      <td>18.000000</td>\n",
       "      <td>high</td>\n",
       "      <td>C</td>\n",
       "      <td>Tenant</td>\n",
       "      <td>950.507336</td>\n",
       "      <td>Broker</td>\n",
       "      <td>F</td>\n",
       "      <td>0.0</td>\n",
       "      <td>2.0</td>\n",
       "      <td>0.0</td>\n",
       "      <td>15.0</td>\n",
       "      <td>0.0</td>\n",
       "    </tr>\n",
       "    <tr>\n",
       "      <th>1</th>\n",
       "      <td>0</td>\n",
       "      <td>2013</td>\n",
       "      <td>85017.0</td>\n",
       "      <td>white</td>\n",
       "      <td>40.0</td>\n",
       "      <td>17.000000</td>\n",
       "      <td>medium</td>\n",
       "      <td>A</td>\n",
       "      <td>Condo</td>\n",
       "      <td>909.346046</td>\n",
       "      <td>Broker</td>\n",
       "      <td>F</td>\n",
       "      <td>1.0</td>\n",
       "      <td>5.0</td>\n",
       "      <td>0.0</td>\n",
       "      <td>15.0</td>\n",
       "      <td>0.0</td>\n",
       "    </tr>\n",
       "    <tr>\n",
       "      <th>2</th>\n",
       "      <td>0</td>\n",
       "      <td>2013</td>\n",
       "      <td>80021.0</td>\n",
       "      <td>white</td>\n",
       "      <td>45.0</td>\n",
       "      <td>14.000000</td>\n",
       "      <td>high</td>\n",
       "      <td>A</td>\n",
       "      <td>House</td>\n",
       "      <td>897.084502</td>\n",
       "      <td>Phone</td>\n",
       "      <td>M</td>\n",
       "      <td>0.0</td>\n",
       "      <td>1.0</td>\n",
       "      <td>0.0</td>\n",
       "      <td>14.0</td>\n",
       "      <td>0.0</td>\n",
       "    </tr>\n",
       "    <tr>\n",
       "      <th>3</th>\n",
       "      <td>0</td>\n",
       "      <td>2013</td>\n",
       "      <td>85002.0</td>\n",
       "      <td>red</td>\n",
       "      <td>45.0</td>\n",
       "      <td>24.366136</td>\n",
       "      <td>high</td>\n",
       "      <td>A</td>\n",
       "      <td>House</td>\n",
       "      <td>979.039007</td>\n",
       "      <td>Phone</td>\n",
       "      <td>M</td>\n",
       "      <td>0.0</td>\n",
       "      <td>5.0</td>\n",
       "      <td>0.0</td>\n",
       "      <td>22.0</td>\n",
       "      <td>1.0</td>\n",
       "    </tr>\n",
       "    <tr>\n",
       "      <th>4</th>\n",
       "      <td>0</td>\n",
       "      <td>2013</td>\n",
       "      <td>50001.0</td>\n",
       "      <td>yellow</td>\n",
       "      <td>36.0</td>\n",
       "      <td>16.000000</td>\n",
       "      <td>high</td>\n",
       "      <td>C</td>\n",
       "      <td>House</td>\n",
       "      <td>932.379027</td>\n",
       "      <td>Broker</td>\n",
       "      <td>M</td>\n",
       "      <td>1.0</td>\n",
       "      <td>2.0</td>\n",
       "      <td>4.0</td>\n",
       "      <td>4.0</td>\n",
       "      <td>0.0</td>\n",
       "    </tr>\n",
       "  </tbody>\n",
       "</table>\n",
       "</div>"
      ],
      "text/plain": [
       "   cancel  year  zip.code house.color  ni.age  len.at.res  credit  \\\n",
       "0       0  2013   98004.0        blue    37.0   18.000000    high   \n",
       "1       0  2013   85017.0       white    40.0   17.000000  medium   \n",
       "2       0  2013   80021.0       white    45.0   14.000000    high   \n",
       "3       0  2013   85002.0         red    45.0   24.366136    high   \n",
       "4       0  2013   50001.0      yellow    36.0   16.000000    high   \n",
       "\n",
       "  coverage.type dwelling.type     premium sales.channel ni.gender  \\\n",
       "0             C        Tenant  950.507336        Broker         F   \n",
       "1             A         Condo  909.346046        Broker         F   \n",
       "2             A         House  897.084502         Phone         M   \n",
       "3             A         House  979.039007         Phone         M   \n",
       "4             C         House  932.379027        Broker         M   \n",
       "\n",
       "   ni.marital.status  n.adults  n.children  tenure  claim.ind  \n",
       "0                0.0       2.0         0.0    15.0        0.0  \n",
       "1                1.0       5.0         0.0    15.0        0.0  \n",
       "2                0.0       1.0         0.0    14.0        0.0  \n",
       "3                0.0       5.0         0.0    22.0        1.0  \n",
       "4                1.0       2.0         4.0     4.0        0.0  "
      ]
     },
     "execution_count": 9,
     "metadata": {
      "tags": []
     },
     "output_type": "execute_result"
    }
   ],
   "source": [
    "cleaned = cleaned.drop('id', 1)\n",
    "cleaned.head()"
   ]
  },
  {
   "cell_type": "markdown",
   "metadata": {
    "colab_type": "text",
    "id": "t91Tz_vvOGBI"
   },
   "source": [
    "# Check EXTREME Value"
   ]
  },
  {
   "cell_type": "code",
   "execution_count": 10,
   "metadata": {
    "colab": {
     "base_uri": "https://localhost:8080/",
     "height": 101
    },
    "colab_type": "code",
    "id": "sq8gEYoKd3CE",
    "outputId": "f53c65f6-3000-4bc2-d331-adcfffa59ec3"
   },
   "outputs": [
    {
     "data": {
      "text/plain": [
       "Index(['cancel', 'year', 'zip.code', 'house.color', 'ni.age', 'len.at.res',\n",
       "       'credit', 'coverage.type', 'dwelling.type', 'premium', 'sales.channel',\n",
       "       'ni.gender', 'ni.marital.status', 'n.adults', 'n.children', 'tenure',\n",
       "       'claim.ind'],\n",
       "      dtype='object')"
      ]
     },
     "execution_count": 10,
     "metadata": {
      "tags": []
     },
     "output_type": "execute_result"
    }
   ],
   "source": [
    "cleaned.columns"
   ]
  },
  {
   "cell_type": "code",
   "execution_count": 11,
   "metadata": {
    "colab": {
     "base_uri": "https://localhost:8080/",
     "height": 373
    },
    "colab_type": "code",
    "id": "pa5VetunOGBJ",
    "outputId": "cbdf96fd-42bb-49c2-f0ef-bbff06463cf8",
    "scrolled": true
   },
   "outputs": [
    {
     "data": {
      "text/html": [
       "<div>\n",
       "<style scoped>\n",
       "    .dataframe tbody tr th:only-of-type {\n",
       "        vertical-align: middle;\n",
       "    }\n",
       "\n",
       "    .dataframe tbody tr th {\n",
       "        vertical-align: top;\n",
       "    }\n",
       "\n",
       "    .dataframe thead th {\n",
       "        text-align: right;\n",
       "    }\n",
       "</style>\n",
       "<table border=\"1\" class=\"dataframe\">\n",
       "  <thead>\n",
       "    <tr style=\"text-align: right;\">\n",
       "      <th></th>\n",
       "      <th>count</th>\n",
       "      <th>mean</th>\n",
       "      <th>std</th>\n",
       "      <th>min</th>\n",
       "      <th>25%</th>\n",
       "      <th>50%</th>\n",
       "      <th>75%</th>\n",
       "      <th>max</th>\n",
       "    </tr>\n",
       "  </thead>\n",
       "  <tbody>\n",
       "    <tr>\n",
       "      <th>cancel</th>\n",
       "      <td>1034165.0</td>\n",
       "      <td>0.238144</td>\n",
       "      <td>0.433602</td>\n",
       "      <td>-1.00000</td>\n",
       "      <td>0.000000</td>\n",
       "      <td>0.000000</td>\n",
       "      <td>0.000000</td>\n",
       "      <td>1.000000</td>\n",
       "    </tr>\n",
       "    <tr>\n",
       "      <th>year</th>\n",
       "      <td>1034165.0</td>\n",
       "      <td>2014.630257</td>\n",
       "      <td>1.111132</td>\n",
       "      <td>2013.00000</td>\n",
       "      <td>2014.000000</td>\n",
       "      <td>2015.000000</td>\n",
       "      <td>2016.000000</td>\n",
       "      <td>2016.000000</td>\n",
       "    </tr>\n",
       "    <tr>\n",
       "      <th>zip.code</th>\n",
       "      <td>1034165.0</td>\n",
       "      <td>62357.548966</td>\n",
       "      <td>28004.098819</td>\n",
       "      <td>15001.00000</td>\n",
       "      <td>50009.000000</td>\n",
       "      <td>80011.000000</td>\n",
       "      <td>85031.000000</td>\n",
       "      <td>98038.000000</td>\n",
       "    </tr>\n",
       "    <tr>\n",
       "      <th>ni.age</th>\n",
       "      <td>1034165.0</td>\n",
       "      <td>43.563151</td>\n",
       "      <td>12.367046</td>\n",
       "      <td>18.00000</td>\n",
       "      <td>35.000000</td>\n",
       "      <td>43.000000</td>\n",
       "      <td>51.000000</td>\n",
       "      <td>402.400899</td>\n",
       "    </tr>\n",
       "    <tr>\n",
       "      <th>len.at.res</th>\n",
       "      <td>1034165.0</td>\n",
       "      <td>15.215812</td>\n",
       "      <td>4.565558</td>\n",
       "      <td>1.00000</td>\n",
       "      <td>12.000000</td>\n",
       "      <td>15.000000</td>\n",
       "      <td>18.000000</td>\n",
       "      <td>49.998537</td>\n",
       "    </tr>\n",
       "    <tr>\n",
       "      <th>premium</th>\n",
       "      <td>1034165.0</td>\n",
       "      <td>899.892572</td>\n",
       "      <td>77.702062</td>\n",
       "      <td>612.38952</td>\n",
       "      <td>843.939739</td>\n",
       "      <td>899.710358</td>\n",
       "      <td>955.388794</td>\n",
       "      <td>1243.310538</td>\n",
       "    </tr>\n",
       "    <tr>\n",
       "      <th>ni.marital.status</th>\n",
       "      <td>1034165.0</td>\n",
       "      <td>0.709933</td>\n",
       "      <td>0.453793</td>\n",
       "      <td>0.00000</td>\n",
       "      <td>0.000000</td>\n",
       "      <td>1.000000</td>\n",
       "      <td>1.000000</td>\n",
       "      <td>1.000000</td>\n",
       "    </tr>\n",
       "    <tr>\n",
       "      <th>n.adults</th>\n",
       "      <td>1034165.0</td>\n",
       "      <td>2.133779</td>\n",
       "      <td>1.253845</td>\n",
       "      <td>1.00000</td>\n",
       "      <td>1.000000</td>\n",
       "      <td>2.000000</td>\n",
       "      <td>3.000000</td>\n",
       "      <td>12.000000</td>\n",
       "    </tr>\n",
       "    <tr>\n",
       "      <th>n.children</th>\n",
       "      <td>1034165.0</td>\n",
       "      <td>1.737354</td>\n",
       "      <td>2.342924</td>\n",
       "      <td>0.00000</td>\n",
       "      <td>0.000000</td>\n",
       "      <td>1.000000</td>\n",
       "      <td>2.000000</td>\n",
       "      <td>12.000000</td>\n",
       "    </tr>\n",
       "    <tr>\n",
       "      <th>tenure</th>\n",
       "      <td>1034165.0</td>\n",
       "      <td>11.676230</td>\n",
       "      <td>5.932978</td>\n",
       "      <td>0.00000</td>\n",
       "      <td>6.000000</td>\n",
       "      <td>13.000000</td>\n",
       "      <td>16.000000</td>\n",
       "      <td>34.000000</td>\n",
       "    </tr>\n",
       "    <tr>\n",
       "      <th>claim.ind</th>\n",
       "      <td>1034165.0</td>\n",
       "      <td>0.199620</td>\n",
       "      <td>0.399715</td>\n",
       "      <td>0.00000</td>\n",
       "      <td>0.000000</td>\n",
       "      <td>0.000000</td>\n",
       "      <td>0.000000</td>\n",
       "      <td>1.000000</td>\n",
       "    </tr>\n",
       "  </tbody>\n",
       "</table>\n",
       "</div>"
      ],
      "text/plain": [
       "                       count          mean           std          min  \\\n",
       "cancel             1034165.0      0.238144      0.433602     -1.00000   \n",
       "year               1034165.0   2014.630257      1.111132   2013.00000   \n",
       "zip.code           1034165.0  62357.548966  28004.098819  15001.00000   \n",
       "ni.age             1034165.0     43.563151     12.367046     18.00000   \n",
       "len.at.res         1034165.0     15.215812      4.565558      1.00000   \n",
       "premium            1034165.0    899.892572     77.702062    612.38952   \n",
       "ni.marital.status  1034165.0      0.709933      0.453793      0.00000   \n",
       "n.adults           1034165.0      2.133779      1.253845      1.00000   \n",
       "n.children         1034165.0      1.737354      2.342924      0.00000   \n",
       "tenure             1034165.0     11.676230      5.932978      0.00000   \n",
       "claim.ind          1034165.0      0.199620      0.399715      0.00000   \n",
       "\n",
       "                            25%           50%           75%           max  \n",
       "cancel                 0.000000      0.000000      0.000000      1.000000  \n",
       "year                2014.000000   2015.000000   2016.000000   2016.000000  \n",
       "zip.code           50009.000000  80011.000000  85031.000000  98038.000000  \n",
       "ni.age                35.000000     43.000000     51.000000    402.400899  \n",
       "len.at.res            12.000000     15.000000     18.000000     49.998537  \n",
       "premium              843.939739    899.710358    955.388794   1243.310538  \n",
       "ni.marital.status      0.000000      1.000000      1.000000      1.000000  \n",
       "n.adults               1.000000      2.000000      3.000000     12.000000  \n",
       "n.children             0.000000      1.000000      2.000000     12.000000  \n",
       "tenure                 6.000000     13.000000     16.000000     34.000000  \n",
       "claim.ind              0.000000      0.000000      0.000000      1.000000  "
      ]
     },
     "execution_count": 11,
     "metadata": {
      "tags": []
     },
     "output_type": "execute_result"
    }
   ],
   "source": [
    "cleaned.describe().transpose()"
   ]
  },
  {
   "cell_type": "markdown",
   "metadata": {
    "colab_type": "text",
    "id": "0nlD1aKOd3CP"
   },
   "source": [
    "### cancel"
   ]
  },
  {
   "cell_type": "code",
   "execution_count": 12,
   "metadata": {
    "colab": {
     "base_uri": "https://localhost:8080/",
     "height": 34
    },
    "colab_type": "code",
    "id": "NC2Zf_Tdd3CQ",
    "outputId": "67683876-0347-4fae-b8e5-8903e0c2908c"
   },
   "outputs": [
    {
     "data": {
      "text/plain": [
       "array([ 0,  1, -1])"
      ]
     },
     "execution_count": 12,
     "metadata": {
      "tags": []
     },
     "output_type": "execute_result"
    }
   ],
   "source": [
    "cleaned['cancel'].unique()"
   ]
  },
  {
   "cell_type": "code",
   "execution_count": 13,
   "metadata": {
    "colab": {
     "base_uri": "https://localhost:8080/",
     "height": 34
    },
    "colab_type": "code",
    "id": "FA5MV8_bOGBN",
    "outputId": "3ff582a7-e42e-4f38-c585-e7d1ee694d4e"
   },
   "outputs": [
    {
     "data": {
      "text/plain": [
       "0.9830131368762368"
      ]
     },
     "execution_count": 13,
     "metadata": {
      "tags": []
     },
     "output_type": "execute_result"
    }
   ],
   "source": [
    "cleaned = cleaned[cleaned['cancel'] >= 0]\n",
    "cleaned.shape[0]/train.shape[0]"
   ]
  },
  {
   "cell_type": "code",
   "execution_count": 0,
   "metadata": {
    "colab": {},
    "colab_type": "code",
    "collapsed": true,
    "id": "ObNl9Is6d3CY"
   },
   "outputs": [],
   "source": [
    "### year & zip code"
   ]
  },
  {
   "cell_type": "markdown",
   "metadata": {
    "colab_type": "text",
    "id": "QufUlOMwd3Cb"
   },
   "source": [
    "### house.color"
   ]
  },
  {
   "cell_type": "code",
   "execution_count": 15,
   "metadata": {
    "colab": {
     "base_uri": "https://localhost:8080/",
     "height": 34
    },
    "colab_type": "code",
    "id": "vu8AgJq5d3Cc",
    "outputId": "472a7e25-58e3-47aa-8438-c176fbaef128"
   },
   "outputs": [
    {
     "data": {
      "text/plain": [
       "array(['blue', 'white', 'red', 'yellow'], dtype=object)"
      ]
     },
     "execution_count": 15,
     "metadata": {
      "tags": []
     },
     "output_type": "execute_result"
    }
   ],
   "source": [
    "cleaned['house.color'].unique()"
   ]
  },
  {
   "cell_type": "code",
   "execution_count": 16,
   "metadata": {
    "colab": {
     "base_uri": "https://localhost:8080/",
     "height": 34
    },
    "colab_type": "code",
    "id": "HpXL7r_md3Ch",
    "outputId": "3117f80e-d946-412e-9232-25ed62556b3e"
   },
   "outputs": [
    {
     "data": {
      "text/plain": [
       "Counter({'blue': 288761, 'red': 257215, 'white': 391854, 'yellow': 92933})"
      ]
     },
     "execution_count": 16,
     "metadata": {
      "tags": []
     },
     "output_type": "execute_result"
    }
   ],
   "source": [
    "from collections import Counter\n",
    "Counter(cleaned['house.color'])"
   ]
  },
  {
   "cell_type": "markdown",
   "metadata": {
    "colab_type": "text",
    "id": "Syxu_nBwd3Cl"
   },
   "source": [
    "### age"
   ]
  },
  {
   "cell_type": "code",
   "execution_count": 0,
   "metadata": {
    "colab": {},
    "colab_type": "code",
    "collapsed": true,
    "id": "Zjv489nVOGBS"
   },
   "outputs": [],
   "source": [
    "#cleaned['ni.age'].hist()"
   ]
  },
  {
   "cell_type": "code",
   "execution_count": 18,
   "metadata": {
    "colab": {
     "base_uri": "https://localhost:8080/",
     "height": 101
    },
    "colab_type": "code",
    "id": "KdLn3nhNd3Cp",
    "outputId": "09791570-d9de-404f-df9c-b00c838e3c53"
   },
   "outputs": [
    {
     "data": {
      "text/plain": [
       "[402.40089930000005,\n",
       " 389.4784557,\n",
       " 379.96009419999996,\n",
       " 366.13460019999997,\n",
       " 364.25814510000004]"
      ]
     },
     "execution_count": 18,
     "metadata": {
      "tags": []
     },
     "output_type": "execute_result"
    }
   ],
   "source": [
    "niAge = cleaned['ni.age'].tolist()\n",
    "niAge.sort(reverse = True)\n",
    "niAge[0:5]"
   ]
  },
  {
   "cell_type": "code",
   "execution_count": 19,
   "metadata": {
    "colab": {
     "base_uri": "https://localhost:8080/",
     "height": 34
    },
    "colab_type": "code",
    "id": "3bJ_7jzHOGBW",
    "outputId": "6e5a00a6-8931-466a-9227-d4ddfcff03a9"
   },
   "outputs": [
    {
     "data": {
      "text/plain": [
       "0.9825439286650931"
      ]
     },
     "execution_count": 19,
     "metadata": {
      "tags": []
     },
     "output_type": "execute_result"
    }
   ],
   "source": [
    "cleaned = cleaned[cleaned['ni.age']<120]\n",
    "cleaned.shape[0]/train.shape[0]"
   ]
  },
  {
   "cell_type": "markdown",
   "metadata": {
    "colab_type": "text",
    "id": "VllfE3qXd3Cw"
   },
   "source": [
    "### Length at residence "
   ]
  },
  {
   "cell_type": "code",
   "execution_count": 0,
   "metadata": {
    "colab": {},
    "colab_type": "code",
    "collapsed": true,
    "id": "exAC4cewOGBb"
   },
   "outputs": [],
   "source": [
    "#cleaned['len.at.res'].hist()"
   ]
  },
  {
   "cell_type": "code",
   "execution_count": 21,
   "metadata": {
    "colab": {
     "base_uri": "https://localhost:8080/",
     "height": 34
    },
    "colab_type": "code",
    "id": "-hqatE0Ed3Cz",
    "outputId": "e77becc2-0433-4ea2-ff89-118b66da5794"
   },
   "outputs": [
    {
     "data": {
      "text/plain": [
       "0.9777765062108099"
      ]
     },
     "execution_count": 21,
     "metadata": {
      "tags": []
     },
     "output_type": "execute_result"
    }
   ],
   "source": [
    "# (how long policyholder lived at property), should be less than age\n",
    "cleaned = cleaned[cleaned['len.at.res']<=cleaned['ni.age']]\n",
    "cleaned.shape[0]/train.shape[0]"
   ]
  },
  {
   "cell_type": "code",
   "execution_count": 0,
   "metadata": {
    "colab": {},
    "colab_type": "code",
    "collapsed": true,
    "id": "r0enjuY2d3C2"
   },
   "outputs": [],
   "source": []
  },
  {
   "cell_type": "code",
   "execution_count": 22,
   "metadata": {
    "colab": {
     "base_uri": "https://localhost:8080/",
     "height": 34
    },
    "colab_type": "code",
    "id": "V1w43SMBd3C4",
    "outputId": "7bcacd6e-52fe-4f46-bb2f-da1901f87f33"
   },
   "outputs": [
    {
     "data": {
      "text/plain": [
       "Counter({'high': 633945, 'low': 167889, 'medium': 223438})"
      ]
     },
     "execution_count": 22,
     "metadata": {
      "tags": []
     },
     "output_type": "execute_result"
    }
   ],
   "source": [
    "Counter(cleaned['credit'])"
   ]
  },
  {
   "cell_type": "code",
   "execution_count": 0,
   "metadata": {
    "colab": {},
    "colab_type": "code",
    "collapsed": true,
    "id": "lCyJMUied3C6"
   },
   "outputs": [],
   "source": []
  },
  {
   "cell_type": "code",
   "execution_count": 23,
   "metadata": {
    "colab": {
     "base_uri": "https://localhost:8080/",
     "height": 34
    },
    "colab_type": "code",
    "id": "-4Cq3pXxd3C9",
    "outputId": "f0024531-b887-45fe-c9cc-72fe4edd83b7"
   },
   "outputs": [
    {
     "data": {
      "text/plain": [
       "Counter({'A': 348992, 'B': 246060, 'C': 430220})"
      ]
     },
     "execution_count": 23,
     "metadata": {
      "tags": []
     },
     "output_type": "execute_result"
    }
   ],
   "source": [
    "Counter(cleaned['coverage.type'])"
   ]
  },
  {
   "cell_type": "code",
   "execution_count": 0,
   "metadata": {
    "colab": {},
    "colab_type": "code",
    "collapsed": true,
    "id": "U7OpDcyBd3DE"
   },
   "outputs": [],
   "source": []
  },
  {
   "cell_type": "code",
   "execution_count": 24,
   "metadata": {
    "colab": {
     "base_uri": "https://localhost:8080/",
     "height": 34
    },
    "colab_type": "code",
    "id": "-EZemcyqd3DH",
    "outputId": "2993bdbc-9d9d-45b8-a8a6-dc233bb76b43"
   },
   "outputs": [
    {
     "data": {
      "text/plain": [
       "Counter({'Condo': 246524, 'House': 575701, 'Tenant': 203047})"
      ]
     },
     "execution_count": 24,
     "metadata": {
      "tags": []
     },
     "output_type": "execute_result"
    }
   ],
   "source": [
    "Counter(cleaned['dwelling.type'])"
   ]
  },
  {
   "cell_type": "code",
   "execution_count": 0,
   "metadata": {
    "colab": {},
    "colab_type": "code",
    "collapsed": true,
    "id": "qzLEro6pd3DK"
   },
   "outputs": [],
   "source": []
  },
  {
   "cell_type": "code",
   "execution_count": 25,
   "metadata": {
    "colab": {
     "base_uri": "https://localhost:8080/",
     "height": 364
    },
    "colab_type": "code",
    "id": "Kn3X_r4zOGBg",
    "outputId": "315e831b-e6d3-46e4-9265-9b1f83016689"
   },
   "outputs": [
    {
     "data": {
      "text/plain": [
       "<matplotlib.axes._subplots.AxesSubplot at 0x7fa82e21ba20>"
      ]
     },
     "execution_count": 25,
     "metadata": {
      "tags": []
     },
     "output_type": "execute_result"
    },
    {
     "data": {
      "image/png": "iVBORw0KGgoAAAANSUhEUgAAAfUAAAFKCAYAAAAE1MaxAAAABHNCSVQICAgIfAhkiAAAAAlwSFlz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\n6gAAGOL/ARADWylXC1OfAAAAAElFTkSuQmCC\n",
      "text/plain": [
       "<Figure size 576x396 with 1 Axes>"
      ]
     },
     "metadata": {
      "tags": []
     },
     "output_type": "display_data"
    }
   ],
   "source": [
    "cleaned['premium'].hist()"
   ]
  },
  {
   "cell_type": "code",
   "execution_count": 26,
   "metadata": {
    "colab": {
     "base_uri": "https://localhost:8080/",
     "height": 101
    },
    "colab_type": "code",
    "id": "rm_7LIOxd3DQ",
    "outputId": "01a406cb-f4f9-47d9-d214-f22759d3aec1"
   },
   "outputs": [
    {
     "data": {
      "text/plain": [
       "Index(['cancel', 'year', 'zip.code', 'house.color', 'ni.age', 'len.at.res',\n",
       "       'credit', 'coverage.type', 'dwelling.type', 'premium', 'sales.channel',\n",
       "       'ni.gender', 'ni.marital.status', 'n.adults', 'n.children', 'tenure',\n",
       "       'claim.ind'],\n",
       "      dtype='object')"
      ]
     },
     "execution_count": 26,
     "metadata": {
      "tags": []
     },
     "output_type": "execute_result"
    }
   ],
   "source": [
    "cleaned.columns"
   ]
  },
  {
   "cell_type": "code",
   "execution_count": 0,
   "metadata": {
    "colab": {},
    "colab_type": "code",
    "collapsed": true,
    "id": "7QMSmOLpd3DT"
   },
   "outputs": [],
   "source": []
  },
  {
   "cell_type": "code",
   "execution_count": 27,
   "metadata": {
    "colab": {
     "base_uri": "https://localhost:8080/",
     "height": 34
    },
    "colab_type": "code",
    "id": "4UImqox2d3DV",
    "outputId": "7d6218f7-9d2d-4ab9-a4c5-af3313f18ff0"
   },
   "outputs": [
    {
     "data": {
      "text/plain": [
       "Counter({'Broker': 596563, 'Online': 86290, 'Phone': 342419})"
      ]
     },
     "execution_count": 27,
     "metadata": {
      "tags": []
     },
     "output_type": "execute_result"
    }
   ],
   "source": [
    "Counter(cleaned['sales.channel'])"
   ]
  },
  {
   "cell_type": "code",
   "execution_count": 28,
   "metadata": {
    "colab": {
     "base_uri": "https://localhost:8080/",
     "height": 34
    },
    "colab_type": "code",
    "id": "x9EEEV3Fd3DY",
    "outputId": "bbfd99f5-8098-439a-946a-5ad9c9768d6e"
   },
   "outputs": [
    {
     "data": {
      "text/plain": [
       "Counter({'F': 491735, 'M': 533537})"
      ]
     },
     "execution_count": 28,
     "metadata": {
      "tags": []
     },
     "output_type": "execute_result"
    }
   ],
   "source": [
    "Counter(cleaned['ni.gender'])"
   ]
  },
  {
   "cell_type": "code",
   "execution_count": 29,
   "metadata": {
    "colab": {
     "base_uri": "https://localhost:8080/",
     "height": 34
    },
    "colab_type": "code",
    "id": "jS08ggUMd3De",
    "outputId": "3baa947b-ab45-4fd9-f568-fc4bbe9fdaf0"
   },
   "outputs": [
    {
     "data": {
      "text/plain": [
       "Counter({0.0: 297337, 1.0: 727935})"
      ]
     },
     "execution_count": 29,
     "metadata": {
      "tags": []
     },
     "output_type": "execute_result"
    }
   ],
   "source": [
    "Counter(cleaned['ni.marital.status'])"
   ]
  },
  {
   "cell_type": "code",
   "execution_count": 30,
   "metadata": {
    "colab": {
     "base_uri": "https://localhost:8080/",
     "height": 218
    },
    "colab_type": "code",
    "id": "-O1WM8ajd3Dk",
    "outputId": "3f5fd702-53b4-46a1-ce06-0ac06b50e0d1"
   },
   "outputs": [
    {
     "data": {
      "text/plain": [
       "Counter({1.0: 416317,\n",
       "         2.0: 278127,\n",
       "         3.0: 184715,\n",
       "         4.0: 92408,\n",
       "         5.0: 36809,\n",
       "         6.0: 12312,\n",
       "         7.0: 3413,\n",
       "         8.0: 924,\n",
       "         9.0: 204,\n",
       "         10.0: 33,\n",
       "         11.0: 8,\n",
       "         12.0: 2})"
      ]
     },
     "execution_count": 30,
     "metadata": {
      "tags": []
     },
     "output_type": "execute_result"
    }
   ],
   "source": [
    "Counter(cleaned['n.adults'])"
   ]
  },
  {
   "cell_type": "code",
   "execution_count": 31,
   "metadata": {
    "colab": {
     "base_uri": "https://localhost:8080/",
     "height": 235
    },
    "colab_type": "code",
    "id": "kbYM741sd3Dr",
    "outputId": "d9cc69c1-d12f-49b7-f535-64a7172bbf1b"
   },
   "outputs": [
    {
     "data": {
      "text/plain": [
       "Counter({0.0: 424299,\n",
       "         1.0: 211704,\n",
       "         2.0: 133216,\n",
       "         3.0: 80698,\n",
       "         4.0: 54502,\n",
       "         5.0: 38673,\n",
       "         6.0: 24323,\n",
       "         7.0: 17795,\n",
       "         8.0: 12997,\n",
       "         9.0: 9692,\n",
       "         10.0: 7333,\n",
       "         11.0: 5669,\n",
       "         12.0: 4371})"
      ]
     },
     "execution_count": 31,
     "metadata": {
      "tags": []
     },
     "output_type": "execute_result"
    }
   ],
   "source": [
    "Counter(cleaned['n.children'])"
   ]
  },
  {
   "cell_type": "code",
   "execution_count": 32,
   "metadata": {
    "colab": {
     "base_uri": "https://localhost:8080/",
     "height": 364
    },
    "colab_type": "code",
    "id": "Gxgm5qWNOGB7",
    "outputId": "d5e0e80f-e862-4fea-e39c-3dd3df1f601d"
   },
   "outputs": [
    {
     "data": {
      "text/plain": [
       "<matplotlib.axes._subplots.AxesSubplot at 0x7fa82c94af98>"
      ]
     },
     "execution_count": 32,
     "metadata": {
      "tags": []
     },
     "output_type": "execute_result"
    },
    {
     "data": {
      "image/png": "iVBORw0KGgoAAAANSUhEUgAAAfUAAAFKCAYAAAAE1MaxAAAABHNCSVQICAgIfAhkiAAAAAlwSFlz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\niP8PsJAMQs1RPT0AAAAASUVORK5CYII=\n",
      "text/plain": [
       "<Figure size 576x396 with 1 Axes>"
      ]
     },
     "metadata": {
      "tags": []
     },
     "output_type": "display_data"
    }
   ],
   "source": [
    "cleaned['tenure'].hist()"
   ]
  },
  {
   "cell_type": "code",
   "execution_count": 33,
   "metadata": {
    "colab": {
     "base_uri": "https://localhost:8080/",
     "height": 34
    },
    "colab_type": "code",
    "id": "aVFUAd8GOGCA",
    "outputId": "87e5d8a8-4352-4d1e-bd32-7dce2aa717e2"
   },
   "outputs": [
    {
     "data": {
      "text/plain": [
       "Counter({0.0: 820568, 1.0: 204704})"
      ]
     },
     "execution_count": 33,
     "metadata": {
      "tags": []
     },
     "output_type": "execute_result"
    }
   ],
   "source": [
    "Counter(cleaned['claim.ind'])"
   ]
  },
  {
   "cell_type": "markdown",
   "metadata": {
    "colab_type": "text",
    "id": "FCYmDcmYd3D0"
   },
   "source": [
    "# Display Cleaned Data"
   ]
  },
  {
   "cell_type": "code",
   "execution_count": 34,
   "metadata": {
    "colab": {
     "base_uri": "https://localhost:8080/",
     "height": 34
    },
    "colab_type": "code",
    "id": "LIAQlJoEd3D1",
    "outputId": "9f2bca01-3d61-4be9-d0d9-187ed88c4bec"
   },
   "outputs": [
    {
     "data": {
      "text/plain": [
       "0.9777765062108099"
      ]
     },
     "execution_count": 34,
     "metadata": {
      "tags": []
     },
     "output_type": "execute_result"
    }
   ],
   "source": [
    "cleaned.shape[0]/train.shape[0]"
   ]
  },
  {
   "cell_type": "code",
   "execution_count": 35,
   "metadata": {
    "colab": {
     "base_uri": "https://localhost:8080/",
     "height": 215
    },
    "colab_type": "code",
    "id": "ko2hawAPd3D3",
    "outputId": "16231eef-63e9-44b1-cede-1062d4817917"
   },
   "outputs": [
    {
     "data": {
      "text/html": [
       "<div>\n",
       "<style scoped>\n",
       "    .dataframe tbody tr th:only-of-type {\n",
       "        vertical-align: middle;\n",
       "    }\n",
       "\n",
       "    .dataframe tbody tr th {\n",
       "        vertical-align: top;\n",
       "    }\n",
       "\n",
       "    .dataframe thead th {\n",
       "        text-align: right;\n",
       "    }\n",
       "</style>\n",
       "<table border=\"1\" class=\"dataframe\">\n",
       "  <thead>\n",
       "    <tr style=\"text-align: right;\">\n",
       "      <th></th>\n",
       "      <th>cancel</th>\n",
       "      <th>year</th>\n",
       "      <th>zip.code</th>\n",
       "      <th>house.color</th>\n",
       "      <th>ni.age</th>\n",
       "      <th>len.at.res</th>\n",
       "      <th>credit</th>\n",
       "      <th>coverage.type</th>\n",
       "      <th>dwelling.type</th>\n",
       "      <th>premium</th>\n",
       "      <th>sales.channel</th>\n",
       "      <th>ni.gender</th>\n",
       "      <th>ni.marital.status</th>\n",
       "      <th>n.adults</th>\n",
       "      <th>n.children</th>\n",
       "      <th>tenure</th>\n",
       "      <th>claim.ind</th>\n",
       "    </tr>\n",
       "  </thead>\n",
       "  <tbody>\n",
       "    <tr>\n",
       "      <th>0</th>\n",
       "      <td>0</td>\n",
       "      <td>2013</td>\n",
       "      <td>98004.0</td>\n",
       "      <td>blue</td>\n",
       "      <td>37.0</td>\n",
       "      <td>18.000000</td>\n",
       "      <td>high</td>\n",
       "      <td>C</td>\n",
       "      <td>Tenant</td>\n",
       "      <td>950.507336</td>\n",
       "      <td>Broker</td>\n",
       "      <td>F</td>\n",
       "      <td>0.0</td>\n",
       "      <td>2.0</td>\n",
       "      <td>0.0</td>\n",
       "      <td>15.0</td>\n",
       "      <td>0.0</td>\n",
       "    </tr>\n",
       "    <tr>\n",
       "      <th>1</th>\n",
       "      <td>0</td>\n",
       "      <td>2013</td>\n",
       "      <td>85017.0</td>\n",
       "      <td>white</td>\n",
       "      <td>40.0</td>\n",
       "      <td>17.000000</td>\n",
       "      <td>medium</td>\n",
       "      <td>A</td>\n",
       "      <td>Condo</td>\n",
       "      <td>909.346046</td>\n",
       "      <td>Broker</td>\n",
       "      <td>F</td>\n",
       "      <td>1.0</td>\n",
       "      <td>5.0</td>\n",
       "      <td>0.0</td>\n",
       "      <td>15.0</td>\n",
       "      <td>0.0</td>\n",
       "    </tr>\n",
       "    <tr>\n",
       "      <th>2</th>\n",
       "      <td>0</td>\n",
       "      <td>2013</td>\n",
       "      <td>80021.0</td>\n",
       "      <td>white</td>\n",
       "      <td>45.0</td>\n",
       "      <td>14.000000</td>\n",
       "      <td>high</td>\n",
       "      <td>A</td>\n",
       "      <td>House</td>\n",
       "      <td>897.084502</td>\n",
       "      <td>Phone</td>\n",
       "      <td>M</td>\n",
       "      <td>0.0</td>\n",
       "      <td>1.0</td>\n",
       "      <td>0.0</td>\n",
       "      <td>14.0</td>\n",
       "      <td>0.0</td>\n",
       "    </tr>\n",
       "    <tr>\n",
       "      <th>3</th>\n",
       "      <td>0</td>\n",
       "      <td>2013</td>\n",
       "      <td>85002.0</td>\n",
       "      <td>red</td>\n",
       "      <td>45.0</td>\n",
       "      <td>24.366136</td>\n",
       "      <td>high</td>\n",
       "      <td>A</td>\n",
       "      <td>House</td>\n",
       "      <td>979.039007</td>\n",
       "      <td>Phone</td>\n",
       "      <td>M</td>\n",
       "      <td>0.0</td>\n",
       "      <td>5.0</td>\n",
       "      <td>0.0</td>\n",
       "      <td>22.0</td>\n",
       "      <td>1.0</td>\n",
       "    </tr>\n",
       "    <tr>\n",
       "      <th>4</th>\n",
       "      <td>0</td>\n",
       "      <td>2013</td>\n",
       "      <td>50001.0</td>\n",
       "      <td>yellow</td>\n",
       "      <td>36.0</td>\n",
       "      <td>16.000000</td>\n",
       "      <td>high</td>\n",
       "      <td>C</td>\n",
       "      <td>House</td>\n",
       "      <td>932.379027</td>\n",
       "      <td>Broker</td>\n",
       "      <td>M</td>\n",
       "      <td>1.0</td>\n",
       "      <td>2.0</td>\n",
       "      <td>4.0</td>\n",
       "      <td>4.0</td>\n",
       "      <td>0.0</td>\n",
       "    </tr>\n",
       "  </tbody>\n",
       "</table>\n",
       "</div>"
      ],
      "text/plain": [
       "   cancel  year  zip.code house.color  ni.age  len.at.res  credit  \\\n",
       "0       0  2013   98004.0        blue    37.0   18.000000    high   \n",
       "1       0  2013   85017.0       white    40.0   17.000000  medium   \n",
       "2       0  2013   80021.0       white    45.0   14.000000    high   \n",
       "3       0  2013   85002.0         red    45.0   24.366136    high   \n",
       "4       0  2013   50001.0      yellow    36.0   16.000000    high   \n",
       "\n",
       "  coverage.type dwelling.type     premium sales.channel ni.gender  \\\n",
       "0             C        Tenant  950.507336        Broker         F   \n",
       "1             A         Condo  909.346046        Broker         F   \n",
       "2             A         House  897.084502         Phone         M   \n",
       "3             A         House  979.039007         Phone         M   \n",
       "4             C         House  932.379027        Broker         M   \n",
       "\n",
       "   ni.marital.status  n.adults  n.children  tenure  claim.ind  \n",
       "0                0.0       2.0         0.0    15.0        0.0  \n",
       "1                1.0       5.0         0.0    15.0        0.0  \n",
       "2                0.0       1.0         0.0    14.0        0.0  \n",
       "3                0.0       5.0         0.0    22.0        1.0  \n",
       "4                1.0       2.0         4.0     4.0        0.0  "
      ]
     },
     "execution_count": 35,
     "metadata": {
      "tags": []
     },
     "output_type": "execute_result"
    }
   ],
   "source": [
    "cleaned.head()"
   ]
  },
  {
   "cell_type": "code",
   "execution_count": 36,
   "metadata": {
    "colab": {
     "base_uri": "https://localhost:8080/",
     "height": 319
    },
    "colab_type": "code",
    "id": "rp2-1eoyd3D9",
    "outputId": "928317e6-24d9-4c73-f98e-f878b6803577"
   },
   "outputs": [
    {
     "data": {
      "text/plain": [
       "cancel                 int64\n",
       "year                   int64\n",
       "zip.code             float64\n",
       "house.color           object\n",
       "ni.age               float64\n",
       "len.at.res           float64\n",
       "credit                object\n",
       "coverage.type         object\n",
       "dwelling.type         object\n",
       "premium              float64\n",
       "sales.channel         object\n",
       "ni.gender             object\n",
       "ni.marital.status    float64\n",
       "n.adults             float64\n",
       "n.children           float64\n",
       "tenure               float64\n",
       "claim.ind            float64\n",
       "dtype: object"
      ]
     },
     "execution_count": 36,
     "metadata": {
      "tags": []
     },
     "output_type": "execute_result"
    }
   ],
   "source": [
    "cleaned.dtypes"
   ]
  },
  {
   "cell_type": "code",
   "execution_count": 42,
   "metadata": {
    "colab": {
     "base_uri": "https://localhost:8080/",
     "height": 474
    },
    "colab_type": "code",
    "id": "_yAPZK4dfPEC",
    "outputId": "99a7f6de-c2e9-4c15-d372-bc8fe5400420"
   },
   "outputs": [
    {
     "name": "stdout",
     "output_type": "stream",
     "text": [
      "Collecting uszipcode\n",
      "\u001b[?25l  Downloading https://files.pythonhosted.org/packages/34/e1/f828cd05732433d0074a17a2623a8c1281c5dc7fb265fef1d3867692037b/uszipcode-0.2.2-py2.py3-none-any.whl (137kB)\n",
      "\u001b[K    100% |████████████████████████████████| 143kB 6.8MB/s \n",
      "\u001b[?25hRequirement already satisfied: requests in /usr/local/lib/python3.6/dist-packages (from uszipcode) (2.18.4)\n",
      "Requirement already satisfied: sqlalchemy in /usr/local/lib/python3.6/dist-packages (from uszipcode) (1.2.18)\n",
      "Requirement already satisfied: attrs in /usr/local/lib/python3.6/dist-packages (from uszipcode) (19.1.0)\n",
      "Collecting pathlib-mate (from uszipcode)\n",
      "\u001b[?25l  Downloading https://files.pythonhosted.org/packages/ff/f2/a1e6044fe90784e7bbc05286f2e8616aa2ff167f7275f5a6f2df479092c0/pathlib_mate-0.0.15-py2.py3-none-any.whl (195kB)\n",
      "\u001b[K    100% |████████████████████████████████| 204kB 7.9MB/s \n",
      "\u001b[?25hRequirement already satisfied: urllib3<1.23,>=1.21.1 in /usr/local/lib/python3.6/dist-packages (from requests->uszipcode) (1.22)\n",
      "Requirement already satisfied: chardet<3.1.0,>=3.0.2 in /usr/local/lib/python3.6/dist-packages (from requests->uszipcode) (3.0.4)\n",
      "Requirement already satisfied: idna<2.7,>=2.5 in /usr/local/lib/python3.6/dist-packages (from requests->uszipcode) (2.6)\n",
      "Requirement already satisfied: certifi>=2017.4.17 in /usr/local/lib/python3.6/dist-packages (from requests->uszipcode) (2018.11.29)\n",
      "Collecting autopep8 (from pathlib-mate->uszipcode)\n",
      "\u001b[?25l  Downloading https://files.pythonhosted.org/packages/5b/ba/37d30e4263c51ee5a655118ac8c331e96a4e45fd4cea876a74b87af9ffc1/autopep8-1.4.3.tar.gz (113kB)\n",
      "\u001b[K    100% |████████████████████████████████| 122kB 30.0MB/s \n",
      "\u001b[?25hRequirement already satisfied: six in /usr/local/lib/python3.6/dist-packages (from pathlib-mate->uszipcode) (1.11.0)\n",
      "Collecting pycodestyle>=2.4.0 (from autopep8->pathlib-mate->uszipcode)\n",
      "\u001b[?25l  Downloading https://files.pythonhosted.org/packages/0e/0c/04a353e104d2f324f8ee5f4b32012618c1c86dd79e52a433b64fceed511b/pycodestyle-2.5.0-py2.py3-none-any.whl (51kB)\n",
      "\u001b[K    100% |████████████████████████████████| 51kB 18.5MB/s \n",
      "\u001b[?25hBuilding wheels for collected packages: autopep8\n",
      "  Building wheel for autopep8 (setup.py) ... \u001b[?25ldone\n",
      "\u001b[?25h  Stored in directory: /root/.cache/pip/wheels/91/07/fd/99884826d575c769102ddec2f9b96c7ad57cc6b5ca3a5e02b4\n",
      "Successfully built autopep8\n",
      "Installing collected packages: pycodestyle, autopep8, pathlib-mate, uszipcode\n",
      "Successfully installed autopep8-1.4.3 pathlib-mate-0.0.15 pycodestyle-2.5.0 uszipcode-0.2.2\n"
     ]
    }
   ],
   "source": [
    "! pip install uszipcode"
   ]
  },
  {
   "cell_type": "markdown",
   "metadata": {
    "colab_type": "text",
    "id": "m272Z1gpd3EC"
   },
   "source": []
  },
  {
   "cell_type": "code",
   "execution_count": 57,
   "metadata": {
    "colab": {
     "base_uri": "https://localhost:8080/",
     "height": 218
    },
    "colab_type": "code",
    "id": "QOX1U99cfWCV",
    "outputId": "91a50903-d06a-4b6d-e167-f1003f3981d8"
   },
   "outputs": [
    {
     "name": "stdout",
     "output_type": "stream",
     "text": [
      "Start downloading data for simple zipcode database, total size 9MB ...\n",
      "  1 MB finished ...\n",
      "  2 MB finished ...\n",
      "  3 MB finished ...\n",
      "  4 MB finished ...\n",
      "  5 MB finished ...\n",
      "  6 MB finished ...\n",
      "  7 MB finished ...\n",
      "  8 MB finished ...\n",
      "  9 MB finished ...\n",
      "  10 MB finished ...\n",
      "  Complete!\n"
     ]
    }
   ],
   "source": [
    "from uszipcode import SearchEngine, SimpleZipcode, Zipcode\n",
    "search=SearchEngine()"
   ]
  },
  {
   "cell_type": "code",
   "execution_count": 0,
   "metadata": {
    "colab": {},
    "colab_type": "code",
    "collapsed": true,
    "id": "o2YwqrQcfiIo"
   },
   "outputs": [],
   "source": [
    "a=cleaned['zip.code']\n",
    "b = search.by_zipcode(a)"
   ]
  },
  {
   "cell_type": "code",
   "execution_count": 0,
   "metadata": {
    "colab": {},
    "colab_type": "code",
    "collapsed": true,
    "id": "UVKt1HXZgYej"
   },
   "outputs": [],
   "source": [
    "b=SimpleZipcode(zipcode=a)"
   ]
  },
  {
   "cell_type": "code",
   "execution_count": 0,
   "metadata": {
    "colab": {},
    "colab_type": "code",
    "collapsed": true,
    "id": "2AfK967MmMxF"
   },
   "outputs": [],
   "source": [
    "cleaned['zip.code']=cleaned['zip.code'].astype('int64',inplace=True)"
   ]
  },
  {
   "cell_type": "code",
   "execution_count": 0,
   "metadata": {
    "colab": {},
    "colab_type": "code",
    "collapsed": true,
    "id": "UQzeOf5qknCW"
   },
   "outputs": [],
   "source": [
    "cleaned['state'] = cleaned['zip.code'][0:4].apply(search.by_zipcode)\n",
    "cleaned['state']=search.by_zipcode(cleaned['zip.code']).state_abbr\n"
   ]
  },
  {
   "cell_type": "code",
   "execution_count": 96,
   "metadata": {
    "colab": {
     "base_uri": "https://localhost:8080/",
     "height": 34
    },
    "colab_type": "code",
    "id": "zhivFJtXo5_l",
    "outputId": "04f7e5a1-6a0d-4eed-8173-6ba4017f6eb4"
   },
   "outputs": [
    {
     "data": {
      "text/plain": [
       "85017"
      ]
     },
     "execution_count": 96,
     "metadata": {
      "tags": []
     },
     "output_type": "execute_result"
    }
   ],
   "source": [
    "cleaned['zip.code'][1]"
   ]
  },
  {
   "cell_type": "code",
   "execution_count": 0,
   "metadata": {
    "colab": {},
    "colab_type": "code",
    "collapsed": true,
    "id": "FYZZN95dotkP"
   },
   "outputs": [],
   "source": [
    "\n",
    "def statename(x):\n",
    "  return search.by_zipcode(x).state_abbr\n",
    "  \n",
    "cleaned['state']=cleaned['zip.code'].apply(statename)\n"
   ]
  },
  {
   "cell_type": "code",
   "execution_count": 115,
   "metadata": {
    "colab": {
     "base_uri": "https://localhost:8080/",
     "height": 54
    },
    "colab_type": "code",
    "id": "v_HTSCDvuBZG",
    "outputId": "b18fa226-5748-4704-9cf3-a16c7c8ef288"
   },
   "outputs": [
    {
     "name": "stdout",
     "output_type": "stream",
     "text": [
      "['WA', 'AZ', 'CO', 'AZ', 'IA', 'PA', 'AZ', 'IA', 'CO', 'PA', 'PA', 'PA', 'IA', 'VA', 'PA', 'CO', 'IA', 'PA', 'AZ', 'PA', 'VA', 'IA', 'CO', 'AZ', 'WA', 'CO', 'AZ', 'CO', 'AZ', 'CO']\n"
     ]
    }
   ],
   "source": [
    "a = []\n",
    "for x in cleaned['zip.code'][0:30]:\n",
    "    y = search.by_zipcode(x).state_abbr\n",
    "    a.append(y)\n",
    "print(a)"
   ]
  },
  {
   "cell_type": "code",
   "execution_count": 0,
   "metadata": {
    "colab": {},
    "colab_type": "code",
    "collapsed": true,
    "id": "fh95uRpsvnQU"
   },
   "outputs": [],
   "source": []
  },
  {
   "cell_type": "code",
   "execution_count": 0,
   "metadata": {
    "colab": {},
    "colab_type": "code",
    "collapsed": true,
    "id": "fRbky_IhutCl"
   },
   "outputs": [],
   "source": [
    "b=pd.Series(a)\n",
    "cleaned['state']=b"
   ]
  },
  {
   "cell_type": "code",
   "execution_count": 123,
   "metadata": {
    "colab": {
     "base_uri": "https://localhost:8080/",
     "height": 1058
    },
    "colab_type": "code",
    "id": "BzMzVBW0qozp",
    "outputId": "0290e158-1f37-490b-febf-9e027b68c60e"
   },
   "outputs": [
    {
     "data": {
      "text/plain": [
       "0          WA\n",
       "1          AZ\n",
       "2          CO\n",
       "3          AZ\n",
       "4          IA\n",
       "5          PA\n",
       "6          AZ\n",
       "7          IA\n",
       "8          CO\n",
       "9          PA\n",
       "10         PA\n",
       "11         PA\n",
       "12         IA\n",
       "13         VA\n",
       "14         PA\n",
       "15         CO\n",
       "18         IA\n",
       "19         PA\n",
       "20         AZ\n",
       "21         PA\n",
       "22         VA\n",
       "23         IA\n",
       "24         CO\n",
       "25         AZ\n",
       "26         WA\n",
       "27         CO\n",
       "28         AZ\n",
       "29         CO\n",
       "30         AZ\n",
       "31         CO\n",
       "           ..\n",
       "1048545    IA\n",
       "1048546    PA\n",
       "1048547    AZ\n",
       "1048548    PA\n",
       "1048549    IA\n",
       "1048550    IA\n",
       "1048551    AZ\n",
       "1048552    WA\n",
       "1048553    AZ\n",
       "1048554    IA\n",
       "1048555    PA\n",
       "1048556    AZ\n",
       "1048557    WA\n",
       "1048558    IA\n",
       "1048559    AZ\n",
       "1048560    WA\n",
       "1048561    CO\n",
       "1048562    CO\n",
       "1048563    CO\n",
       "1048564    PA\n",
       "1048565    CO\n",
       "1048566    AZ\n",
       "1048567    PA\n",
       "1048568    PA\n",
       "1048569    IA\n",
       "1048570    IA\n",
       "1048571    PA\n",
       "1048572    CO\n",
       "1048573    PA\n",
       "1048574    IA\n",
       "Name: state, Length: 1025272, dtype: object"
      ]
     },
     "execution_count": 123,
     "metadata": {
      "tags": []
     },
     "output_type": "execute_result"
    }
   ],
   "source": [
    "\n",
    "cleaned['state']"
   ]
  },
  {
   "cell_type": "code",
   "execution_count": 125,
   "metadata": {
    "colab": {
     "base_uri": "https://localhost:8080/",
     "height": 118
    },
    "colab_type": "code",
    "id": "-7MeIWfAoMyX",
    "outputId": "bc2811ad-cf06-4eed-e30e-8b807b840d7c"
   },
   "outputs": [
    {
     "data": {
      "text/plain": [
       "Counter({'AZ': 236473,\n",
       "         'CO': 194656,\n",
       "         'IA': 276128,\n",
       "         'PA': 153958,\n",
       "         'VA': 50944,\n",
       "         'WA': 113113})"
      ]
     },
     "execution_count": 125,
     "metadata": {
      "tags": []
     },
     "output_type": "execute_result"
    }
   ],
   "source": [
    "from collections import Counter\n",
    "Counter(cleaned['state'])"
   ]
  },
  {
   "cell_type": "code",
   "execution_count": 165,
   "metadata": {
    "colab": {
     "base_uri": "https://localhost:8080/",
     "height": 215
    },
    "colab_type": "code",
    "id": "ZQt4qT9F7Zfn",
    "outputId": "fe1a386e-a3ed-4980-a5ae-de30dbf28a74"
   },
   "outputs": [
    {
     "data": {
      "text/html": [
       "<div>\n",
       "<style scoped>\n",
       "    .dataframe tbody tr th:only-of-type {\n",
       "        vertical-align: middle;\n",
       "    }\n",
       "\n",
       "    .dataframe tbody tr th {\n",
       "        vertical-align: top;\n",
       "    }\n",
       "\n",
       "    .dataframe thead th {\n",
       "        text-align: right;\n",
       "    }\n",
       "</style>\n",
       "<table border=\"1\" class=\"dataframe\">\n",
       "  <thead>\n",
       "    <tr style=\"text-align: right;\">\n",
       "      <th></th>\n",
       "      <th>id</th>\n",
       "      <th>year</th>\n",
       "      <th>zip.code</th>\n",
       "      <th>house.color</th>\n",
       "      <th>ni.age</th>\n",
       "      <th>len.at.res</th>\n",
       "      <th>credit</th>\n",
       "      <th>coverage.type</th>\n",
       "      <th>dwelling.type</th>\n",
       "      <th>premium</th>\n",
       "      <th>sales.channel</th>\n",
       "      <th>ni.gender</th>\n",
       "      <th>ni.marital.status</th>\n",
       "      <th>n.adults</th>\n",
       "      <th>n.children</th>\n",
       "      <th>tenure</th>\n",
       "      <th>claim.ind</th>\n",
       "    </tr>\n",
       "  </thead>\n",
       "  <tbody>\n",
       "    <tr>\n",
       "      <th>0</th>\n",
       "      <td>1526523</td>\n",
       "      <td>2017</td>\n",
       "      <td>80031.0</td>\n",
       "      <td>blue</td>\n",
       "      <td>59.0</td>\n",
       "      <td>20.000000</td>\n",
       "      <td>high</td>\n",
       "      <td>B</td>\n",
       "      <td>House</td>\n",
       "      <td>838.462391</td>\n",
       "      <td>Broker</td>\n",
       "      <td>M</td>\n",
       "      <td>1.0</td>\n",
       "      <td>1.0</td>\n",
       "      <td>0.0</td>\n",
       "      <td>11.0</td>\n",
       "      <td>0.0</td>\n",
       "    </tr>\n",
       "    <tr>\n",
       "      <th>1</th>\n",
       "      <td>1526524</td>\n",
       "      <td>2017</td>\n",
       "      <td>98022.0</td>\n",
       "      <td>blue</td>\n",
       "      <td>58.0</td>\n",
       "      <td>13.000000</td>\n",
       "      <td>high</td>\n",
       "      <td>B</td>\n",
       "      <td>House</td>\n",
       "      <td>959.605385</td>\n",
       "      <td>Phone</td>\n",
       "      <td>F</td>\n",
       "      <td>1.0</td>\n",
       "      <td>1.0</td>\n",
       "      <td>0.0</td>\n",
       "      <td>22.0</td>\n",
       "      <td>1.0</td>\n",
       "    </tr>\n",
       "    <tr>\n",
       "      <th>2</th>\n",
       "      <td>1526525</td>\n",
       "      <td>2017</td>\n",
       "      <td>80006.0</td>\n",
       "      <td>red</td>\n",
       "      <td>40.0</td>\n",
       "      <td>9.000000</td>\n",
       "      <td>high</td>\n",
       "      <td>A</td>\n",
       "      <td>House</td>\n",
       "      <td>920.011662</td>\n",
       "      <td>Broker</td>\n",
       "      <td>F</td>\n",
       "      <td>1.0</td>\n",
       "      <td>3.0</td>\n",
       "      <td>1.0</td>\n",
       "      <td>12.0</td>\n",
       "      <td>0.0</td>\n",
       "    </tr>\n",
       "    <tr>\n",
       "      <th>3</th>\n",
       "      <td>1526526</td>\n",
       "      <td>2017</td>\n",
       "      <td>50046.0</td>\n",
       "      <td>yellow</td>\n",
       "      <td>47.0</td>\n",
       "      <td>17.000000</td>\n",
       "      <td>high</td>\n",
       "      <td>C</td>\n",
       "      <td>Tenant</td>\n",
       "      <td>880.057645</td>\n",
       "      <td>Broker</td>\n",
       "      <td>M</td>\n",
       "      <td>0.0</td>\n",
       "      <td>2.0</td>\n",
       "      <td>0.0</td>\n",
       "      <td>18.0</td>\n",
       "      <td>0.0</td>\n",
       "    </tr>\n",
       "    <tr>\n",
       "      <th>4</th>\n",
       "      <td>1526527</td>\n",
       "      <td>2017</td>\n",
       "      <td>50041.0</td>\n",
       "      <td>blue</td>\n",
       "      <td>39.0</td>\n",
       "      <td>15.658047</td>\n",
       "      <td>low</td>\n",
       "      <td>C</td>\n",
       "      <td>Condo</td>\n",
       "      <td>959.333546</td>\n",
       "      <td>Broker</td>\n",
       "      <td>F</td>\n",
       "      <td>1.0</td>\n",
       "      <td>2.0</td>\n",
       "      <td>6.0</td>\n",
       "      <td>17.0</td>\n",
       "      <td>0.0</td>\n",
       "    </tr>\n",
       "  </tbody>\n",
       "</table>\n",
       "</div>"
      ],
      "text/plain": [
       "        id  year  zip.code house.color  ni.age  len.at.res credit  \\\n",
       "0  1526523  2017   80031.0        blue    59.0   20.000000   high   \n",
       "1  1526524  2017   98022.0        blue    58.0   13.000000   high   \n",
       "2  1526525  2017   80006.0         red    40.0    9.000000   high   \n",
       "3  1526526  2017   50046.0      yellow    47.0   17.000000   high   \n",
       "4  1526527  2017   50041.0        blue    39.0   15.658047    low   \n",
       "\n",
       "  coverage.type dwelling.type     premium sales.channel ni.gender  \\\n",
       "0             B         House  838.462391        Broker         M   \n",
       "1             B         House  959.605385         Phone         F   \n",
       "2             A         House  920.011662        Broker         F   \n",
       "3             C        Tenant  880.057645        Broker         M   \n",
       "4             C         Condo  959.333546        Broker         F   \n",
       "\n",
       "   ni.marital.status  n.adults  n.children  tenure  claim.ind  \n",
       "0                1.0       1.0         0.0    11.0        0.0  \n",
       "1                1.0       1.0         0.0    22.0        1.0  \n",
       "2                1.0       3.0         1.0    12.0        0.0  \n",
       "3                0.0       2.0         0.0    18.0        0.0  \n",
       "4                1.0       2.0         6.0    17.0        0.0  "
      ]
     },
     "execution_count": 165,
     "metadata": {
      "tags": []
     },
     "output_type": "execute_result"
    }
   ],
   "source": [
    "testdata=pd.read_csv('test.csv')\n",
    "testdata.head()"
   ]
  },
  {
   "cell_type": "code",
   "execution_count": 0,
   "metadata": {
    "colab": {},
    "colab_type": "code",
    "collapsed": true,
    "id": "EgtLPJdS7kOf"
   },
   "outputs": [],
   "source": [
    "\n",
    "testdata['zip.code']=testdata['zip.code'].astype('int64',inplace=True)\n",
    "testdata['state']=testdata['zip.code'].apply(statename)"
   ]
  },
  {
   "cell_type": "code",
   "execution_count": 0,
   "metadata": {
    "colab": {},
    "colab_type": "code",
    "collapsed": true,
    "id": "dNgPjZwO09bY"
   },
   "outputs": [],
   "source": [
    "test=cleaned[cleaned['state']=='AZ']\n"
   ]
  },
  {
   "cell_type": "code",
   "execution_count": 164,
   "metadata": {
    "colab": {
     "base_uri": "https://localhost:8080/",
     "height": 364
    },
    "colab_type": "code",
    "id": "0drLfPsQ30bA",
    "outputId": "3305e180-d952-42fb-ae9d-dd6335028b65"
   },
   "outputs": [
    {
     "data": {
      "text/plain": [
       "<matplotlib.axes._subplots.AxesSubplot at 0x7fa8232de3c8>"
      ]
     },
     "execution_count": 164,
     "metadata": {
      "tags": []
     },
     "output_type": "execute_result"
    },
    {
     "data": {
      "image/png": "iVBORw0KGgoAAAANSUhEUgAAAe8AAAFKCAYAAAA0WNeQAAAABHNCSVQICAgIfAhkiAAAAAlwSFlz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\nQ7wBADCGeAMAYMz/A7iCVE76emNYAAAAAElFTkSuQmCC\n",
      "text/plain": [
       "<Figure size 576x396 with 1 Axes>"
      ]
     },
     "metadata": {
      "tags": []
     },
     "output_type": "display_data"
    }
   ],
   "source": [
    "Counter(test['year'])\n",
    "cleaned['year'].value_counts(sort=True).hist()"
   ]
  },
  {
   "cell_type": "code",
   "execution_count": 83,
   "metadata": {
    "colab": {
     "base_uri": "https://localhost:8080/",
     "height": 34
    },
    "colab_type": "code",
    "id": "Mk9KvB-RmEgg",
    "outputId": "a181be37-38fb-4d9a-887b-0832be6c26ea"
   },
   "outputs": [
    {
     "data": {
      "text/plain": [
       "'AZ'"
      ]
     },
     "execution_count": 83,
     "metadata": {
      "tags": []
     },
     "output_type": "execute_result"
    }
   ],
   "source": [
    "search.by_zipcode(85077).state_abbr"
   ]
  },
  {
   "cell_type": "code",
   "execution_count": 160,
   "metadata": {
    "colab": {
     "base_uri": "https://localhost:8080/",
     "height": 162
    },
    "colab_type": "code",
    "id": "-DL1g8e15ktJ",
    "outputId": "c68e1598-2fc5-448c-dba0-50b231f356e1"
   },
   "outputs": [
    {
     "ename": "AttributeError",
     "evalue": "ignored",
     "output_type": "error",
     "traceback": [
      "\u001b[0;31m---------------------------------------------------------------------------\u001b[0m",
      "\u001b[0;31mAttributeError\u001b[0m                            Traceback (most recent call last)",
      "\u001b[0;32m<ipython-input-160-8c201f9ee59e>\u001b[0m in \u001b[0;36m<module>\u001b[0;34m()\u001b[0m\n\u001b[0;32m----> 1\u001b[0;31m \u001b[0mcleaned\u001b[0m\u001b[0;34m[\u001b[0m\u001b[0;34m'year'\u001b[0m\u001b[0;34m]\u001b[0m\u001b[0;34m.\u001b[0m\u001b[0mvalue_counts\u001b[0m\u001b[0;34m.\u001b[0m\u001b[0mhist\u001b[0m\u001b[0;34m\u001b[0m\u001b[0;34m\u001b[0m\u001b[0m\n\u001b[0m",
      "\u001b[0;31mAttributeError\u001b[0m: 'function' object has no attribute 'hist'"
     ]
    }
   ],
   "source": [
    "cleaned['year'].value_counts.hist"
   ]
  },
  {
   "cell_type": "code",
   "execution_count": 0,
   "metadata": {
    "colab": {},
    "colab_type": "code",
    "id": "9ez7tCpSd3EI",
    "outputId": "a177a732-f937-4614-c894-c0749d99fcb8"
   },
   "outputs": [
    {
     "data": {
      "text/plain": [
       "dtype('int64')"
      ]
     },
     "execution_count": 114,
     "metadata": {
      "tags": []
     },
     "output_type": "execute_result"
    }
   ],
   "source": [
    "zipCode = cleaned['zip.code'].astype('int64')\n",
    "zipCode.dtype"
   ]
  },
  {
   "cell_type": "code",
   "execution_count": 0,
   "metadata": {
    "colab": {},
    "colab_type": "code",
    "id": "Xh-nC-Ocd3EJ",
    "outputId": "c9815dd8-255c-4bbc-af60-2d3dc4a2b027"
   },
   "outputs": [
    {
     "data": {
      "text/plain": [
       "0    98004\n",
       "1    85017\n",
       "2    80021\n",
       "3    85002\n",
       "4    50001\n",
       "Name: zip.code, dtype: int64"
      ]
     },
     "execution_count": 115,
     "metadata": {
      "tags": []
     },
     "output_type": "execute_result"
    }
   ],
   "source": [
    "zipCode[0:5]"
   ]
  },
  {
   "cell_type": "code",
   "execution_count": 0,
   "metadata": {
    "colab": {},
    "colab_type": "code",
    "collapsed": true,
    "id": "12vRLp9ld3EM"
   },
   "outputs": [],
   "source": [
    "def zipCode_to_state(number):\n",
    "    zipcode = zcdb[number]\n",
    "    return zipcode.state"
   ]
  },
  {
   "cell_type": "code",
   "execution_count": 0,
   "metadata": {
    "colab": {},
    "colab_type": "code",
    "id": "ERBm7blCd3EN",
    "outputId": "6b02041f-b38b-42cb-9fcc-0318c652f1c5"
   },
   "outputs": [
    {
     "ename": "NameError",
     "evalue": "name 'zcdb' is not defined",
     "output_type": "error",
     "traceback": [
      "\u001b[1;31m---------------------------------------------------------------------------\u001b[0m",
      "\u001b[1;31mNameError\u001b[0m                                 Traceback (most recent call last)",
      "\u001b[1;32m<ipython-input-6-9cba79bd6582>\u001b[0m in \u001b[0;36m<module>\u001b[1;34m()\u001b[0m\n\u001b[1;32m----> 1\u001b[1;33m \u001b[0mzipCode_to_state\u001b[0m\u001b[1;33m(\u001b[0m\u001b[1;36m12345\u001b[0m\u001b[1;33m)\u001b[0m\u001b[1;33m\u001b[0m\u001b[0m\n\u001b[0m",
      "\u001b[1;32m<ipython-input-5-335418f36e5b>\u001b[0m in \u001b[0;36mzipCode_to_state\u001b[1;34m(number)\u001b[0m\n\u001b[0;32m      1\u001b[0m \u001b[1;32mdef\u001b[0m \u001b[0mzipCode_to_state\u001b[0m\u001b[1;33m(\u001b[0m\u001b[0mnumber\u001b[0m\u001b[1;33m)\u001b[0m\u001b[1;33m:\u001b[0m\u001b[1;33m\u001b[0m\u001b[0m\n\u001b[1;32m----> 2\u001b[1;33m     \u001b[0mzipcode\u001b[0m \u001b[1;33m=\u001b[0m \u001b[0mzcdb\u001b[0m\u001b[1;33m[\u001b[0m\u001b[0mnumber\u001b[0m\u001b[1;33m]\u001b[0m\u001b[1;33m\u001b[0m\u001b[0m\n\u001b[0m\u001b[0;32m      3\u001b[0m     \u001b[1;32mreturn\u001b[0m \u001b[0mzipcode\u001b[0m\u001b[1;33m.\u001b[0m\u001b[0mstate\u001b[0m\u001b[1;33m\u001b[0m\u001b[0m\n",
      "\u001b[1;31mNameError\u001b[0m: name 'zcdb' is not defined"
     ]
    }
   ],
   "source": [
    "zipCode_to_state(12345)"
   ]
  },
  {
   "cell_type": "code",
   "execution_count": 0,
   "metadata": {
    "colab": {},
    "colab_type": "code",
    "id": "OCN0SEWRd3EQ",
    "outputId": "ff87ed8f-d7a4-452c-a2ca-05db30b13ed3"
   },
   "outputs": [
    {
     "ename": "IndexError",
     "evalue": "Couldn't find ZIP",
     "output_type": "error",
     "traceback": [
      "\u001b[0;31m---------------------------------------------------------------------------\u001b[0m",
      "\u001b[0;31mIndexError\u001b[0m                                Traceback (most recent call last)",
      "\u001b[0;32m<ipython-input-139-5a0d7af46b14>\u001b[0m in \u001b[0;36m<module>\u001b[0;34m\u001b[0m\n\u001b[0;32m----> 1\u001b[0;31m \u001b[0mstate\u001b[0m \u001b[0;34m=\u001b[0m \u001b[0mzipCode\u001b[0m\u001b[0;34m[\u001b[0m\u001b[0;36m70\u001b[0m\u001b[0;34m:\u001b[0m\u001b[0;36m73\u001b[0m\u001b[0;34m]\u001b[0m\u001b[0;34m.\u001b[0m\u001b[0mapply\u001b[0m\u001b[0;34m(\u001b[0m\u001b[0mzipCode_to_state\u001b[0m\u001b[0;34m)\u001b[0m \u001b[0;31m# , axis=1  := additional argument\u001b[0m\u001b[0;34m\u001b[0m\u001b[0;34m\u001b[0m\u001b[0m\n\u001b[0m\u001b[1;32m      2\u001b[0m \u001b[0mstate\u001b[0m\u001b[0;34m\u001b[0m\u001b[0;34m\u001b[0m\u001b[0m\n",
      "\u001b[0;32m/anaconda3/envs/py_3_6/lib/python3.6/site-packages/pandas/core/series.py\u001b[0m in \u001b[0;36mapply\u001b[0;34m(self, func, convert_dtype, args, **kwds)\u001b[0m\n\u001b[1;32m   3192\u001b[0m             \u001b[0;32melse\u001b[0m\u001b[0;34m:\u001b[0m\u001b[0;34m\u001b[0m\u001b[0;34m\u001b[0m\u001b[0m\n\u001b[1;32m   3193\u001b[0m                 \u001b[0mvalues\u001b[0m \u001b[0;34m=\u001b[0m \u001b[0mself\u001b[0m\u001b[0;34m.\u001b[0m\u001b[0mastype\u001b[0m\u001b[0;34m(\u001b[0m\u001b[0mobject\u001b[0m\u001b[0;34m)\u001b[0m\u001b[0;34m.\u001b[0m\u001b[0mvalues\u001b[0m\u001b[0;34m\u001b[0m\u001b[0;34m\u001b[0m\u001b[0m\n\u001b[0;32m-> 3194\u001b[0;31m                 \u001b[0mmapped\u001b[0m \u001b[0;34m=\u001b[0m \u001b[0mlib\u001b[0m\u001b[0;34m.\u001b[0m\u001b[0mmap_infer\u001b[0m\u001b[0;34m(\u001b[0m\u001b[0mvalues\u001b[0m\u001b[0;34m,\u001b[0m \u001b[0mf\u001b[0m\u001b[0;34m,\u001b[0m \u001b[0mconvert\u001b[0m\u001b[0;34m=\u001b[0m\u001b[0mconvert_dtype\u001b[0m\u001b[0;34m)\u001b[0m\u001b[0;34m\u001b[0m\u001b[0;34m\u001b[0m\u001b[0m\n\u001b[0m\u001b[1;32m   3195\u001b[0m \u001b[0;34m\u001b[0m\u001b[0m\n\u001b[1;32m   3196\u001b[0m         \u001b[0;32mif\u001b[0m \u001b[0mlen\u001b[0m\u001b[0;34m(\u001b[0m\u001b[0mmapped\u001b[0m\u001b[0;34m)\u001b[0m \u001b[0;32mand\u001b[0m \u001b[0misinstance\u001b[0m\u001b[0;34m(\u001b[0m\u001b[0mmapped\u001b[0m\u001b[0;34m[\u001b[0m\u001b[0;36m0\u001b[0m\u001b[0;34m]\u001b[0m\u001b[0;34m,\u001b[0m \u001b[0mSeries\u001b[0m\u001b[0;34m)\u001b[0m\u001b[0;34m:\u001b[0m\u001b[0;34m\u001b[0m\u001b[0;34m\u001b[0m\u001b[0m\n",
      "\u001b[0;32mpandas/_libs/src/inference.pyx\u001b[0m in \u001b[0;36mpandas._libs.lib.map_infer\u001b[0;34m()\u001b[0m\n",
      "\u001b[0;32m<ipython-input-116-335418f36e5b>\u001b[0m in \u001b[0;36mzipCode_to_state\u001b[0;34m(number)\u001b[0m\n\u001b[1;32m      1\u001b[0m \u001b[0;32mdef\u001b[0m \u001b[0mzipCode_to_state\u001b[0m\u001b[0;34m(\u001b[0m\u001b[0mnumber\u001b[0m\u001b[0;34m)\u001b[0m\u001b[0;34m:\u001b[0m\u001b[0;34m\u001b[0m\u001b[0;34m\u001b[0m\u001b[0m\n\u001b[0;32m----> 2\u001b[0;31m     \u001b[0mzipcode\u001b[0m \u001b[0;34m=\u001b[0m \u001b[0mzcdb\u001b[0m\u001b[0;34m[\u001b[0m\u001b[0mnumber\u001b[0m\u001b[0;34m]\u001b[0m\u001b[0;34m\u001b[0m\u001b[0;34m\u001b[0m\u001b[0m\n\u001b[0m\u001b[1;32m      3\u001b[0m     \u001b[0;32mreturn\u001b[0m \u001b[0mzipcode\u001b[0m\u001b[0;34m.\u001b[0m\u001b[0mstate\u001b[0m\u001b[0;34m\u001b[0m\u001b[0;34m\u001b[0m\u001b[0m\n",
      "\u001b[0;32m/anaconda3/envs/py_3_6/lib/python3.6/site-packages/pyzipcode/__init__.py\u001b[0m in \u001b[0;36m__getitem__\u001b[0;34m(self, zip_code)\u001b[0m\n\u001b[1;32m    108\u001b[0m         \u001b[0mzip_code\u001b[0m \u001b[0;34m=\u001b[0m \u001b[0mself\u001b[0m\u001b[0;34m.\u001b[0m\u001b[0mget\u001b[0m\u001b[0;34m(\u001b[0m\u001b[0mstr\u001b[0m\u001b[0;34m(\u001b[0m\u001b[0mzip_code\u001b[0m\u001b[0;34m)\u001b[0m\u001b[0;34m)\u001b[0m\u001b[0;34m\u001b[0m\u001b[0;34m\u001b[0m\u001b[0m\n\u001b[1;32m    109\u001b[0m         \u001b[0;32mif\u001b[0m \u001b[0mzip_code\u001b[0m \u001b[0;32mis\u001b[0m \u001b[0;32mNone\u001b[0m\u001b[0;34m:\u001b[0m\u001b[0;34m\u001b[0m\u001b[0;34m\u001b[0m\u001b[0m\n\u001b[0;32m--> 110\u001b[0;31m             \u001b[0;32mraise\u001b[0m \u001b[0mIndexError\u001b[0m\u001b[0;34m(\u001b[0m\u001b[0;34m\"Couldn't find ZIP\"\u001b[0m\u001b[0;34m)\u001b[0m\u001b[0;34m\u001b[0m\u001b[0;34m\u001b[0m\u001b[0m\n\u001b[0m\u001b[1;32m    111\u001b[0m         \u001b[0;32melse\u001b[0m\u001b[0;34m:\u001b[0m\u001b[0;34m\u001b[0m\u001b[0;34m\u001b[0m\u001b[0m\n\u001b[1;32m    112\u001b[0m             \u001b[0;32mreturn\u001b[0m \u001b[0mzip_code\u001b[0m\u001b[0;34m[\u001b[0m\u001b[0;36m0\u001b[0m\u001b[0;34m]\u001b[0m\u001b[0;34m\u001b[0m\u001b[0;34m\u001b[0m\u001b[0m\n",
      "\u001b[0;31mIndexError\u001b[0m: Couldn't find ZIP"
     ]
    }
   ],
   "source": [
    "state = zipCode[70:73].apply(zipCode_to_state) # , axis=1  := additional argument\n",
    "state"
   ]
  },
  {
   "cell_type": "code",
   "execution_count": 0,
   "metadata": {
    "colab": {},
    "colab_type": "code",
    "id": "6rDTmYaud3ER",
    "outputId": "a5bebc89-6842-4545-b6ed-b547ba9f4c9d"
   },
   "outputs": [
    {
     "data": {
      "text/plain": [
       "75    50057\n",
       "76    50036\n",
       "77    85077\n",
       "Name: zip.code, dtype: int64"
      ]
     },
     "execution_count": 149,
     "metadata": {
      "tags": []
     },
     "output_type": "execute_result"
    }
   ],
   "source": [
    "zipCode[70:73] # 85077 is invalid"
   ]
  },
  {
   "cell_type": "code",
   "execution_count": 0,
   "metadata": {
    "colab": {},
    "colab_type": "code",
    "id": "l6jdLiMYd3ET",
    "outputId": "cefb1358-3030-495e-ad03-c47d7e541065"
   },
   "outputs": [
    {
     "ename": "IndexError",
     "evalue": "Couldn't find ZIP",
     "output_type": "error",
     "traceback": [
      "\u001b[0;31m---------------------------------------------------------------------------\u001b[0m",
      "\u001b[0;31mIndexError\u001b[0m                                Traceback (most recent call last)",
      "\u001b[0;32m<ipython-input-154-68368d121950>\u001b[0m in \u001b[0;36m<module>\u001b[0;34m\u001b[0m\n\u001b[0;32m----> 1\u001b[0;31m \u001b[0mzipCode_to_state\u001b[0m\u001b[0;34m(\u001b[0m\u001b[0;36m85077\u001b[0m\u001b[0;34m)\u001b[0m\u001b[0;34m.\u001b[0m\u001b[0mdtype\u001b[0m\u001b[0;34m\u001b[0m\u001b[0;34m\u001b[0m\u001b[0m\n\u001b[0m",
      "\u001b[0;32m<ipython-input-116-335418f36e5b>\u001b[0m in \u001b[0;36mzipCode_to_state\u001b[0;34m(number)\u001b[0m\n\u001b[1;32m      1\u001b[0m \u001b[0;32mdef\u001b[0m \u001b[0mzipCode_to_state\u001b[0m\u001b[0;34m(\u001b[0m\u001b[0mnumber\u001b[0m\u001b[0;34m)\u001b[0m\u001b[0;34m:\u001b[0m\u001b[0;34m\u001b[0m\u001b[0;34m\u001b[0m\u001b[0m\n\u001b[0;32m----> 2\u001b[0;31m     \u001b[0mzipcode\u001b[0m \u001b[0;34m=\u001b[0m \u001b[0mzcdb\u001b[0m\u001b[0;34m[\u001b[0m\u001b[0mnumber\u001b[0m\u001b[0;34m]\u001b[0m\u001b[0;34m\u001b[0m\u001b[0;34m\u001b[0m\u001b[0m\n\u001b[0m\u001b[1;32m      3\u001b[0m     \u001b[0;32mreturn\u001b[0m \u001b[0mzipcode\u001b[0m\u001b[0;34m.\u001b[0m\u001b[0mstate\u001b[0m\u001b[0;34m\u001b[0m\u001b[0;34m\u001b[0m\u001b[0m\n",
      "\u001b[0;32m/anaconda3/envs/py_3_6/lib/python3.6/site-packages/pyzipcode/__init__.py\u001b[0m in \u001b[0;36m__getitem__\u001b[0;34m(self, zip_code)\u001b[0m\n\u001b[1;32m    108\u001b[0m         \u001b[0mzip_code\u001b[0m \u001b[0;34m=\u001b[0m \u001b[0mself\u001b[0m\u001b[0;34m.\u001b[0m\u001b[0mget\u001b[0m\u001b[0;34m(\u001b[0m\u001b[0mstr\u001b[0m\u001b[0;34m(\u001b[0m\u001b[0mzip_code\u001b[0m\u001b[0;34m)\u001b[0m\u001b[0;34m)\u001b[0m\u001b[0;34m\u001b[0m\u001b[0;34m\u001b[0m\u001b[0m\n\u001b[1;32m    109\u001b[0m         \u001b[0;32mif\u001b[0m \u001b[0mzip_code\u001b[0m \u001b[0;32mis\u001b[0m \u001b[0;32mNone\u001b[0m\u001b[0;34m:\u001b[0m\u001b[0;34m\u001b[0m\u001b[0;34m\u001b[0m\u001b[0m\n\u001b[0;32m--> 110\u001b[0;31m             \u001b[0;32mraise\u001b[0m \u001b[0mIndexError\u001b[0m\u001b[0;34m(\u001b[0m\u001b[0;34m\"Couldn't find ZIP\"\u001b[0m\u001b[0;34m)\u001b[0m\u001b[0;34m\u001b[0m\u001b[0;34m\u001b[0m\u001b[0m\n\u001b[0m\u001b[1;32m    111\u001b[0m         \u001b[0;32melse\u001b[0m\u001b[0;34m:\u001b[0m\u001b[0;34m\u001b[0m\u001b[0;34m\u001b[0m\u001b[0m\n\u001b[1;32m    112\u001b[0m             \u001b[0;32mreturn\u001b[0m \u001b[0mzip_code\u001b[0m\u001b[0;34m[\u001b[0m\u001b[0;36m0\u001b[0m\u001b[0;34m]\u001b[0m\u001b[0;34m\u001b[0m\u001b[0;34m\u001b[0m\u001b[0m\n",
      "\u001b[0;31mIndexError\u001b[0m: Couldn't find ZIP"
     ]
    }
   ],
   "source": [
    "zipCode_to_state(85077)"
   ]
  },
  {
   "cell_type": "code",
   "execution_count": 0,
   "metadata": {
    "colab": {},
    "colab_type": "code",
    "collapsed": true,
    "id": "-g-TM5aKd3EW"
   },
   "outputs": [],
   "source": []
  },
  {
   "cell_type": "code",
   "execution_count": 0,
   "metadata": {
    "colab": {},
    "colab_type": "code",
    "id": "OA_M0wcAd3EX",
    "outputId": "8e05efc0-2640-4b03-bf55-e65c50ac98c0"
   },
   "outputs": [
    {
     "ename": "IndexError",
     "evalue": "Couldn't find ZIP",
     "output_type": "error",
     "traceback": [
      "\u001b[0;31m---------------------------------------------------------------------------\u001b[0m",
      "\u001b[0;31mIndexError\u001b[0m                                Traceback (most recent call last)",
      "\u001b[0;32m<ipython-input-168-cdc6cca1efcb>\u001b[0m in \u001b[0;36m<module>\u001b[0;34m\u001b[0m\n\u001b[0;32m----> 1\u001b[0;31m \u001b[0mzcdb\u001b[0m\u001b[0;34m[\u001b[0m\u001b[0;36m85077\u001b[0m\u001b[0;34m]\u001b[0m\u001b[0;34m\u001b[0m\u001b[0;34m\u001b[0m\u001b[0m\n\u001b[0m",
      "\u001b[0;32m/anaconda3/envs/py_3_6/lib/python3.6/site-packages/pyzipcode/__init__.py\u001b[0m in \u001b[0;36m__getitem__\u001b[0;34m(self, zip_code)\u001b[0m\n\u001b[1;32m    108\u001b[0m         \u001b[0mzip_code\u001b[0m \u001b[0;34m=\u001b[0m \u001b[0mself\u001b[0m\u001b[0;34m.\u001b[0m\u001b[0mget\u001b[0m\u001b[0;34m(\u001b[0m\u001b[0mstr\u001b[0m\u001b[0;34m(\u001b[0m\u001b[0mzip_code\u001b[0m\u001b[0;34m)\u001b[0m\u001b[0;34m)\u001b[0m\u001b[0;34m\u001b[0m\u001b[0;34m\u001b[0m\u001b[0m\n\u001b[1;32m    109\u001b[0m         \u001b[0;32mif\u001b[0m \u001b[0mzip_code\u001b[0m \u001b[0;32mis\u001b[0m \u001b[0;32mNone\u001b[0m\u001b[0;34m:\u001b[0m\u001b[0;34m\u001b[0m\u001b[0;34m\u001b[0m\u001b[0m\n\u001b[0;32m--> 110\u001b[0;31m             \u001b[0;32mraise\u001b[0m \u001b[0mIndexError\u001b[0m\u001b[0;34m(\u001b[0m\u001b[0;34m\"Couldn't find ZIP\"\u001b[0m\u001b[0;34m)\u001b[0m\u001b[0;34m\u001b[0m\u001b[0;34m\u001b[0m\u001b[0m\n\u001b[0m\u001b[1;32m    111\u001b[0m         \u001b[0;32melse\u001b[0m\u001b[0;34m:\u001b[0m\u001b[0;34m\u001b[0m\u001b[0;34m\u001b[0m\u001b[0m\n\u001b[1;32m    112\u001b[0m             \u001b[0;32mreturn\u001b[0m \u001b[0mzip_code\u001b[0m\u001b[0;34m[\u001b[0m\u001b[0;36m0\u001b[0m\u001b[0;34m]\u001b[0m\u001b[0;34m\u001b[0m\u001b[0;34m\u001b[0m\u001b[0m\n",
      "\u001b[0;31mIndexError\u001b[0m: Couldn't find ZIP"
     ]
    }
   ],
   "source": [
    "zcdb[85077]"
   ]
  },
  {
   "cell_type": "code",
   "execution_count": 0,
   "metadata": {
    "colab": {},
    "colab_type": "code",
    "collapsed": true,
    "id": "YMPlUaLQd3EZ"
   },
   "outputs": [],
   "source": []
  },
  {
   "cell_type": "code",
   "execution_count": 0,
   "metadata": {
    "colab": {},
    "colab_type": "code",
    "collapsed": true,
    "id": "5bgtpiZ7d3Eb"
   },
   "outputs": [],
   "source": []
  },
  {
   "cell_type": "code",
   "execution_count": 0,
   "metadata": {
    "colab": {},
    "colab_type": "code",
    "collapsed": true,
    "id": "iw7uZshjd3Ee"
   },
   "outputs": [],
   "source": []
  },
  {
   "cell_type": "code",
   "execution_count": 0,
   "metadata": {
    "colab": {},
    "colab_type": "code",
    "collapsed": true,
    "id": "UrD4fQfKd3Ef"
   },
   "outputs": [],
   "source": []
  },
  {
   "cell_type": "code",
   "execution_count": 0,
   "metadata": {
    "colab": {},
    "colab_type": "code",
    "collapsed": true,
    "id": "vGWpNIHfd3Eh"
   },
   "outputs": [],
   "source": []
  },
  {
   "cell_type": "code",
   "execution_count": 0,
   "metadata": {
    "colab": {},
    "colab_type": "code",
    "collapsed": true,
    "id": "eXi131p3d3Ej"
   },
   "outputs": [],
   "source": []
  },
  {
   "cell_type": "code",
   "execution_count": 0,
   "metadata": {
    "colab": {},
    "colab_type": "code",
    "collapsed": true,
    "id": "YgNEGNp1d3Em"
   },
   "outputs": [],
   "source": []
  },
  {
   "cell_type": "code",
   "execution_count": 0,
   "metadata": {
    "colab": {},
    "colab_type": "code",
    "collapsed": true,
    "id": "yT5V3e-Ld3Eo"
   },
   "outputs": [],
   "source": []
  },
  {
   "cell_type": "code",
   "execution_count": 0,
   "metadata": {
    "colab": {},
    "colab_type": "code",
    "collapsed": true,
    "id": "CCZHpdpvd3Ep"
   },
   "outputs": [],
   "source": []
  },
  {
   "cell_type": "code",
   "execution_count": 0,
   "metadata": {
    "colab": {},
    "colab_type": "code",
    "collapsed": true,
    "id": "rG641R_5d3Eq"
   },
   "outputs": [],
   "source": []
  },
  {
   "cell_type": "code",
   "execution_count": 0,
   "metadata": {
    "colab": {},
    "colab_type": "code",
    "collapsed": true,
    "id": "goStNnJnd3Et"
   },
   "outputs": [],
   "source": []
  },
  {
   "cell_type": "code",
   "execution_count": 0,
   "metadata": {
    "colab": {},
    "colab_type": "code",
    "collapsed": true,
    "id": "t8mbowGvd3Eu"
   },
   "outputs": [],
   "source": []
  },
  {
   "cell_type": "code",
   "execution_count": 0,
   "metadata": {
    "colab": {},
    "colab_type": "code",
    "id": "C3OtjOMld3Ew",
    "outputId": "41c5a9ec-0b73-44d7-eda3-98949029e208"
   },
   "outputs": [
    {
     "name": "stdout",
     "output_type": "stream",
     "text": [
      "Collecting pyzipcode3\n",
      "  Using cached https://files.pythonhosted.org/packages/20/c2/6c7c02454f4f9b760ecd908808ef2fd32a0c297dd4a239cfe4a49efa0373/pyzipcode3-2.2-py2.py3-none-any.whl\n",
      "Installing collected packages: pyzipcode3\n",
      "Successfully installed pyzipcode3-2.2\n"
     ]
    }
   ],
   "source": [
    "import sys\n",
    "!{sys.executable} -m pip install pyzipcode3"
   ]
  },
  {
   "cell_type": "code",
   "execution_count": 0,
   "metadata": {
    "colab": {},
    "colab_type": "code",
    "id": "8WRwNPFwd3Ey",
    "outputId": "c2db0f3c-956a-4010-f79c-c29afb4c8dbc"
   },
   "outputs": [
    {
     "name": "stdout",
     "output_type": "stream",
     "text": [
      "\n",
      "Here is a list of modules whose name or summary contains 'pyzip'.\n",
      "If there are any, enter a module name to get more help.\n",
      "\n",
      "pyzipcode \n",
      "pyzipcode.settings \n",
      "pyzipcode.tests \n",
      "\n"
     ]
    }
   ],
   "source": [
    "#help(\"modules\")\n",
    "help(\"modules pyzip\")"
   ]
  },
  {
   "cell_type": "code",
   "execution_count": 0,
   "metadata": {
    "colab": {},
    "colab_type": "code",
    "collapsed": true,
    "id": "sSJoI6Kod3E2"
   },
   "outputs": [],
   "source": []
  },
  {
   "cell_type": "code",
   "execution_count": 0,
   "metadata": {
    "colab": {},
    "colab_type": "code",
    "collapsed": true,
    "id": "Yk9EuU6bd3E7"
   },
   "outputs": [],
   "source": []
  },
  {
   "cell_type": "code",
   "execution_count": 0,
   "metadata": {
    "colab": {},
    "colab_type": "code",
    "collapsed": true,
    "id": "UYl0RgtAd3E8"
   },
   "outputs": [],
   "source": []
  },
  {
   "cell_type": "code",
   "execution_count": 0,
   "metadata": {
    "colab": {},
    "colab_type": "code",
    "collapsed": true,
    "id": "Fnveo_4od3E-"
   },
   "outputs": [],
   "source": []
  },
  {
   "cell_type": "code",
   "execution_count": 0,
   "metadata": {
    "colab": {},
    "colab_type": "code",
    "collapsed": true,
    "id": "yGmiE3oGd3FA"
   },
   "outputs": [],
   "source": []
  },
  {
   "cell_type": "code",
   "execution_count": 0,
   "metadata": {
    "colab": {},
    "colab_type": "code",
    "collapsed": true,
    "id": "ORiDtVxzd3FC"
   },
   "outputs": [],
   "source": []
  },
  {
   "cell_type": "code",
   "execution_count": 0,
   "metadata": {
    "colab": {},
    "colab_type": "code",
    "collapsed": true,
    "id": "F1xTXR3Pd3FF"
   },
   "outputs": [],
   "source": []
  },
  {
   "cell_type": "code",
   "execution_count": 0,
   "metadata": {
    "colab": {},
    "colab_type": "code",
    "collapsed": true,
    "id": "k0z-H8ZZd3FG"
   },
   "outputs": [],
   "source": []
  },
  {
   "cell_type": "code",
   "execution_count": 0,
   "metadata": {
    "colab": {},
    "colab_type": "code",
    "collapsed": true,
    "id": "lFQbnPXcd3FI"
   },
   "outputs": [],
   "source": []
  },
  {
   "cell_type": "code",
   "execution_count": 0,
   "metadata": {
    "colab": {},
    "colab_type": "code",
    "collapsed": true,
    "id": "Cl0uxDTdd3FL"
   },
   "outputs": [],
   "source": []
  },
  {
   "cell_type": "code",
   "execution_count": 0,
   "metadata": {
    "colab": {},
    "colab_type": "code",
    "collapsed": true,
    "id": "GwAbFhbnd3FM"
   },
   "outputs": [],
   "source": []
  },
  {
   "cell_type": "code",
   "execution_count": 0,
   "metadata": {
    "colab": {},
    "colab_type": "code",
    "collapsed": true,
    "id": "9EOzMeagd3FO"
   },
   "outputs": [],
   "source": []
  },
  {
   "cell_type": "code",
   "execution_count": 0,
   "metadata": {
    "colab": {},
    "colab_type": "code",
    "collapsed": true,
    "id": "gUA0y9m-d3FP"
   },
   "outputs": [],
   "source": []
  },
  {
   "cell_type": "code",
   "execution_count": 0,
   "metadata": {
    "colab": {},
    "colab_type": "code",
    "collapsed": true,
    "id": "QVBeKpZTd3FR"
   },
   "outputs": [],
   "source": []
  },
  {
   "cell_type": "markdown",
   "metadata": {
    "colab_type": "text",
    "id": "Lz-wLXMDOGCW"
   },
   "source": [
    "# XGBoost"
   ]
  },
  {
   "cell_type": "code",
   "execution_count": 0,
   "metadata": {
    "colab": {},
    "colab_type": "code",
    "collapsed": true,
    "id": "NSJ0tnhaOGCX"
   },
   "outputs": [],
   "source": [
    "# drop object\n",
    "df = cleaned.drop(['house.color','credit','coverage.type','dwelling.type','sales.channel','ni.gender'], 1)"
   ]
  },
  {
   "cell_type": "code",
   "execution_count": 0,
   "metadata": {
    "colab": {
     "base_uri": "https://localhost:8080/",
     "height": 224
    },
    "colab_type": "code",
    "id": "nCA5OmQQOGCa",
    "outputId": "61a8aa36-d8ff-4ae7-893e-6b509c3a4dd3"
   },
   "outputs": [
    {
     "data": {
      "text/html": [
       "<div>\n",
       "<style scoped>\n",
       "    .dataframe tbody tr th:only-of-type {\n",
       "        vertical-align: middle;\n",
       "    }\n",
       "\n",
       "    .dataframe tbody tr th {\n",
       "        vertical-align: top;\n",
       "    }\n",
       "\n",
       "    .dataframe thead th {\n",
       "        text-align: right;\n",
       "    }\n",
       "</style>\n",
       "<table border=\"1\" class=\"dataframe\">\n",
       "  <thead>\n",
       "    <tr style=\"text-align: right;\">\n",
       "      <th></th>\n",
       "      <th>cancel</th>\n",
       "      <th>year</th>\n",
       "      <th>zip.code</th>\n",
       "      <th>ni.age</th>\n",
       "      <th>len.at.res</th>\n",
       "      <th>premium</th>\n",
       "      <th>ni.marital.status</th>\n",
       "      <th>n.adults</th>\n",
       "      <th>n.children</th>\n",
       "      <th>tenure</th>\n",
       "      <th>claim.ind</th>\n",
       "    </tr>\n",
       "  </thead>\n",
       "  <tbody>\n",
       "    <tr>\n",
       "      <th>0</th>\n",
       "      <td>0</td>\n",
       "      <td>2013</td>\n",
       "      <td>98004.0</td>\n",
       "      <td>37.0</td>\n",
       "      <td>18.000000</td>\n",
       "      <td>950.507336</td>\n",
       "      <td>0.0</td>\n",
       "      <td>2.0</td>\n",
       "      <td>0.0</td>\n",
       "      <td>15.0</td>\n",
       "      <td>0.0</td>\n",
       "    </tr>\n",
       "    <tr>\n",
       "      <th>1</th>\n",
       "      <td>0</td>\n",
       "      <td>2013</td>\n",
       "      <td>85017.0</td>\n",
       "      <td>40.0</td>\n",
       "      <td>17.000000</td>\n",
       "      <td>909.346046</td>\n",
       "      <td>1.0</td>\n",
       "      <td>5.0</td>\n",
       "      <td>0.0</td>\n",
       "      <td>15.0</td>\n",
       "      <td>0.0</td>\n",
       "    </tr>\n",
       "    <tr>\n",
       "      <th>2</th>\n",
       "      <td>0</td>\n",
       "      <td>2013</td>\n",
       "      <td>80021.0</td>\n",
       "      <td>45.0</td>\n",
       "      <td>14.000000</td>\n",
       "      <td>897.084502</td>\n",
       "      <td>0.0</td>\n",
       "      <td>1.0</td>\n",
       "      <td>0.0</td>\n",
       "      <td>14.0</td>\n",
       "      <td>0.0</td>\n",
       "    </tr>\n",
       "    <tr>\n",
       "      <th>3</th>\n",
       "      <td>0</td>\n",
       "      <td>2013</td>\n",
       "      <td>85002.0</td>\n",
       "      <td>45.0</td>\n",
       "      <td>24.366136</td>\n",
       "      <td>979.039007</td>\n",
       "      <td>0.0</td>\n",
       "      <td>5.0</td>\n",
       "      <td>0.0</td>\n",
       "      <td>22.0</td>\n",
       "      <td>1.0</td>\n",
       "    </tr>\n",
       "    <tr>\n",
       "      <th>4</th>\n",
       "      <td>0</td>\n",
       "      <td>2013</td>\n",
       "      <td>50001.0</td>\n",
       "      <td>36.0</td>\n",
       "      <td>16.000000</td>\n",
       "      <td>932.379027</td>\n",
       "      <td>1.0</td>\n",
       "      <td>2.0</td>\n",
       "      <td>4.0</td>\n",
       "      <td>4.0</td>\n",
       "      <td>0.0</td>\n",
       "    </tr>\n",
       "  </tbody>\n",
       "</table>\n",
       "</div>"
      ],
      "text/plain": [
       "   cancel  year  zip.code  ni.age  len.at.res     premium  ni.marital.status  \\\n",
       "0       0  2013   98004.0    37.0   18.000000  950.507336                0.0   \n",
       "1       0  2013   85017.0    40.0   17.000000  909.346046                1.0   \n",
       "2       0  2013   80021.0    45.0   14.000000  897.084502                0.0   \n",
       "3       0  2013   85002.0    45.0   24.366136  979.039007                0.0   \n",
       "4       0  2013   50001.0    36.0   16.000000  932.379027                1.0   \n",
       "\n",
       "   n.adults  n.children  tenure  claim.ind  \n",
       "0       2.0         0.0    15.0        0.0  \n",
       "1       5.0         0.0    15.0        0.0  \n",
       "2       1.0         0.0    14.0        0.0  \n",
       "3       5.0         0.0    22.0        1.0  \n",
       "4       2.0         4.0     4.0        0.0  "
      ]
     },
     "execution_count": 23,
     "metadata": {
      "tags": []
     },
     "output_type": "execute_result"
    }
   ],
   "source": [
    "df.head()"
   ]
  },
  {
   "cell_type": "code",
   "execution_count": 0,
   "metadata": {
    "colab": {},
    "colab_type": "code",
    "collapsed": true,
    "id": "tNLtZTcCOGCd"
   },
   "outputs": [],
   "source": [
    "X, y = df.iloc[:,2:],df.iloc[:,:1]"
   ]
  },
  {
   "cell_type": "code",
   "execution_count": 0,
   "metadata": {
    "colab": {},
    "colab_type": "code",
    "collapsed": true,
    "id": "6VX6j5-LOGCf"
   },
   "outputs": [],
   "source": [
    "from sklearn.model_selection import train_test_split\n",
    "X_train, X_test, y_train, y_test = train_test_split(X, y, test_size=0.2, random_state=1)"
   ]
  },
  {
   "cell_type": "code",
   "execution_count": 0,
   "metadata": {
    "colab": {},
    "colab_type": "code",
    "collapsed": true,
    "id": "p93h-zr5OGCi"
   },
   "outputs": [],
   "source": [
    "import xgboost as xgb"
   ]
  },
  {
   "cell_type": "code",
   "execution_count": 0,
   "metadata": {
    "colab": {},
    "colab_type": "code",
    "collapsed": true,
    "id": "ETPazho3d3Fa"
   },
   "outputs": [],
   "source": [
    "import os\n",
    "os.environ['KMP_DUPLICATE_LIB_OK']='True'\n",
    "from xgboost import XGBClassifier"
   ]
  },
  {
   "cell_type": "code",
   "execution_count": 0,
   "metadata": {
    "colab": {},
    "colab_type": "code",
    "collapsed": true,
    "id": "Mwcuw2TyOGCl"
   },
   "outputs": [],
   "source": [
    "data_train = xgb.DMatrix(X_train, y_train)  # 使用XGBoost的原生版本需要对数据进行转化\n",
    "data_test = xgb.DMatrix(X_test, y_test)"
   ]
  },
  {
   "cell_type": "code",
   "execution_count": 0,
   "metadata": {
    "colab": {},
    "colab_type": "code",
    "collapsed": true,
    "id": "54Nx6N-aOGC0"
   },
   "outputs": [],
   "source": [
    "param = {'max_depth': 5, 'eta': 1, 'objective': 'binary:logistic'}\n",
    "watchlist = [(data_test, 'test'), (data_train, 'train')]\n",
    "n_round = 3\n",
    "booster = xgb.train(param, data_train, num_boost_round=n_round, evals=watchlist)"
   ]
  },
  {
   "cell_type": "code",
   "execution_count": 0,
   "metadata": {
    "colab": {},
    "colab_type": "code",
    "collapsed": true,
    "id": "iJJrpPgXOGC3"
   },
   "outputs": [],
   "source": [
    "# error rate\n",
    "pred = booster.predict(data_test)\n",
    "y = data_test.get_label()"
   ]
  },
  {
   "cell_type": "code",
   "execution_count": 0,
   "metadata": {
    "colab": {
     "base_uri": "https://localhost:8080/",
     "height": 34
    },
    "colab_type": "code",
    "id": "VJo73MV_RGe3",
    "outputId": "0864ffe3-35c8-44f9-bb73-5dcbc396fb9c"
   },
   "outputs": [
    {
     "data": {
      "text/plain": [
       "0.6317438226619856"
      ]
     },
     "execution_count": 56,
     "metadata": {
      "tags": []
     },
     "output_type": "execute_result"
    }
   ],
   "source": [
    "from sklearn import metrics\n",
    "fpr, tpr, thresholds = metrics.roc_curve(y, pred, pos_label=1)\n",
    "metrics.auc(fpr, tpr)"
   ]
  },
  {
   "cell_type": "code",
   "execution_count": 1,
   "metadata": {
    "colab": {},
    "colab_type": "code",
    "collapsed": true,
    "id": "DjSe1rrvRj2D"
   },
   "outputs": [],
   "source": [
    "#yo"
   ]
  },
  {
   "cell_type": "code",
   "execution_count": 2,
   "metadata": {},
   "outputs": [
    {
     "ename": "NameError",
     "evalue": "name 'df' is not defined",
     "output_type": "error",
     "traceback": [
      "\u001b[0;31m---------------------------------------------------------------------------\u001b[0m",
      "\u001b[0;31mNameError\u001b[0m                                 Traceback (most recent call last)",
      "\u001b[0;32m<ipython-input-2-89148ddff993>\u001b[0m in \u001b[0;36m<module>\u001b[0;34m()\u001b[0m\n\u001b[0;32m----> 1\u001b[0;31m \u001b[0mdf\u001b[0m\u001b[0;34m.\u001b[0m\u001b[0mhead\u001b[0m\u001b[0;34m\u001b[0m\u001b[0m\n\u001b[0m",
      "\u001b[0;31mNameError\u001b[0m: name 'df' is not defined"
     ]
    }
   ],
   "source": [
    "df.head"
   ]
  },
  {
   "cell_type": "code",
   "execution_count": null,
   "metadata": {
    "collapsed": true
   },
   "outputs": [],
   "source": [
    "#yoyo"
   ]
  }
 ],
 "metadata": {
  "colab": {
   "collapsed_sections": [
    "Lz-wLXMDOGCW"
   ],
   "name": "Untitled.ipynb",
   "provenance": [],
   "toc_visible": true,
   "version": "0.3.2"
  },
  "kernelspec": {
   "display_name": "Python 3",
   "language": "python",
   "name": "python3"
  },
  "language_info": {
   "codemirror_mode": {
    "name": "ipython",
    "version": 3
   },
   "file_extension": ".py",
   "mimetype": "text/x-python",
   "name": "python",
   "nbconvert_exporter": "python",
   "pygments_lexer": "ipython3",
<<<<<<< HEAD
   "version": "3.6.7"
=======
   "version": "3.6.3"
>>>>>>> 1404c498fef655fa80b9e7610667a7bee9254e91
  }
 },
 "nbformat": 4,
 "nbformat_minor": 1
}
