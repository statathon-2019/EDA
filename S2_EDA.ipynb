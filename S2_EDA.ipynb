{
 "cells": [
  {
   "cell_type": "markdown",
   "metadata": {
    "colab_type": "text",
    "id": "hDh82L-FNDY3"
   },
   "source": [
    "# New csv Import"
   ]
  },
  {
   "cell_type": "code",
   "execution_count": 290,
   "metadata": {
    "colab": {},
    "colab_type": "code",
    "id": "WiOQKyZFNDY8"
   },
   "outputs": [],
   "source": [
    "import numpy as np\n",
    "import pandas as pd\n",
    "import matplotlib as plt"
   ]
  },
  {
   "cell_type": "code",
   "execution_count": 291,
   "metadata": {
    "colab": {
     "base_uri": "https://localhost:8080/",
     "height": 34
    },
    "colab_type": "code",
    "executionInfo": {
     "elapsed": 2792,
     "status": "ok",
     "timestamp": 1552927852659,
     "user": {
      "displayName": "Shengjun Wang",
      "photoUrl": "",
      "userId": "04953405560919249117"
     },
     "user_tz": 240
    },
    "id": "rDgvkbhhNDZZ",
    "outputId": "4569714c-f7ef-43c9-d28d-faa2f2f6cc30"
   },
   "outputs": [
    {
     "name": "stdout",
     "output_type": "stream",
     "text": [
      "(1025272, 19)\n"
     ]
    }
   ],
   "source": [
    "df=pd.read_csv('cleaned.csv')\n",
    "print(df.shape)"
   ]
  },
  {
   "cell_type": "code",
   "execution_count": 292,
   "metadata": {},
   "outputs": [
    {
     "data": {
      "text/html": [
       "<div>\n",
       "<style scoped>\n",
       "    .dataframe tbody tr th:only-of-type {\n",
       "        vertical-align: middle;\n",
       "    }\n",
       "\n",
       "    .dataframe tbody tr th {\n",
       "        vertical-align: top;\n",
       "    }\n",
       "\n",
       "    .dataframe thead th {\n",
       "        text-align: right;\n",
       "    }\n",
       "</style>\n",
       "<table border=\"1\" class=\"dataframe\">\n",
       "  <thead>\n",
       "    <tr style=\"text-align: right;\">\n",
       "      <th></th>\n",
       "      <th>Unnamed: 0</th>\n",
       "      <th>cancel</th>\n",
       "      <th>year</th>\n",
       "      <th>zip.code</th>\n",
       "      <th>house.color</th>\n",
       "      <th>ni.age</th>\n",
       "      <th>len.at.res</th>\n",
       "      <th>credit</th>\n",
       "      <th>coverage.type</th>\n",
       "      <th>dwelling.type</th>\n",
       "      <th>premium</th>\n",
       "      <th>sales.channel</th>\n",
       "      <th>ni.gender</th>\n",
       "      <th>ni.marital.status</th>\n",
       "      <th>n.adults</th>\n",
       "      <th>n.children</th>\n",
       "      <th>tenure</th>\n",
       "      <th>claim.ind</th>\n",
       "      <th>state</th>\n",
       "    </tr>\n",
       "  </thead>\n",
       "  <tbody>\n",
       "    <tr>\n",
       "      <th>0</th>\n",
       "      <td>0</td>\n",
       "      <td>0</td>\n",
       "      <td>2013</td>\n",
       "      <td>98004.0</td>\n",
       "      <td>blue</td>\n",
       "      <td>37.0</td>\n",
       "      <td>18.000000</td>\n",
       "      <td>high</td>\n",
       "      <td>C</td>\n",
       "      <td>Tenant</td>\n",
       "      <td>950.507336</td>\n",
       "      <td>Broker</td>\n",
       "      <td>F</td>\n",
       "      <td>0.0</td>\n",
       "      <td>2.0</td>\n",
       "      <td>0.0</td>\n",
       "      <td>15.0</td>\n",
       "      <td>0.0</td>\n",
       "      <td>WA</td>\n",
       "    </tr>\n",
       "    <tr>\n",
       "      <th>1</th>\n",
       "      <td>1</td>\n",
       "      <td>0</td>\n",
       "      <td>2013</td>\n",
       "      <td>85017.0</td>\n",
       "      <td>white</td>\n",
       "      <td>40.0</td>\n",
       "      <td>17.000000</td>\n",
       "      <td>medium</td>\n",
       "      <td>A</td>\n",
       "      <td>Condo</td>\n",
       "      <td>909.346046</td>\n",
       "      <td>Broker</td>\n",
       "      <td>F</td>\n",
       "      <td>1.0</td>\n",
       "      <td>5.0</td>\n",
       "      <td>0.0</td>\n",
       "      <td>15.0</td>\n",
       "      <td>0.0</td>\n",
       "      <td>AZ</td>\n",
       "    </tr>\n",
       "    <tr>\n",
       "      <th>2</th>\n",
       "      <td>2</td>\n",
       "      <td>0</td>\n",
       "      <td>2013</td>\n",
       "      <td>80021.0</td>\n",
       "      <td>white</td>\n",
       "      <td>45.0</td>\n",
       "      <td>14.000000</td>\n",
       "      <td>high</td>\n",
       "      <td>A</td>\n",
       "      <td>House</td>\n",
       "      <td>897.084502</td>\n",
       "      <td>Phone</td>\n",
       "      <td>M</td>\n",
       "      <td>0.0</td>\n",
       "      <td>1.0</td>\n",
       "      <td>0.0</td>\n",
       "      <td>14.0</td>\n",
       "      <td>0.0</td>\n",
       "      <td>CO</td>\n",
       "    </tr>\n",
       "    <tr>\n",
       "      <th>3</th>\n",
       "      <td>3</td>\n",
       "      <td>0</td>\n",
       "      <td>2013</td>\n",
       "      <td>85002.0</td>\n",
       "      <td>red</td>\n",
       "      <td>45.0</td>\n",
       "      <td>24.366136</td>\n",
       "      <td>high</td>\n",
       "      <td>A</td>\n",
       "      <td>House</td>\n",
       "      <td>979.039007</td>\n",
       "      <td>Phone</td>\n",
       "      <td>M</td>\n",
       "      <td>0.0</td>\n",
       "      <td>5.0</td>\n",
       "      <td>0.0</td>\n",
       "      <td>22.0</td>\n",
       "      <td>1.0</td>\n",
       "      <td>AZ</td>\n",
       "    </tr>\n",
       "    <tr>\n",
       "      <th>4</th>\n",
       "      <td>4</td>\n",
       "      <td>0</td>\n",
       "      <td>2013</td>\n",
       "      <td>50001.0</td>\n",
       "      <td>yellow</td>\n",
       "      <td>36.0</td>\n",
       "      <td>16.000000</td>\n",
       "      <td>high</td>\n",
       "      <td>C</td>\n",
       "      <td>House</td>\n",
       "      <td>932.379027</td>\n",
       "      <td>Broker</td>\n",
       "      <td>M</td>\n",
       "      <td>1.0</td>\n",
       "      <td>2.0</td>\n",
       "      <td>4.0</td>\n",
       "      <td>4.0</td>\n",
       "      <td>0.0</td>\n",
       "      <td>IA</td>\n",
       "    </tr>\n",
       "  </tbody>\n",
       "</table>\n",
       "</div>"
      ],
      "text/plain": [
       "   Unnamed: 0  cancel  year  zip.code house.color  ni.age  len.at.res  credit  \\\n",
       "0           0       0  2013   98004.0        blue    37.0   18.000000    high   \n",
       "1           1       0  2013   85017.0       white    40.0   17.000000  medium   \n",
       "2           2       0  2013   80021.0       white    45.0   14.000000    high   \n",
       "3           3       0  2013   85002.0         red    45.0   24.366136    high   \n",
       "4           4       0  2013   50001.0      yellow    36.0   16.000000    high   \n",
       "\n",
       "  coverage.type dwelling.type     premium sales.channel ni.gender  \\\n",
       "0             C        Tenant  950.507336        Broker         F   \n",
       "1             A         Condo  909.346046        Broker         F   \n",
       "2             A         House  897.084502         Phone         M   \n",
       "3             A         House  979.039007         Phone         M   \n",
       "4             C         House  932.379027        Broker         M   \n",
       "\n",
       "   ni.marital.status  n.adults  n.children  tenure  claim.ind state  \n",
       "0                0.0       2.0         0.0    15.0        0.0    WA  \n",
       "1                1.0       5.0         0.0    15.0        0.0    AZ  \n",
       "2                0.0       1.0         0.0    14.0        0.0    CO  \n",
       "3                0.0       5.0         0.0    22.0        1.0    AZ  \n",
       "4                1.0       2.0         4.0     4.0        0.0    IA  "
      ]
     },
     "execution_count": 292,
     "metadata": {},
     "output_type": "execute_result"
    }
   ],
   "source": [
    "df.head()"
   ]
  },
  {
   "cell_type": "markdown",
   "metadata": {
    "colab_type": "text",
    "id": "jrK0tAEINDa7"
   },
   "source": [
    "# Compute Dummy Variables"
   ]
  },
  {
   "cell_type": "code",
   "execution_count": 293,
   "metadata": {},
   "outputs": [],
   "source": [
    "#one-hot编码: one-hot编码是一种对离散特征值的编码方式，在LR模型中常用到，用于给线性模型增加非线性能力。\n",
    "\n",
    "#from sklearn import preprocessing\n",
    "\n",
    "#data = [[0, 0, 3], [1, 1, 0], [0, 2, 1], [1, 0, 2]]\n",
    "#encoder = preprocessing.OneHotEncoder().fit(data)\n",
    "#encoder.transform(data).toarray()"
   ]
  },
  {
   "cell_type": "code",
   "execution_count": 294,
   "metadata": {
    "colab": {
     "base_uri": "https://localhost:8080/",
     "height": 357
    },
    "colab_type": "code",
    "executionInfo": {
     "elapsed": 2122,
     "status": "ok",
     "timestamp": 1552927852666,
     "user": {
      "displayName": "Shengjun Wang",
      "photoUrl": "",
      "userId": "04953405560919249117"
     },
     "user_tz": 240
    },
    "id": "0rkll5YUNDaq",
    "outputId": "8c797b55-07a4-49e5-fb74-0987e8e1955a"
   },
   "outputs": [
    {
     "data": {
      "text/plain": [
       "Unnamed: 0             int64\n",
       "cancel                 int64\n",
       "year                   int64\n",
       "zip.code             float64\n",
       "house.color           object\n",
       "ni.age               float64\n",
       "len.at.res           float64\n",
       "credit                object\n",
       "coverage.type         object\n",
       "dwelling.type         object\n",
       "premium              float64\n",
       "sales.channel         object\n",
       "ni.gender             object\n",
       "ni.marital.status    float64\n",
       "n.adults             float64\n",
       "n.children           float64\n",
       "tenure               float64\n",
       "claim.ind            float64\n",
       "state                 object\n",
       "dtype: object"
      ]
     },
     "execution_count": 294,
     "metadata": {},
     "output_type": "execute_result"
    }
   ],
   "source": [
    "df.dtypes"
   ]
  },
  {
   "cell_type": "code",
   "execution_count": 295,
   "metadata": {
    "colab": {},
    "colab_type": "code",
    "id": "Pn-l-sbTNDa9"
   },
   "outputs": [],
   "source": [
    "# continue表示跳过后面的程序，重新循环，而pass表示站位，后面的代码（else之前）还是会执行\n",
    "\n",
    "#for x in df.columns:\n",
    "#    if df[x].dtypes == 'object':\n",
    "#        print(x) \n",
    "#    else:\n",
    "#        continue"
   ]
  },
  {
   "cell_type": "code",
   "execution_count": 296,
   "metadata": {
    "colab": {
     "base_uri": "https://localhost:8080/",
     "height": 34
    },
    "colab_type": "code",
    "executionInfo": {
     "elapsed": 1885,
     "status": "ok",
     "timestamp": 1552927852675,
     "user": {
      "displayName": "Shengjun Wang",
      "photoUrl": "",
      "userId": "04953405560919249117"
     },
     "user_tz": 240
    },
    "id": "SZtnHA49NDbD",
    "outputId": "b04e1fbf-809c-4db7-84c2-dd76469e3865"
   },
   "outputs": [
    {
     "name": "stdout",
     "output_type": "stream",
     "text": [
      "['house.color', 'credit', 'coverage.type', 'dwelling.type', 'sales.channel', 'ni.gender', 'state']\n"
     ]
    }
   ],
   "source": [
    "objectList = []\n",
    "for x in df.columns:\n",
    "    if df[x].dtypes == 'object':\n",
    "        objectList.append(x)\n",
    "    else:\n",
    "        continue\n",
    "\n",
    "print(objectList)"
   ]
  },
  {
   "cell_type": "code",
   "execution_count": 297,
   "metadata": {
    "colab": {},
    "colab_type": "code",
    "id": "7KZ03mybNDbL"
   },
   "outputs": [],
   "source": [
    "dummyMatrix = pd.get_dummies(df[objectList])"
   ]
  },
  {
   "cell_type": "code",
   "execution_count": 298,
   "metadata": {
    "colab": {
     "base_uri": "https://localhost:8080/",
     "height": 253
    },
    "colab_type": "code",
    "executionInfo": {
     "elapsed": 2412,
     "status": "ok",
     "timestamp": 1552927853480,
     "user": {
      "displayName": "Shengjun Wang",
      "photoUrl": "",
      "userId": "04953405560919249117"
     },
     "user_tz": 240
    },
    "id": "OryzrW-ZNDbP",
    "outputId": "ad095300-16e8-4361-e3bd-361c8b064723"
   },
   "outputs": [
    {
     "data": {
      "text/html": [
       "<div>\n",
       "<style scoped>\n",
       "    .dataframe tbody tr th:only-of-type {\n",
       "        vertical-align: middle;\n",
       "    }\n",
       "\n",
       "    .dataframe tbody tr th {\n",
       "        vertical-align: top;\n",
       "    }\n",
       "\n",
       "    .dataframe thead th {\n",
       "        text-align: right;\n",
       "    }\n",
       "</style>\n",
       "<table border=\"1\" class=\"dataframe\">\n",
       "  <thead>\n",
       "    <tr style=\"text-align: right;\">\n",
       "      <th></th>\n",
       "      <th>house.color_blue</th>\n",
       "      <th>house.color_red</th>\n",
       "      <th>house.color_white</th>\n",
       "      <th>house.color_yellow</th>\n",
       "      <th>credit_high</th>\n",
       "      <th>credit_low</th>\n",
       "      <th>credit_medium</th>\n",
       "      <th>coverage.type_A</th>\n",
       "      <th>coverage.type_B</th>\n",
       "      <th>coverage.type_C</th>\n",
       "      <th>...</th>\n",
       "      <th>sales.channel_Online</th>\n",
       "      <th>sales.channel_Phone</th>\n",
       "      <th>ni.gender_F</th>\n",
       "      <th>ni.gender_M</th>\n",
       "      <th>state_AZ</th>\n",
       "      <th>state_CO</th>\n",
       "      <th>state_IA</th>\n",
       "      <th>state_PA</th>\n",
       "      <th>state_VA</th>\n",
       "      <th>state_WA</th>\n",
       "    </tr>\n",
       "  </thead>\n",
       "  <tbody>\n",
       "    <tr>\n",
       "      <th>0</th>\n",
       "      <td>1</td>\n",
       "      <td>0</td>\n",
       "      <td>0</td>\n",
       "      <td>0</td>\n",
       "      <td>1</td>\n",
       "      <td>0</td>\n",
       "      <td>0</td>\n",
       "      <td>0</td>\n",
       "      <td>0</td>\n",
       "      <td>1</td>\n",
       "      <td>...</td>\n",
       "      <td>0</td>\n",
       "      <td>0</td>\n",
       "      <td>1</td>\n",
       "      <td>0</td>\n",
       "      <td>0</td>\n",
       "      <td>0</td>\n",
       "      <td>0</td>\n",
       "      <td>0</td>\n",
       "      <td>0</td>\n",
       "      <td>1</td>\n",
       "    </tr>\n",
       "    <tr>\n",
       "      <th>1</th>\n",
       "      <td>0</td>\n",
       "      <td>0</td>\n",
       "      <td>1</td>\n",
       "      <td>0</td>\n",
       "      <td>0</td>\n",
       "      <td>0</td>\n",
       "      <td>1</td>\n",
       "      <td>1</td>\n",
       "      <td>0</td>\n",
       "      <td>0</td>\n",
       "      <td>...</td>\n",
       "      <td>0</td>\n",
       "      <td>0</td>\n",
       "      <td>1</td>\n",
       "      <td>0</td>\n",
       "      <td>1</td>\n",
       "      <td>0</td>\n",
       "      <td>0</td>\n",
       "      <td>0</td>\n",
       "      <td>0</td>\n",
       "      <td>0</td>\n",
       "    </tr>\n",
       "    <tr>\n",
       "      <th>2</th>\n",
       "      <td>0</td>\n",
       "      <td>0</td>\n",
       "      <td>1</td>\n",
       "      <td>0</td>\n",
       "      <td>1</td>\n",
       "      <td>0</td>\n",
       "      <td>0</td>\n",
       "      <td>1</td>\n",
       "      <td>0</td>\n",
       "      <td>0</td>\n",
       "      <td>...</td>\n",
       "      <td>0</td>\n",
       "      <td>1</td>\n",
       "      <td>0</td>\n",
       "      <td>1</td>\n",
       "      <td>0</td>\n",
       "      <td>1</td>\n",
       "      <td>0</td>\n",
       "      <td>0</td>\n",
       "      <td>0</td>\n",
       "      <td>0</td>\n",
       "    </tr>\n",
       "    <tr>\n",
       "      <th>3</th>\n",
       "      <td>0</td>\n",
       "      <td>1</td>\n",
       "      <td>0</td>\n",
       "      <td>0</td>\n",
       "      <td>1</td>\n",
       "      <td>0</td>\n",
       "      <td>0</td>\n",
       "      <td>1</td>\n",
       "      <td>0</td>\n",
       "      <td>0</td>\n",
       "      <td>...</td>\n",
       "      <td>0</td>\n",
       "      <td>1</td>\n",
       "      <td>0</td>\n",
       "      <td>1</td>\n",
       "      <td>1</td>\n",
       "      <td>0</td>\n",
       "      <td>0</td>\n",
       "      <td>0</td>\n",
       "      <td>0</td>\n",
       "      <td>0</td>\n",
       "    </tr>\n",
       "    <tr>\n",
       "      <th>4</th>\n",
       "      <td>0</td>\n",
       "      <td>0</td>\n",
       "      <td>0</td>\n",
       "      <td>1</td>\n",
       "      <td>1</td>\n",
       "      <td>0</td>\n",
       "      <td>0</td>\n",
       "      <td>0</td>\n",
       "      <td>0</td>\n",
       "      <td>1</td>\n",
       "      <td>...</td>\n",
       "      <td>0</td>\n",
       "      <td>0</td>\n",
       "      <td>0</td>\n",
       "      <td>1</td>\n",
       "      <td>0</td>\n",
       "      <td>0</td>\n",
       "      <td>1</td>\n",
       "      <td>0</td>\n",
       "      <td>0</td>\n",
       "      <td>0</td>\n",
       "    </tr>\n",
       "  </tbody>\n",
       "</table>\n",
       "<p>5 rows × 24 columns</p>\n",
       "</div>"
      ],
      "text/plain": [
       "   house.color_blue  house.color_red  house.color_white  house.color_yellow  \\\n",
       "0                 1                0                  0                   0   \n",
       "1                 0                0                  1                   0   \n",
       "2                 0                0                  1                   0   \n",
       "3                 0                1                  0                   0   \n",
       "4                 0                0                  0                   1   \n",
       "\n",
       "   credit_high  credit_low  credit_medium  coverage.type_A  coverage.type_B  \\\n",
       "0            1           0              0                0                0   \n",
       "1            0           0              1                1                0   \n",
       "2            1           0              0                1                0   \n",
       "3            1           0              0                1                0   \n",
       "4            1           0              0                0                0   \n",
       "\n",
       "   coverage.type_C    ...     sales.channel_Online  sales.channel_Phone  \\\n",
       "0                1    ...                        0                    0   \n",
       "1                0    ...                        0                    0   \n",
       "2                0    ...                        0                    1   \n",
       "3                0    ...                        0                    1   \n",
       "4                1    ...                        0                    0   \n",
       "\n",
       "   ni.gender_F  ni.gender_M  state_AZ  state_CO  state_IA  state_PA  state_VA  \\\n",
       "0            1            0         0         0         0         0         0   \n",
       "1            1            0         1         0         0         0         0   \n",
       "2            0            1         0         1         0         0         0   \n",
       "3            0            1         1         0         0         0         0   \n",
       "4            0            1         0         0         1         0         0   \n",
       "\n",
       "   state_WA  \n",
       "0         1  \n",
       "1         0  \n",
       "2         0  \n",
       "3         0  \n",
       "4         0  \n",
       "\n",
       "[5 rows x 24 columns]"
      ]
     },
     "execution_count": 298,
     "metadata": {},
     "output_type": "execute_result"
    }
   ],
   "source": [
    "dummyMatrix.head()"
   ]
  },
  {
   "cell_type": "code",
   "execution_count": 299,
   "metadata": {
    "colab": {
     "base_uri": "https://localhost:8080/",
     "height": 51
    },
    "colab_type": "code",
    "executionInfo": {
     "elapsed": 2482,
     "status": "ok",
     "timestamp": 1552927853837,
     "user": {
      "displayName": "Shengjun Wang",
      "photoUrl": "",
      "userId": "04953405560919249117"
     },
     "user_tz": 240
    },
    "id": "lTvOo8NhNDbU",
    "outputId": "1271cc03-0772-45ea-87ec-3c3befba4338"
   },
   "outputs": [
    {
     "name": "stdout",
     "output_type": "stream",
     "text": [
      "[7]\n",
      "(1025272, 24)\n"
     ]
    }
   ],
   "source": [
    "# quality check of 'dummyMatrix'\n",
    "print(np.sum(dummyMatrix, axis=1).unique())\n",
    "print(dummyMatrix.shape)"
   ]
  },
  {
   "cell_type": "code",
   "execution_count": 300,
   "metadata": {
    "colab": {},
    "colab_type": "code",
    "id": "s8bNCrNdNDbb"
   },
   "outputs": [],
   "source": [
    "# creat new df\n",
    "df = df.drop(objectList, 1)\n",
    "df = df.drop('Unnamed: 0', 1)\n",
    "df = df.drop('zip.code', 1)\n",
    "df = pd.concat([df, dummyMatrix], axis = 1)"
   ]
  },
  {
   "cell_type": "code",
   "execution_count": 301,
   "metadata": {
    "colab": {
     "base_uri": "https://localhost:8080/",
     "height": 34
    },
    "colab_type": "code",
    "executionInfo": {
     "elapsed": 2146,
     "status": "ok",
     "timestamp": 1552927853844,
     "user": {
      "displayName": "Shengjun Wang",
      "photoUrl": "",
      "userId": "04953405560919249117"
     },
     "user_tz": 240
    },
    "id": "3phl6W3iiRob",
    "outputId": "4f5d88b3-3078-4a08-9ad7-a16edee70889"
   },
   "outputs": [
    {
     "data": {
      "text/plain": [
       "(1025272, 34)"
      ]
     },
     "execution_count": 301,
     "metadata": {},
     "output_type": "execute_result"
    }
   ],
   "source": [
    "df.shape"
   ]
  },
  {
   "cell_type": "code",
   "execution_count": 302,
   "metadata": {
    "colab": {},
    "colab_type": "code",
    "id": "nfsiyR8xiRs2"
   },
   "outputs": [],
   "source": [
    "#df.head().transpose()"
   ]
  },
  {
   "cell_type": "code",
   "execution_count": 303,
   "metadata": {
    "colab": {},
    "colab_type": "code",
    "id": "EcIurtaqbvRL"
   },
   "outputs": [],
   "source": [
    "df = df.drop('year', 1)"
   ]
  },
  {
   "cell_type": "code",
   "execution_count": 304,
   "metadata": {},
   "outputs": [],
   "source": [
    "#https://github.com/scikit-learn-contrib/imbalanced-learn/blob/master/README.rst\n",
    "\n",
    "# https://elitedatascience.com/imbalanced-classes\n",
    "from sklearn.utils import resample\n",
    "\n",
    "# Separate majority and minority classes\n",
    "df_majority = df[df.cancel==0]\n",
    "df_minority = df[df.cancel==1]\n",
    " \n",
    "# Upsample minority class\n",
    "df_minority_upsampled = resample(df_minority, \n",
    "                                 replace=True,     # sample with replacement\n",
    "                                 n_samples=776729,    # to match majority class\n",
    "                                 random_state=123) # reproducible results\n",
    " \n",
    "# Combine majority class with upsampled minority class\n",
    "df_upsampled = pd.concat([df_majority, df_minority_upsampled])\n",
    " \n",
    "# Display new class counts\n",
    "df_upsampled.cancel.value_counts()\n",
    "# 1    776729\n",
    "# 0    776729\n",
    "# Name: balance, dtype: int64\n",
    "\n",
    "#print(df_upsampled.head())\n",
    "df = df_upsampled"
   ]
  },
  {
   "cell_type": "markdown",
   "metadata": {
    "colab_type": "text",
    "id": "x4sMFmp8Uq42"
   },
   "source": [
    "# Standardize Numerical Variable"
   ]
  },
  {
   "cell_type": "code",
   "execution_count": 305,
   "metadata": {
    "colab": {},
    "colab_type": "code",
    "id": "Vo3UIF0NNDb4"
   },
   "outputs": [],
   "source": [
    "from sklearn.model_selection import train_test_split\n",
    "X = df.drop('cancel', 1)\n",
    "y = df.cancel\n",
    "X_train, X_valid, y_train, y_valid = train_test_split(X, y, test_size=0.20, random_state=31)"
   ]
  },
  {
   "cell_type": "code",
   "execution_count": 306,
   "metadata": {},
   "outputs": [],
   "source": [
    "from sklearn.preprocessing import StandardScaler \n",
    "\n",
    "col_names = ['ni.age', 'len.at.res', 'premium','tenure']###,'n.adults', 'n.children']\n",
    "scaler = StandardScaler().fit(X_train_scaled[col_names].values)"
   ]
  },
  {
   "cell_type": "code",
   "execution_count": 307,
   "metadata": {},
   "outputs": [],
   "source": [
    "X_train_scaled = X_train.copy()\n",
    "X_train_scaled[col_names]= scaler.transform(X_train_scaled[col_names].values)\n",
    "#X_train_scaled.head()"
   ]
  },
  {
   "cell_type": "code",
   "execution_count": 308,
   "metadata": {},
   "outputs": [],
   "source": [
    "X_valid_scaled = X_valid.copy()\n",
    "X_valid_scaled[col_names]= scaler.transform(X_valid_scaled[col_names].values)\n",
    "#X_valid_scaled.head()"
   ]
  },
  {
   "cell_type": "markdown",
   "metadata": {},
   "source": [
    "# Neural Network\n",
    "\n",
    "http://sdsawtelle.github.io/blog/output/week4-andrew-ng-machine-learning-with-python.html\n",
    "https://stackoverflow.com/questions/46661373/neural-network-gets-stuck\n"
   ]
  },
  {
   "cell_type": "code",
   "execution_count": 312,
   "metadata": {},
   "outputs": [],
   "source": [
    "from sklearn.neural_network import MLPClassifier\n",
    "\n",
    "mlp = MLPClassifier(hidden_layer_sizes=(33,65,2), \n",
    "                    activation='logistic',\n",
    "                    solver='adam', \n",
    "                    alpha=0.0001, \n",
    "                    batch_size='auto', \n",
    "                    learning_rate='constant', \n",
    "                    learning_rate_init=0.001, \n",
    "                    power_t=0.5, \n",
    "                    max_iter=200, \n",
    "                    shuffle=True, \n",
    "                    random_state=None, \n",
    "                    tol=0.0001, \n",
    "                    verbose=True, \n",
    "                    warm_start=False, \n",
    "                    momentum=0.9, \n",
    "                    nesterovs_momentum=True, \n",
    "                    early_stopping=True, \n",
    "                    validation_fraction=0.1, \n",
    "                    beta_1=0.9, beta_2=0.999, epsilon=1e-08, n_iter_no_change=10)"
   ]
  },
  {
   "cell_type": "code",
   "execution_count": 313,
   "metadata": {},
   "outputs": [
    {
     "name": "stdout",
     "output_type": "stream",
     "text": [
      "Iteration 1, loss = 0.62013773\n",
      "Validation score: 0.665320\n",
      "Iteration 2, loss = 0.61087286\n",
      "Validation score: 0.665304\n",
      "Iteration 3, loss = 0.60986543\n",
      "Validation score: 0.664982\n",
      "Iteration 4, loss = 0.60922447\n",
      "Validation score: 0.666125\n",
      "Iteration 5, loss = 0.60893167\n",
      "Validation score: 0.665811\n",
      "Iteration 6, loss = 0.60871167\n",
      "Validation score: 0.665280\n",
      "Iteration 7, loss = 0.60857328\n",
      "Validation score: 0.666592\n",
      "Iteration 8, loss = 0.60848144\n",
      "Validation score: 0.665723\n",
      "Iteration 9, loss = 0.60837835\n",
      "Validation score: 0.666246\n",
      "Iteration 10, loss = 0.60830077\n",
      "Validation score: 0.666495\n",
      "Iteration 11, loss = 0.60820240\n",
      "Validation score: 0.666648\n",
      "Iteration 12, loss = 0.60813308\n",
      "Validation score: 0.666471\n",
      "Iteration 13, loss = 0.60811350\n",
      "Validation score: 0.665658\n",
      "Iteration 14, loss = 0.60801938\n",
      "Validation score: 0.666777\n",
      "Iteration 15, loss = 0.60800705\n",
      "Validation score: 0.665650\n",
      "Iteration 16, loss = 0.60792332\n",
      "Validation score: 0.666077\n",
      "Iteration 17, loss = 0.60787918\n",
      "Validation score: 0.666632\n",
      "Iteration 18, loss = 0.60785209\n",
      "Validation score: 0.666439\n",
      "Iteration 19, loss = 0.60781224\n",
      "Validation score: 0.666117\n",
      "Iteration 20, loss = 0.60779392\n",
      "Validation score: 0.666374\n",
      "Iteration 21, loss = 0.60775014\n",
      "Validation score: 0.666632\n",
      "Iteration 22, loss = 0.60769737\n",
      "Validation score: 0.666069\n",
      "Iteration 23, loss = 0.60768443\n",
      "Validation score: 0.666608\n",
      "Iteration 24, loss = 0.60764389\n",
      "Validation score: 0.665883\n",
      "Iteration 25, loss = 0.60760785\n",
      "Validation score: 0.666495\n",
      "Validation score did not improve more than tol=0.000100 for 10 consecutive epochs. Stopping.\n",
      "Duration: 0:03:44.373387\n"
     ]
    }
   ],
   "source": [
    "import time\n",
    "from datetime import datetime\n",
    "\n",
    "start_time = datetime.now()\n",
    "\n",
    "####################\n",
    "# do your work here\n",
    "NN = mlp.fit(X_train_scaled,y_train)\n",
    "#\n",
    "####################\n",
    "\n",
    "end_time = datetime.now()\n",
    "print('Duration: {}'.format(end_time - start_time))"
   ]
  },
  {
   "cell_type": "code",
   "execution_count": 314,
   "metadata": {},
   "outputs": [
    {
     "name": "stdout",
     "output_type": "stream",
     "text": [
      "Train.AUC: 0.6685468917288245\n",
      "Valid.AUC: 0.6666719278048123\n"
     ]
    }
   ],
   "source": [
    "pred = NN.predict(X_train_scaled)\n",
    "y = y_train\n",
    "from sklearn import metrics\n",
    "fpr, tpr, thresholds = metrics.roc_curve(y, pred, pos_label=1)\n",
    "#metrics.auc(fpr, tpr)\n",
    "print('Train.AUC: {}'.format(metrics.auc(fpr, tpr)))\n",
    "\n",
    "pred = NN.predict(X_valid_scaled)\n",
    "y = y_valid\n",
    "from sklearn import metrics\n",
    "fpr, tpr, thresholds = metrics.roc_curve(y, pred, pos_label=1)\n",
    "#metrics.auc(fpr, tpr)\n",
    "print('Valid.AUC: {}'.format(metrics.auc(fpr, tpr)))"
   ]
  },
  {
   "cell_type": "code",
   "execution_count": null,
   "metadata": {},
   "outputs": [],
   "source": []
  },
  {
   "cell_type": "code",
   "execution_count": null,
   "metadata": {},
   "outputs": [],
   "source": []
  },
  {
   "cell_type": "code",
   "execution_count": null,
   "metadata": {},
   "outputs": [],
   "source": []
  },
  {
   "cell_type": "code",
   "execution_count": 315,
   "metadata": {},
   "outputs": [
    {
     "data": {
      "text/plain": [
       "Counter({1: 150745, 0: 159947})"
      ]
     },
     "execution_count": 315,
     "metadata": {},
     "output_type": "execute_result"
    }
   ],
   "source": [
    "from collections import Counter\n",
    "Counter(pred)"
   ]
  },
  {
   "cell_type": "code",
   "execution_count": 316,
   "metadata": {},
   "outputs": [
    {
     "data": {
      "text/plain": [
       "Counter({1: 155197, 0: 155495})"
      ]
     },
     "execution_count": 316,
     "metadata": {},
     "output_type": "execute_result"
    }
   ],
   "source": [
    "from collections import Counter\n",
    "Counter(y_valid)"
   ]
  },
  {
   "cell_type": "code",
   "execution_count": 317,
   "metadata": {},
   "outputs": [
    {
     "data": {
      "text/plain": [
       "array([[105942,  49553],\n",
       "       [ 54005, 101192]])"
      ]
     },
     "execution_count": 317,
     "metadata": {},
     "output_type": "execute_result"
    }
   ],
   "source": [
    "from sklearn.metrics import confusion_matrix\n",
    "confusion_matrix(y_valid, pred)"
   ]
  },
  {
   "cell_type": "markdown",
   "metadata": {},
   "source": [
    "![title](Confusion_Matrix.png)"
   ]
  },
  {
   "cell_type": "code",
   "execution_count": null,
   "metadata": {},
   "outputs": [],
   "source": []
  },
  {
   "cell_type": "code",
   "execution_count": null,
   "metadata": {},
   "outputs": [],
   "source": []
  },
  {
   "cell_type": "code",
   "execution_count": null,
   "metadata": {},
   "outputs": [],
   "source": []
  },
  {
   "cell_type": "markdown",
   "metadata": {
    "colab_type": "text",
    "id": "p3zVTVa3SIfw"
   },
   "source": [
    "# XGboost"
   ]
  },
  {
   "cell_type": "code",
   "execution_count": 318,
   "metadata": {},
   "outputs": [],
   "source": [
    "# Just in case, your jupyter shuts down, try following:\n",
    "\n",
    "import os\n",
    "os.environ['KMP_DUPLICATE_LIB_OK']='True'"
   ]
  },
  {
   "cell_type": "code",
   "execution_count": 319,
   "metadata": {
    "colab": {},
    "colab_type": "code",
    "id": "Q7dX7mzONDcU"
   },
   "outputs": [],
   "source": [
    "import xgboost as xgb\n",
    "from xgboost.sklearn import XGBClassifier\n",
    "from sklearn.model_selection import cross_validate#Additional scklearn functions\n",
    "from sklearn.model_selection import GridSearchCV   #Perforing grid search\n",
    "from sklearn import metrics  \n",
    "\n",
    "#from xgboost import XGBClassifier\n",
    "\n",
    "dtrain = xgb.DMatrix(X_train, y_train)  # 使用XGBoost的原生版本需要对数据进行转化\n",
    "dvalid = xgb.DMatrix(X_valid, y_valid)"
   ]
  },
  {
   "cell_type": "code",
   "execution_count": null,
   "metadata": {},
   "outputs": [],
   "source": []
  },
  {
   "cell_type": "code",
   "execution_count": 320,
   "metadata": {},
   "outputs": [],
   "source": [
    "param = {'max_depth':5, 'eta':1, 'silent':1, 'objective':'binary:logistic' }\n",
    "num_round = 2\n",
    "bst = xgb.train(param, dtrain, num_round)"
   ]
  },
  {
   "cell_type": "code",
   "execution_count": 321,
   "metadata": {},
   "outputs": [],
   "source": [
    "pred = bst.predict(dvalid)\n",
    "predictions = [round(value) for value in pred]"
   ]
  },
  {
   "cell_type": "code",
   "execution_count": 322,
   "metadata": {},
   "outputs": [
    {
     "data": {
      "text/plain": [
       "array([[106104,  49391],\n",
       "       [ 57479,  97718]])"
      ]
     },
     "execution_count": 322,
     "metadata": {},
     "output_type": "execute_result"
    }
   ],
   "source": [
    "from sklearn.metrics import confusion_matrix\n",
    "confusion_matrix(y_valid, predictions)"
   ]
  },
  {
   "cell_type": "code",
   "execution_count": 323,
   "metadata": {},
   "outputs": [
    {
     "name": "stdout",
     "output_type": "stream",
     "text": [
      "Valid.AUC: 0.6560006182222351\n"
     ]
    }
   ],
   "source": [
    "fpr, tpr, thresholds = metrics.roc_curve(y_valid, predictions, pos_label=1)\n",
    "#metrics.auc(fpr, tpr)\n",
    "print('Valid.AUC: {}'.format(metrics.auc(fpr, tpr)))"
   ]
  },
  {
   "cell_type": "code",
   "execution_count": null,
   "metadata": {},
   "outputs": [],
   "source": []
  },
  {
   "cell_type": "code",
   "execution_count": null,
   "metadata": {},
   "outputs": [],
   "source": []
  },
  {
   "cell_type": "code",
   "execution_count": null,
   "metadata": {},
   "outputs": [],
   "source": []
  },
  {
   "cell_type": "code",
   "execution_count": null,
   "metadata": {},
   "outputs": [],
   "source": []
  },
  {
   "cell_type": "code",
   "execution_count": null,
   "metadata": {},
   "outputs": [],
   "source": []
  },
  {
   "cell_type": "code",
   "execution_count": 223,
   "metadata": {},
   "outputs": [],
   "source": [
    "def xgb_model(train_data, train_label, test_data, test_label):\n",
    "    clf = xgb.XGBClassifier(max_depth=5,\n",
    "                           min_child_weight=1,\n",
    "                           learning_rate=0.1,\n",
    "                           n_estimators=10,\n",
    "                           silent=True,\n",
    "                           objective='binary:logistic',\n",
    "                           gamma=0,\n",
    "                           max_delta_step=0,\n",
    "                           subsample=1,\n",
    "                           colsample_bytree=1,\n",
    "                           colsample_bylevel=1,\n",
    "                           reg_alpha=0,\n",
    "                           reg_lambda=0,\n",
    "                           scale_pos_weight=1,\n",
    "                           seed=1,\n",
    "                           missing=None)\n",
    "    clf.fit(train_data, train_label, eval_metric='auc', verbose=True,\n",
    "            eval_set=[(test_data, test_label)], early_stopping_rounds=100)\n",
    "    y_pre = clf.predict(test_data)\n",
    "    y_pro = clf.predict_proba(test_data)[:, 1]\n",
    "    #print \"AUC Score : %f\" % metrics.roc_auc_score(test_label, y_pro)\n",
    "    #print\"Accuracy : %.4g\" % metrics.accuracy_score(test_label, y_pre)\n",
    "    return clf "
   ]
  },
  {
   "cell_type": "code",
   "execution_count": 224,
   "metadata": {},
   "outputs": [
    {
     "name": "stdout",
     "output_type": "stream",
     "text": [
      "[0]\tvalidation_0-auc:0.694957\n",
      "Will train until validation_0-auc hasn't improved in 100 rounds.\n",
      "[1]\tvalidation_0-auc:0.695444\n",
      "[2]\tvalidation_0-auc:0.696755\n",
      "[3]\tvalidation_0-auc:0.697967\n",
      "[4]\tvalidation_0-auc:0.699602\n",
      "[5]\tvalidation_0-auc:0.69997\n",
      "[6]\tvalidation_0-auc:0.701123\n",
      "[7]\tvalidation_0-auc:0.703594\n",
      "[8]\tvalidation_0-auc:0.70712\n",
      "[9]\tvalidation_0-auc:0.708534\n"
     ]
    },
    {
     "data": {
      "text/plain": [
       "XGBClassifier(base_score=0.5, booster='gbtree', colsample_bylevel=1,\n",
       "       colsample_bytree=1, gamma=0, learning_rate=0.1, max_delta_step=0,\n",
       "       max_depth=5, min_child_weight=1, missing=None, n_estimators=10,\n",
       "       n_jobs=1, nthread=None, objective='binary:logistic', random_state=0,\n",
       "       reg_alpha=0, reg_lambda=0, scale_pos_weight=1, seed=1, silent=True,\n",
       "       subsample=1)"
      ]
     },
     "execution_count": 224,
     "metadata": {},
     "output_type": "execute_result"
    }
   ],
   "source": [
    "xgb_model(X_train, y_train, X_valid, y_valid)"
   ]
  },
  {
   "cell_type": "code",
   "execution_count": null,
   "metadata": {},
   "outputs": [],
   "source": []
  },
  {
   "cell_type": "code",
   "execution_count": null,
   "metadata": {},
   "outputs": [],
   "source": []
  },
  {
   "cell_type": "code",
   "execution_count": null,
   "metadata": {},
   "outputs": [],
   "source": [
    "param_test1 = {\n",
    " 'max_depth':range(3,10,2),\n",
    " 'min_child_weight':range(1,6,2)\n",
    "}\n",
    "gsearch1 = GridSearchCV(estimator = XGBClassifier( learning_rate =0.1, n_estimators=140, max_depth=5,\n",
    " min_child_weight=1, gamma=0, subsample=0.8, colsample_bytree=0.8,\n",
    " objective= 'binary:logistic', nthread=4, scale_pos_weight=1, seed=27), \n",
    " param_grid = param_test1, scoring='roc_auc',n_jobs=4,iid=False, cv=5)\n",
    "gsearch1.fit(X_train,y_train)\n",
    "gsearch1.grid_scores_, gsearch1.best_params_, gsearch1.best_score_"
   ]
  },
  {
   "cell_type": "code",
   "execution_count": 103,
   "metadata": {},
   "outputs": [],
   "source": [
    "### https://www.analyticsvidhya.com/blog/2016/03/complete-guide-parameter-tuning-xgboost-with-codes-python/\n",
    "def modelfit(alg, dtrain, predictors,useTrainCV=True, cv_folds=5, early_stopping_rounds=50):\n",
    "    \n",
    "    if useTrainCV:\n",
    "        xgb_param = alg.get_xgb_params()\n",
    "        xgtrain = xgb.DMatrix(dtrain[predictors].values, label=dtrain[target].values)\n",
    "        cvresult = xgb.cv(xgb_param, xgtrain, num_boost_round=alg.get_params()['n_estimators'], nfold=cv_folds,\n",
    "            metrics='auc', early_stopping_rounds=early_stopping_rounds, show_progress=False)\n",
    "        alg.set_params(n_estimators=cvresult.shape[0])\n",
    "    \n",
    "    #Fit the algorithm on the data\n",
    "    alg.fit(dtrain[predictors], dtrain['Disbursed'],eval_metric='auc')\n",
    "        \n",
    "    #Predict training set:\n",
    "    dtrain_predictions = alg.predict(dtrain[predictors])\n",
    "    dtrain_predprob = alg.predict_proba(dtrain[predictors])[:,1]\n",
    "        \n",
    "    #Print model report:\n",
    "    print (\"\\nModel Report\")\n",
    "    print (\"Accuracy : %.4g\" % metrics.accuracy_score(dtrain['Disbursed'].values, dtrain_predictions))\n",
    "    print (\"AUC Score (Train): %f\" % metrics.roc_auc_score(dtrain['Disbursed'], dtrain_predprob))\n",
    "                    \n",
    "    feat_imp = pd.Series(alg.booster().get_fscore()).sort_values(ascending=False)\n",
    "    feat_imp.plot(kind='bar', title='Feature Importances')\n",
    "    plt.ylabel('Feature Importance Score')"
   ]
  },
  {
   "cell_type": "code",
   "execution_count": null,
   "metadata": {},
   "outputs": [],
   "source": []
  },
  {
   "cell_type": "code",
   "execution_count": null,
   "metadata": {},
   "outputs": [],
   "source": []
  },
  {
   "cell_type": "code",
   "execution_count": null,
   "metadata": {},
   "outputs": [],
   "source": []
  },
  {
   "cell_type": "code",
   "execution_count": 106,
   "metadata": {},
   "outputs": [
    {
     "ename": "KeyError",
     "evalue": "\"['cancel'] not in index\"",
     "output_type": "error",
     "traceback": [
      "\u001b[0;31m---------------------------------------------------------------------------\u001b[0m",
      "\u001b[0;31mKeyError\u001b[0m                                  Traceback (most recent call last)",
      "\u001b[0;32m<ipython-input-106-55b9fe160d64>\u001b[0m in \u001b[0;36m<module>\u001b[0;34m\u001b[0m\n\u001b[1;32m     12\u001b[0m  \u001b[0mscale_pos_weight\u001b[0m\u001b[0;34m=\u001b[0m\u001b[0;36m1\u001b[0m\u001b[0;34m,\u001b[0m\u001b[0;34m\u001b[0m\u001b[0;34m\u001b[0m\u001b[0m\n\u001b[1;32m     13\u001b[0m  seed=27)\n\u001b[0;32m---> 14\u001b[0;31m \u001b[0mmodelfit\u001b[0m\u001b[0;34m(\u001b[0m\u001b[0mxgb1\u001b[0m\u001b[0;34m,\u001b[0m \u001b[0mX_train\u001b[0m\u001b[0;34m,\u001b[0m \u001b[0mpredictors\u001b[0m\u001b[0;34m)\u001b[0m\u001b[0;34m\u001b[0m\u001b[0;34m\u001b[0m\u001b[0m\n\u001b[0m",
      "\u001b[0;32m<ipython-input-103-6221a59e10dd>\u001b[0m in \u001b[0;36mmodelfit\u001b[0;34m(alg, dtrain, predictors, useTrainCV, cv_folds, early_stopping_rounds)\u001b[0m\n\u001b[1;32m      4\u001b[0m     \u001b[0;32mif\u001b[0m \u001b[0museTrainCV\u001b[0m\u001b[0;34m:\u001b[0m\u001b[0;34m\u001b[0m\u001b[0;34m\u001b[0m\u001b[0m\n\u001b[1;32m      5\u001b[0m         \u001b[0mxgb_param\u001b[0m \u001b[0;34m=\u001b[0m \u001b[0malg\u001b[0m\u001b[0;34m.\u001b[0m\u001b[0mget_xgb_params\u001b[0m\u001b[0;34m(\u001b[0m\u001b[0;34m)\u001b[0m\u001b[0;34m\u001b[0m\u001b[0;34m\u001b[0m\u001b[0m\n\u001b[0;32m----> 6\u001b[0;31m         \u001b[0mxgtrain\u001b[0m \u001b[0;34m=\u001b[0m \u001b[0mxgb\u001b[0m\u001b[0;34m.\u001b[0m\u001b[0mDMatrix\u001b[0m\u001b[0;34m(\u001b[0m\u001b[0mdtrain\u001b[0m\u001b[0;34m[\u001b[0m\u001b[0mpredictors\u001b[0m\u001b[0;34m]\u001b[0m\u001b[0;34m.\u001b[0m\u001b[0mvalues\u001b[0m\u001b[0;34m,\u001b[0m \u001b[0mlabel\u001b[0m\u001b[0;34m=\u001b[0m\u001b[0mdtrain\u001b[0m\u001b[0;34m[\u001b[0m\u001b[0mtarget\u001b[0m\u001b[0;34m]\u001b[0m\u001b[0;34m.\u001b[0m\u001b[0mvalues\u001b[0m\u001b[0;34m)\u001b[0m\u001b[0;34m\u001b[0m\u001b[0;34m\u001b[0m\u001b[0m\n\u001b[0m\u001b[1;32m      7\u001b[0m         cvresult = xgb.cv(xgb_param, xgtrain, num_boost_round=alg.get_params()['n_estimators'], nfold=cv_folds,\n\u001b[1;32m      8\u001b[0m             metrics='auc', early_stopping_rounds=early_stopping_rounds, show_progress=False)\n",
      "\u001b[0;32m/anaconda3/envs/py_3_6/lib/python3.6/site-packages/pandas/core/frame.py\u001b[0m in \u001b[0;36m__getitem__\u001b[0;34m(self, key)\u001b[0m\n\u001b[1;32m   2680\u001b[0m         \u001b[0;32mif\u001b[0m \u001b[0misinstance\u001b[0m\u001b[0;34m(\u001b[0m\u001b[0mkey\u001b[0m\u001b[0;34m,\u001b[0m \u001b[0;34m(\u001b[0m\u001b[0mSeries\u001b[0m\u001b[0;34m,\u001b[0m \u001b[0mnp\u001b[0m\u001b[0;34m.\u001b[0m\u001b[0mndarray\u001b[0m\u001b[0;34m,\u001b[0m \u001b[0mIndex\u001b[0m\u001b[0;34m,\u001b[0m \u001b[0mlist\u001b[0m\u001b[0;34m)\u001b[0m\u001b[0;34m)\u001b[0m\u001b[0;34m:\u001b[0m\u001b[0;34m\u001b[0m\u001b[0;34m\u001b[0m\u001b[0m\n\u001b[1;32m   2681\u001b[0m             \u001b[0;31m# either boolean or fancy integer index\u001b[0m\u001b[0;34m\u001b[0m\u001b[0;34m\u001b[0m\u001b[0;34m\u001b[0m\u001b[0m\n\u001b[0;32m-> 2682\u001b[0;31m             \u001b[0;32mreturn\u001b[0m \u001b[0mself\u001b[0m\u001b[0;34m.\u001b[0m\u001b[0m_getitem_array\u001b[0m\u001b[0;34m(\u001b[0m\u001b[0mkey\u001b[0m\u001b[0;34m)\u001b[0m\u001b[0;34m\u001b[0m\u001b[0;34m\u001b[0m\u001b[0m\n\u001b[0m\u001b[1;32m   2683\u001b[0m         \u001b[0;32melif\u001b[0m \u001b[0misinstance\u001b[0m\u001b[0;34m(\u001b[0m\u001b[0mkey\u001b[0m\u001b[0;34m,\u001b[0m \u001b[0mDataFrame\u001b[0m\u001b[0;34m)\u001b[0m\u001b[0;34m:\u001b[0m\u001b[0;34m\u001b[0m\u001b[0;34m\u001b[0m\u001b[0m\n\u001b[1;32m   2684\u001b[0m             \u001b[0;32mreturn\u001b[0m \u001b[0mself\u001b[0m\u001b[0;34m.\u001b[0m\u001b[0m_getitem_frame\u001b[0m\u001b[0;34m(\u001b[0m\u001b[0mkey\u001b[0m\u001b[0;34m)\u001b[0m\u001b[0;34m\u001b[0m\u001b[0;34m\u001b[0m\u001b[0m\n",
      "\u001b[0;32m/anaconda3/envs/py_3_6/lib/python3.6/site-packages/pandas/core/frame.py\u001b[0m in \u001b[0;36m_getitem_array\u001b[0;34m(self, key)\u001b[0m\n\u001b[1;32m   2724\u001b[0m             \u001b[0;32mreturn\u001b[0m \u001b[0mself\u001b[0m\u001b[0;34m.\u001b[0m\u001b[0m_take\u001b[0m\u001b[0;34m(\u001b[0m\u001b[0mindexer\u001b[0m\u001b[0;34m,\u001b[0m \u001b[0maxis\u001b[0m\u001b[0;34m=\u001b[0m\u001b[0;36m0\u001b[0m\u001b[0;34m)\u001b[0m\u001b[0;34m\u001b[0m\u001b[0;34m\u001b[0m\u001b[0m\n\u001b[1;32m   2725\u001b[0m         \u001b[0;32melse\u001b[0m\u001b[0;34m:\u001b[0m\u001b[0;34m\u001b[0m\u001b[0;34m\u001b[0m\u001b[0m\n\u001b[0;32m-> 2726\u001b[0;31m             \u001b[0mindexer\u001b[0m \u001b[0;34m=\u001b[0m \u001b[0mself\u001b[0m\u001b[0;34m.\u001b[0m\u001b[0mloc\u001b[0m\u001b[0;34m.\u001b[0m\u001b[0m_convert_to_indexer\u001b[0m\u001b[0;34m(\u001b[0m\u001b[0mkey\u001b[0m\u001b[0;34m,\u001b[0m \u001b[0maxis\u001b[0m\u001b[0;34m=\u001b[0m\u001b[0;36m1\u001b[0m\u001b[0;34m)\u001b[0m\u001b[0;34m\u001b[0m\u001b[0;34m\u001b[0m\u001b[0m\n\u001b[0m\u001b[1;32m   2727\u001b[0m             \u001b[0;32mreturn\u001b[0m \u001b[0mself\u001b[0m\u001b[0;34m.\u001b[0m\u001b[0m_take\u001b[0m\u001b[0;34m(\u001b[0m\u001b[0mindexer\u001b[0m\u001b[0;34m,\u001b[0m \u001b[0maxis\u001b[0m\u001b[0;34m=\u001b[0m\u001b[0;36m1\u001b[0m\u001b[0;34m)\u001b[0m\u001b[0;34m\u001b[0m\u001b[0;34m\u001b[0m\u001b[0m\n\u001b[1;32m   2728\u001b[0m \u001b[0;34m\u001b[0m\u001b[0m\n",
      "\u001b[0;32m/anaconda3/envs/py_3_6/lib/python3.6/site-packages/pandas/core/indexing.py\u001b[0m in \u001b[0;36m_convert_to_indexer\u001b[0;34m(self, obj, axis, is_setter)\u001b[0m\n\u001b[1;32m   1325\u001b[0m                 \u001b[0;32mif\u001b[0m \u001b[0mmask\u001b[0m\u001b[0;34m.\u001b[0m\u001b[0many\u001b[0m\u001b[0;34m(\u001b[0m\u001b[0;34m)\u001b[0m\u001b[0;34m:\u001b[0m\u001b[0;34m\u001b[0m\u001b[0;34m\u001b[0m\u001b[0m\n\u001b[1;32m   1326\u001b[0m                     raise KeyError('{mask} not in index'\n\u001b[0;32m-> 1327\u001b[0;31m                                    .format(mask=objarr[mask]))\n\u001b[0m\u001b[1;32m   1328\u001b[0m \u001b[0;34m\u001b[0m\u001b[0m\n\u001b[1;32m   1329\u001b[0m                 \u001b[0;32mreturn\u001b[0m \u001b[0mcom\u001b[0m\u001b[0;34m.\u001b[0m\u001b[0m_values_from_object\u001b[0m\u001b[0;34m(\u001b[0m\u001b[0mindexer\u001b[0m\u001b[0;34m)\u001b[0m\u001b[0;34m\u001b[0m\u001b[0;34m\u001b[0m\u001b[0m\n",
      "\u001b[0;31mKeyError\u001b[0m: \"['cancel'] not in index\""
     ]
    }
   ],
   "source": [
    "predictors = [x for x in df.columns]\n",
    "xgb1 = XGBClassifier(\n",
    " learning_rate =0.1,\n",
    " n_estimators=1000,\n",
    " max_depth=5,\n",
    " min_child_weight=1,\n",
    " gamma=0,\n",
    " subsample=0.8,\n",
    " colsample_bytree=0.8,\n",
    " objective= 'binary:logistic',\n",
    " nthread=4,\n",
    " scale_pos_weight=1,\n",
    " seed=27)\n",
    "modelfit(xgb1, X_train, predictors)"
   ]
  },
  {
   "cell_type": "code",
   "execution_count": null,
   "metadata": {},
   "outputs": [],
   "source": []
  },
  {
   "cell_type": "code",
   "execution_count": null,
   "metadata": {},
   "outputs": [],
   "source": []
  },
  {
   "cell_type": "code",
   "execution_count": 93,
   "metadata": {},
   "outputs": [
    {
     "name": "stdout",
     "output_type": "stream",
     "text": [
      "running cross validation\n",
      "[0]\ttrain-auc:0.653408+0.000447852\ttest-auc:0.653407+0.00178609\n",
      "[1]\ttrain-auc:0.685495+0.000491922\ttest-auc:0.68549+0.00196262\n",
      "[2]\ttrain-auc:0.702025+0.000487052\ttest-auc:0.702005+0.00202885\n",
      "[3]\ttrain-auc:0.710894+0.00052503\ttest-auc:0.710872+0.00219602\n",
      "[4]\ttrain-auc:0.713783+0.000515608\ttest-auc:0.713735+0.00213019\n",
      "[5]\ttrain-auc:0.716839+0.000445787\ttest-auc:0.716725+0.00250291\n",
      "[6]\ttrain-auc:0.718342+0.000505309\ttest-auc:0.718169+0.00267359\n",
      "[7]\ttrain-auc:0.7195+0.000551819\ttest-auc:0.719116+0.00267701\n",
      "[8]\ttrain-auc:0.720621+0.00050183\ttest-auc:0.720199+0.00267897\n",
      "[9]\ttrain-auc:0.721782+0.000370634\ttest-auc:0.721434+0.00222737\n"
     ]
    },
    {
     "data": {
      "text/html": [
       "<div>\n",
       "<style scoped>\n",
       "    .dataframe tbody tr th:only-of-type {\n",
       "        vertical-align: middle;\n",
       "    }\n",
       "\n",
       "    .dataframe tbody tr th {\n",
       "        vertical-align: top;\n",
       "    }\n",
       "\n",
       "    .dataframe thead th {\n",
       "        text-align: right;\n",
       "    }\n",
       "</style>\n",
       "<table border=\"1\" class=\"dataframe\">\n",
       "  <thead>\n",
       "    <tr style=\"text-align: right;\">\n",
       "      <th></th>\n",
       "      <th>train-auc-mean</th>\n",
       "      <th>train-auc-std</th>\n",
       "      <th>test-auc-mean</th>\n",
       "      <th>test-auc-std</th>\n",
       "    </tr>\n",
       "  </thead>\n",
       "  <tbody>\n",
       "    <tr>\n",
       "      <th>0</th>\n",
       "      <td>0.653408</td>\n",
       "      <td>0.000448</td>\n",
       "      <td>0.653407</td>\n",
       "      <td>0.001786</td>\n",
       "    </tr>\n",
       "    <tr>\n",
       "      <th>1</th>\n",
       "      <td>0.685495</td>\n",
       "      <td>0.000492</td>\n",
       "      <td>0.685490</td>\n",
       "      <td>0.001963</td>\n",
       "    </tr>\n",
       "    <tr>\n",
       "      <th>2</th>\n",
       "      <td>0.702025</td>\n",
       "      <td>0.000487</td>\n",
       "      <td>0.702005</td>\n",
       "      <td>0.002029</td>\n",
       "    </tr>\n",
       "    <tr>\n",
       "      <th>3</th>\n",
       "      <td>0.710894</td>\n",
       "      <td>0.000525</td>\n",
       "      <td>0.710872</td>\n",
       "      <td>0.002196</td>\n",
       "    </tr>\n",
       "    <tr>\n",
       "      <th>4</th>\n",
       "      <td>0.713783</td>\n",
       "      <td>0.000516</td>\n",
       "      <td>0.713735</td>\n",
       "      <td>0.002130</td>\n",
       "    </tr>\n",
       "    <tr>\n",
       "      <th>5</th>\n",
       "      <td>0.716839</td>\n",
       "      <td>0.000446</td>\n",
       "      <td>0.716725</td>\n",
       "      <td>0.002503</td>\n",
       "    </tr>\n",
       "    <tr>\n",
       "      <th>6</th>\n",
       "      <td>0.718342</td>\n",
       "      <td>0.000505</td>\n",
       "      <td>0.718169</td>\n",
       "      <td>0.002674</td>\n",
       "    </tr>\n",
       "    <tr>\n",
       "      <th>7</th>\n",
       "      <td>0.719500</td>\n",
       "      <td>0.000552</td>\n",
       "      <td>0.719116</td>\n",
       "      <td>0.002677</td>\n",
       "    </tr>\n",
       "    <tr>\n",
       "      <th>8</th>\n",
       "      <td>0.720621</td>\n",
       "      <td>0.000502</td>\n",
       "      <td>0.720199</td>\n",
       "      <td>0.002679</td>\n",
       "    </tr>\n",
       "    <tr>\n",
       "      <th>9</th>\n",
       "      <td>0.721782</td>\n",
       "      <td>0.000371</td>\n",
       "      <td>0.721434</td>\n",
       "      <td>0.002227</td>\n",
       "    </tr>\n",
       "  </tbody>\n",
       "</table>\n",
       "</div>"
      ],
      "text/plain": [
       "   train-auc-mean  train-auc-std  test-auc-mean  test-auc-std\n",
       "0        0.653408       0.000448       0.653407      0.001786\n",
       "1        0.685495       0.000492       0.685490      0.001963\n",
       "2        0.702025       0.000487       0.702005      0.002029\n",
       "3        0.710894       0.000525       0.710872      0.002196\n",
       "4        0.713783       0.000516       0.713735      0.002130\n",
       "5        0.716839       0.000446       0.716725      0.002503\n",
       "6        0.718342       0.000505       0.718169      0.002674\n",
       "7        0.719500       0.000552       0.719116      0.002677\n",
       "8        0.720621       0.000502       0.720199      0.002679\n",
       "9        0.721782       0.000371       0.721434      0.002227"
      ]
     },
     "execution_count": 93,
     "metadata": {},
     "output_type": "execute_result"
    }
   ],
   "source": [
    "param = {'max_depth':2, 'eta':1, 'silent':1, 'objective':'binary:logistic'}\n",
    "num_round = 10\n",
    "\n",
    "\n",
    "print('running cross validation')\n",
    "# do cross validation, this will print result out as\n",
    "# [iteration]  metric_name:mean_value+std_value\n",
    "# std_value is standard deviation of the metric\n",
    "xgb.cv(param, dtrain, num_round, nfold=5,\n",
    "       metrics={'auc'}, seed=0,\n",
    "       callbacks=[xgb.callback.print_evaluation(show_stdv=True)])"
   ]
  },
  {
   "cell_type": "code",
   "execution_count": null,
   "metadata": {},
   "outputs": [],
   "source": []
  },
  {
   "cell_type": "code",
   "execution_count": 71,
   "metadata": {},
   "outputs": [],
   "source": [
    "cv_params = {'n_estimators': [6,10,20,50],'learning_rate':[0.1,0.01,0.05]}\n",
    "other_params = { 'max_depth': 5, 'min_child_weight': 1, 'seed': 0,'silent':0,\n",
    "                'subsample': 0.8, 'colsample_bytree': 0.8, 'gamma': 0, 'reg_alpha': 0, 'reg_lambda': 1}\n",
    "\n",
    "\n",
    "model = xgb.XGBClassifier(**other_params)\n",
    "optimized_GBM = GridSearchCV(estimator=model, param_grid=cv_params, scoring='accuracy', cv=5, verbose=1, n_jobs=80)\n"
   ]
  },
  {
   "cell_type": "code",
   "execution_count": null,
   "metadata": {},
   "outputs": [],
   "source": []
  },
  {
   "cell_type": "code",
   "execution_count": null,
   "metadata": {},
   "outputs": [],
   "source": []
  },
  {
   "cell_type": "code",
   "execution_count": null,
   "metadata": {},
   "outputs": [],
   "source": []
  },
  {
   "cell_type": "code",
   "execution_count": null,
   "metadata": {},
   "outputs": [],
   "source": []
  },
  {
   "cell_type": "code",
   "execution_count": null,
   "metadata": {},
   "outputs": [],
   "source": []
  },
  {
   "cell_type": "code",
   "execution_count": null,
   "metadata": {},
   "outputs": [],
   "source": []
  },
  {
   "cell_type": "code",
   "execution_count": null,
   "metadata": {},
   "outputs": [],
   "source": []
  },
  {
   "cell_type": "code",
   "execution_count": null,
   "metadata": {},
   "outputs": [],
   "source": []
  },
  {
   "cell_type": "markdown",
   "metadata": {
    "colab_type": "text",
    "id": "gRNTYUB-NDb3"
   },
   "source": [
    "# Support Vector Machine"
   ]
  },
  {
   "cell_type": "markdown",
   "metadata": {
    "colab_type": "text",
    "id": "__AgtJjFUVzq"
   },
   "source": [
    "##### Warning Normalizing data:\n",
    "For many estimators, including the SVMs, having datasets with unit standard deviation for each feature is important to get good prediction.\n",
    "https://scikit-learn.org/stable/tutorial/statistical_inference/supervised_learning.html"
   ]
  },
  {
   "cell_type": "markdown",
   "metadata": {
    "colab_type": "text",
    "id": "jXFAY113aqQi"
   },
   "source": [
    "### Linear SVM"
   ]
  },
  {
   "cell_type": "code",
   "execution_count": 152,
   "metadata": {
    "colab": {},
    "colab_type": "code",
    "id": "rBFZrSWpVDwN"
   },
   "outputs": [
    {
     "name": "stdout",
     "output_type": "stream",
     "text": [
      "Duration: 0:05:09.441819\n"
     ]
    },
    {
     "name": "stderr",
     "output_type": "stream",
     "text": [
      "/anaconda3/envs/py_3_6/lib/python3.6/site-packages/sklearn/svm/base.py:922: ConvergenceWarning: Liblinear failed to converge, increase the number of iterations.\n",
      "  \"the number of iterations.\", ConvergenceWarning)\n"
     ]
    }
   ],
   "source": [
    "import time\n",
    "from datetime import datetime\n",
    "\n",
    "start_time = datetime.now()\n",
    "\n",
    "####################\n",
    "# do your work here\n",
    "from sklearn.svm import LinearSVC \n",
    "linear_svm = LinearSVC(max_iter=1000).fit(X_train_scaled, y_train)\n",
    "\n",
    "\n",
    "#from sklearn import linear_model\n",
    "#clf = linear_model.SGDClassifier(max_iter=10000, tol=1e-3)\n",
    "#linear_svm = clf.fit(X_train, y_train)\n",
    "\n",
    "#\n",
    "####################\n",
    "\n",
    "end_time = datetime.now()\n",
    "print('Duration: {}'.format(end_time - start_time))"
   ]
  },
  {
   "cell_type": "code",
   "execution_count": 153,
   "metadata": {
    "colab": {
     "base_uri": "https://localhost:8080/",
     "height": 51
    },
    "colab_type": "code",
    "executionInfo": {
     "elapsed": 2182,
     "status": "ok",
     "timestamp": 1552922647197,
     "user": {
      "displayName": "Shengjun Wang",
      "photoUrl": "",
      "userId": "04953405560919249117"
     },
     "user_tz": 240
    },
    "id": "JZheGKkOVD7A",
    "outputId": "eaa085ee-060f-4e13-92dc-b620a3c97096"
   },
   "outputs": [
    {
     "name": "stdout",
     "output_type": "stream",
     "text": [
      "Train.AUC: 0.5653396698996822\n",
      "Valid.AUC: 0.5646395878142705\n"
     ]
    }
   ],
   "source": [
    "pred = linear_svm.predict(X_train_scaled)\n",
    "y = y_train\n",
    "from sklearn import metrics\n",
    "fpr, tpr, thresholds = metrics.roc_curve(y, pred, pos_label=1)\n",
    "#metrics.auc(fpr, tpr)\n",
    "print('Train.AUC: {}'.format(metrics.auc(fpr, tpr)))\n",
    "\n",
    "pred = linear_svm.predict(X_valid_scaled)\n",
    "y = y_valid\n",
    "from sklearn import metrics\n",
    "fpr, tpr, thresholds = metrics.roc_curve(y, pred, pos_label=1)\n",
    "#metrics.auc(fpr, tpr)\n",
    "print('Valid.AUC: {}'.format(metrics.auc(fpr, tpr)))"
   ]
  },
  {
   "cell_type": "code",
   "execution_count": null,
   "metadata": {
    "colab": {},
    "colab_type": "code",
    "id": "kgi3dynWVD10"
   },
   "outputs": [],
   "source": []
  },
  {
   "cell_type": "code",
   "execution_count": null,
   "metadata": {
    "colab": {},
    "colab_type": "code",
    "id": "WNGF-1t9bAOU"
   },
   "outputs": [],
   "source": []
  },
  {
   "cell_type": "markdown",
   "metadata": {},
   "source": [
    "### RBF"
   ]
  },
  {
   "cell_type": "code",
   "execution_count": 149,
   "metadata": {
    "colab": {
     "base_uri": "https://localhost:8080/",
     "height": 34
    },
    "colab_type": "code",
    "executionInfo": {
     "elapsed": 7736,
     "status": "ok",
     "timestamp": 1552927455941,
     "user": {
      "displayName": "Shengjun Wang",
      "photoUrl": "",
      "userId": "04953405560919249117"
     },
     "user_tz": 240
    },
    "id": "3f4hs3ZAbAMT",
    "outputId": "33e069f8-681a-43da-b6a3-55fbd8488931"
   },
   "outputs": [],
   "source": [
    "from sklearn.svm import SVC  \n",
    "SVM_rbf = SVC(C=0.001, \n",
    "              kernel='rbf', \n",
    "              degree=3, \n",
    "              gamma='auto',\n",
    "              coef0=0.0, \n",
    "              shrinking=True, \n",
    "              probability=False, \n",
    "              tol=0.001, \n",
    "              cache_size=200, \n",
    "              class_weight=None, \n",
    "              verbose=False, \n",
    "              max_iter=-1, \n",
    "              decision_function_shape='ovr', \n",
    "              random_state=None)\n",
    "SVM_rbf_clf = SVM_rbf.fit(X_train_scaled[1:10000], y_train[1:10000]) "
   ]
  },
  {
   "cell_type": "code",
   "execution_count": 151,
   "metadata": {
    "colab": {
     "base_uri": "https://localhost:8080/",
     "height": 51
    },
    "colab_type": "code",
    "executionInfo": {
     "elapsed": 6883,
     "status": "ok",
     "timestamp": 1552927538209,
     "user": {
      "displayName": "Shengjun Wang",
      "photoUrl": "",
      "userId": "04953405560919249117"
     },
     "user_tz": 240
    },
    "id": "yHXZizeobAJv",
    "outputId": "76a61e0c-13d4-47c6-8e64-d46cf28f80c9"
   },
   "outputs": [
    {
     "name": "stdout",
     "output_type": "stream",
     "text": [
      "Train.AUC: 0.5\n",
      "Valid.AUC: 0.5\n"
     ]
    }
   ],
   "source": [
    "pred = SVM_rbf_clf.predict(X_train_scaled[1:10000])\n",
    "y = y_train[1:10000]\n",
    "from sklearn import metrics\n",
    "fpr, tpr, thresholds = metrics.roc_curve(y, pred, pos_label=1)\n",
    "#metrics.auc(fpr, tpr)\n",
    "print('Train.AUC: {}'.format(metrics.auc(fpr, tpr)))\n",
    "\n",
    "pred = SVM_rbf_clf.predict(X_valid_scaled[1:2000])\n",
    "y = y_valid[1:2000]\n",
    "from sklearn import metrics\n",
    "fpr, tpr, thresholds = metrics.roc_curve(y, pred, pos_label=1)\n",
    "#metrics.auc(fpr, tpr)\n",
    "print('Valid.AUC: {}'.format(metrics.auc(fpr, tpr)))"
   ]
  },
  {
   "cell_type": "code",
   "execution_count": null,
   "metadata": {},
   "outputs": [],
   "source": []
  },
  {
   "cell_type": "code",
   "execution_count": null,
   "metadata": {},
   "outputs": [],
   "source": []
  },
  {
   "cell_type": "markdown",
   "metadata": {
    "colab": {},
    "colab_type": "code",
    "id": "aUt6Uv6YbAHS"
   },
   "source": [
    "### poly kernel"
   ]
  },
  {
   "cell_type": "code",
   "execution_count": 26,
   "metadata": {
    "colab": {},
    "colab_type": "code",
    "id": "zl_NDNYmbAFg"
   },
   "outputs": [
    {
     "name": "stdout",
     "output_type": "stream",
     "text": [
      "Duration: 0:00:05.615909\n"
     ]
    }
   ],
   "source": [
    "import time\n",
    "from datetime import datetime\n",
    "\n",
    "start_time = datetime.now()\n",
    "\n",
    "####################\n",
    "# do your work here\n",
    "from sklearn.svm import SVC  \n",
    "svclassifier = SVC(kernel='poly', gamma = 'auto')  \n",
    "model2 = svclassifier.fit(X_train[1:10000], y_train[1:10000]) \n",
    "\n",
    "#\n",
    "####################\n",
    "\n",
    "end_time = datetime.now()\n",
    "print('Duration: {}'.format(end_time - start_time))"
   ]
  },
  {
   "cell_type": "code",
   "execution_count": 27,
   "metadata": {
    "colab": {},
    "colab_type": "code",
    "id": "p9xzDetjbADi"
   },
   "outputs": [
    {
     "name": "stdout",
     "output_type": "stream",
     "text": [
      "Train.AUC: 0.5084162940473365\n",
      "Valid.AUC: 0.5089680078592158\n"
     ]
    }
   ],
   "source": [
    "pred = model2.predict(X_train[1:10000])\n",
    "y = y_train[1:10000]\n",
    "from sklearn import metrics\n",
    "fpr, tpr, thresholds = metrics.roc_curve(y, pred, pos_label=1)\n",
    "#metrics.auc(fpr, tpr)\n",
    "print('Train.AUC: {}'.format(metrics.auc(fpr, tpr)))\n",
    "\n",
    "pred = model2.predict(X_valid[1:10000])\n",
    "y = y_valid[1:10000]\n",
    "from sklearn import metrics\n",
    "fpr, tpr, thresholds = metrics.roc_curve(y, pred, pos_label=1)\n",
    "#metrics.auc(fpr, tpr)\n",
    "print('Valid.AUC: {}'.format(metrics.auc(fpr, tpr)))"
   ]
  },
  {
   "cell_type": "code",
   "execution_count": null,
   "metadata": {
    "colab": {},
    "colab_type": "code",
    "id": "90wu-eZ6bABK"
   },
   "outputs": [],
   "source": []
  },
  {
   "cell_type": "code",
   "execution_count": null,
   "metadata": {},
   "outputs": [],
   "source": []
  },
  {
   "cell_type": "markdown",
   "metadata": {},
   "source": [
    "### sigmoid"
   ]
  },
  {
   "cell_type": "code",
   "execution_count": 28,
   "metadata": {},
   "outputs": [
    {
     "name": "stdout",
     "output_type": "stream",
     "text": [
      "Duration: 0:00:05.384301\n"
     ]
    }
   ],
   "source": [
    "import time\n",
    "from datetime import datetime\n",
    "\n",
    "start_time = datetime.now()\n",
    "\n",
    "####################\n",
    "# do your work here\n",
    "from sklearn.svm import SVC  \n",
    "svclassifier = SVC(kernel='sigmoid', gamma = 'auto')  \n",
    "model2 = svclassifier.fit(X_train[1:10000], y_train[1:10000]) \n",
    "\n",
    "#\n",
    "####################\n",
    "\n",
    "end_time = datetime.now()\n",
    "print('Duration: {}'.format(end_time - start_time))"
   ]
  },
  {
   "cell_type": "code",
   "execution_count": 29,
   "metadata": {},
   "outputs": [
    {
     "name": "stdout",
     "output_type": "stream",
     "text": [
      "Train.AUC: 0.5439117072122638\n",
      "Valid.AUC: 0.5461501001213735\n"
     ]
    }
   ],
   "source": [
    "pred = model2.predict(X_train[1:10000])\n",
    "y = y_train[1:10000]\n",
    "from sklearn import metrics\n",
    "fpr, tpr, thresholds = metrics.roc_curve(y, pred, pos_label=1)\n",
    "#metrics.auc(fpr, tpr)\n",
    "print('Train.AUC: {}'.format(metrics.auc(fpr, tpr)))\n",
    "\n",
    "pred = model2.predict(X_valid[1:10000])\n",
    "y = y_valid[1:10000]\n",
    "from sklearn import metrics\n",
    "fpr, tpr, thresholds = metrics.roc_curve(y, pred, pos_label=1)\n",
    "#metrics.auc(fpr, tpr)\n",
    "print('Valid.AUC: {}'.format(metrics.auc(fpr, tpr)))"
   ]
  },
  {
   "cell_type": "code",
   "execution_count": null,
   "metadata": {},
   "outputs": [],
   "source": []
  },
  {
   "cell_type": "code",
   "execution_count": null,
   "metadata": {},
   "outputs": [],
   "source": []
  },
  {
   "cell_type": "code",
   "execution_count": 30,
   "metadata": {},
   "outputs": [
    {
     "name": "stdout",
     "output_type": "stream",
     "text": [
      "Duration: 0:00:06.528583\n"
     ]
    }
   ],
   "source": [
    "import time\n",
    "from datetime import datetime\n",
    "\n",
    "start_time = datetime.now()\n",
    "\n",
    "####################\n",
    "# do your work here\n",
    "from sklearn.svm import NuSVC\n",
    "clf = NuSVC(gamma='scale')\n",
    "model3 = clf.fit(X_train[1:10000], y_train[1:10000]) \n",
    "#\n",
    "####################\n",
    "\n",
    "end_time = datetime.now()\n",
    "print('Duration: {}'.format(end_time - start_time))"
   ]
  },
  {
   "cell_type": "code",
   "execution_count": 31,
   "metadata": {},
   "outputs": [
    {
     "name": "stdout",
     "output_type": "stream",
     "text": [
      "Train.AUC: 0.5285687282130782\n",
      "Valid.AUC: 0.5215246095217647\n"
     ]
    }
   ],
   "source": [
    "pred = model3.predict(X_train[1:10000])\n",
    "y = y_train[1:10000]\n",
    "from sklearn import metrics\n",
    "fpr, tpr, thresholds = metrics.roc_curve(y, pred, pos_label=1)\n",
    "#metrics.auc(fpr, tpr)\n",
    "print('Train.AUC: {}'.format(metrics.auc(fpr, tpr)))\n",
    "\n",
    "pred = model3.predict(X_valid[1:10000])\n",
    "y = y_valid[1:10000]\n",
    "from sklearn import metrics\n",
    "fpr, tpr, thresholds = metrics.roc_curve(y, pred, pos_label=1)\n",
    "#metrics.auc(fpr, tpr)\n",
    "print('Valid.AUC: {}'.format(metrics.auc(fpr, tpr)))"
   ]
  },
  {
   "cell_type": "code",
   "execution_count": null,
   "metadata": {},
   "outputs": [],
   "source": []
  },
  {
   "cell_type": "code",
   "execution_count": null,
   "metadata": {},
   "outputs": [],
   "source": []
  },
  {
   "cell_type": "code",
   "execution_count": null,
   "metadata": {},
   "outputs": [],
   "source": []
  },
  {
   "cell_type": "code",
   "execution_count": null,
   "metadata": {},
   "outputs": [],
   "source": []
  },
  {
   "cell_type": "code",
   "execution_count": null,
   "metadata": {},
   "outputs": [],
   "source": []
  },
  {
   "cell_type": "code",
   "execution_count": null,
   "metadata": {},
   "outputs": [],
   "source": []
  },
  {
   "cell_type": "code",
   "execution_count": null,
   "metadata": {},
   "outputs": [],
   "source": []
  },
  {
   "cell_type": "code",
   "execution_count": null,
   "metadata": {},
   "outputs": [],
   "source": []
  },
  {
   "cell_type": "code",
   "execution_count": null,
   "metadata": {
    "colab": {},
    "colab_type": "code",
    "id": "V2J_zJfqa_-6"
   },
   "outputs": [],
   "source": []
  },
  {
   "cell_type": "code",
   "execution_count": 166,
   "metadata": {
    "colab": {},
    "colab_type": "code",
    "id": "0tuJub_mNDb-"
   },
   "outputs": [],
   "source": [
    "from sklearn import svm\n",
    "from sklearn.model_selection import GridSearchCV\n",
    "\n",
    "def svc_param_selection(X, y, nfolds):\n",
    "    Cs = [0.001, 0.01, 0.1, 1, 10]\n",
    "    gammas = [0.001, 0.01, 0.1, 1]\n",
    "    param_grid = {'C': Cs, 'gamma' : gammas}\n",
    "    grid_search = GridSearchCV(svm.SVC(kernel='rbf'), param_grid, cv=nfolds)\n",
    "    grid_search.fit(X, y)\n",
    "    grid_search.best_params_\n",
    "    return grid_search.best_params_"
   ]
  },
  {
   "cell_type": "code",
   "execution_count": 175,
   "metadata": {
    "colab": {
     "base_uri": "https://localhost:8080/",
     "height": 2751
    },
    "colab_type": "code",
    "executionInfo": {
     "elapsed": 1187,
     "status": "error",
     "timestamp": 1552921175609,
     "user": {
      "displayName": "Shengjun Wang",
      "photoUrl": "",
      "userId": "04953405560919249117"
     },
     "user_tz": 240
    },
    "id": "NBtjWhnxNDcA",
    "outputId": "5f4763b6-df6d-4e8a-a137-96ff84609e9a"
   },
   "outputs": [
    {
     "name": "stdout",
     "output_type": "stream",
     "text": [
      "Duration: 0:01:28.578195\n",
      "{'C': 10, 'gamma': 0.01}\n"
     ]
    },
    {
     "name": "stderr",
     "output_type": "stream",
     "text": [
      "/anaconda3/envs/py_3_6/lib/python3.6/site-packages/sklearn/model_selection/_search.py:841: DeprecationWarning: The default of the `iid` parameter will change from True to False in version 0.22 and will be removed in 0.24. This will change numeric results when test-set sizes are unequal.\n",
      "  DeprecationWarning)\n"
     ]
    }
   ],
   "source": [
    "import time\n",
    "from datetime import datetime\n",
    "\n",
    "start_time = datetime.now()\n",
    "\n",
    "####################\n",
    "# do your work here\n",
    "best_parm = svc_param_selection(X_train[1:1000], y_train[1:1000], 50)\n",
    "#\n",
    "####################\n",
    "\n",
    "end_time = datetime.now()\n",
    "print('Duration: {}'.format(end_time - start_time))\n",
    "print(best_parm)"
   ]
  },
  {
   "cell_type": "code",
   "execution_count": 176,
   "metadata": {
    "colab": {
     "base_uri": "https://localhost:8080/",
     "height": 85
    },
    "colab_type": "code",
    "executionInfo": {
     "elapsed": 6973,
     "status": "ok",
     "timestamp": 1552844476851,
     "user": {
      "displayName": "Shengjun Wang",
      "photoUrl": "",
      "userId": "04953405560919249117"
     },
     "user_tz": 240
    },
    "id": "y328rdUmNDcJ",
    "outputId": "d78132fb-24fe-4779-eb66-25b52d42b8cb"
   },
   "outputs": [
    {
     "data": {
      "text/plain": [
       "SVC(C=10, cache_size=200, class_weight=None, coef0=0.0,\n",
       "  decision_function_shape='ovr', degree=3, gamma=0.01, kernel='rbf',\n",
       "  max_iter=-1, probability=False, random_state=None, shrinking=True,\n",
       "  tol=0.001, verbose=False)"
      ]
     },
     "execution_count": 176,
     "metadata": {},
     "output_type": "execute_result"
    }
   ],
   "source": [
    "from sklearn.svm import SVC\n",
    "svc = SVC(C =10, gamma = 0.01, kernel='rbf')\n",
    "svc.fit(X_train[1:1000], y_train[1:1000])"
   ]
  },
  {
   "cell_type": "code",
   "execution_count": 177,
   "metadata": {
    "colab": {},
    "colab_type": "code",
    "id": "VPi51cIPT6np"
   },
   "outputs": [],
   "source": [
    "# error rate\n",
    "pred = svc.predict(X_valid[1:1000])\n",
    "y = y_valid[1:1000]\n"
   ]
  },
  {
   "cell_type": "code",
   "execution_count": 178,
   "metadata": {
    "colab": {
     "base_uri": "https://localhost:8080/",
     "height": 34
    },
    "colab_type": "code",
    "executionInfo": {
     "elapsed": 387,
     "status": "ok",
     "timestamp": 1552844988648,
     "user": {
      "displayName": "Shengjun Wang",
      "photoUrl": "",
      "userId": "04953405560919249117"
     },
     "user_tz": 240
    },
    "id": "YRmJ7HImNDcR",
    "outputId": "015ce350-fc37-4e5c-ca2b-a1a3bd9e39f8"
   },
   "outputs": [
    {
     "data": {
      "text/plain": [
       "0.5024562771527236"
      ]
     },
     "execution_count": 178,
     "metadata": {},
     "output_type": "execute_result"
    }
   ],
   "source": [
    "from sklearn import metrics\n",
    "fpr, tpr, thresholds = metrics.roc_curve(y, pred, pos_label=1)\n",
    "metrics.auc(fpr, tpr)"
   ]
  },
  {
   "cell_type": "code",
   "execution_count": null,
   "metadata": {},
   "outputs": [],
   "source": []
  },
  {
   "cell_type": "code",
   "execution_count": null,
   "metadata": {},
   "outputs": [],
   "source": []
  },
  {
   "cell_type": "code",
   "execution_count": null,
   "metadata": {},
   "outputs": [],
   "source": []
  },
  {
   "cell_type": "code",
   "execution_count": null,
   "metadata": {},
   "outputs": [],
   "source": []
  },
  {
   "cell_type": "code",
   "execution_count": null,
   "metadata": {},
   "outputs": [],
   "source": []
  },
  {
   "cell_type": "code",
   "execution_count": null,
   "metadata": {},
   "outputs": [],
   "source": []
  },
  {
   "cell_type": "code",
   "execution_count": null,
   "metadata": {},
   "outputs": [],
   "source": []
  },
  {
   "cell_type": "code",
   "execution_count": null,
   "metadata": {},
   "outputs": [],
   "source": []
  },
  {
   "cell_type": "code",
   "execution_count": null,
   "metadata": {},
   "outputs": [],
   "source": []
  },
  {
   "cell_type": "code",
   "execution_count": null,
   "metadata": {},
   "outputs": [],
   "source": []
  },
  {
   "cell_type": "code",
   "execution_count": null,
   "metadata": {},
   "outputs": [],
   "source": []
  },
  {
   "cell_type": "code",
   "execution_count": null,
   "metadata": {},
   "outputs": [],
   "source": []
  },
  {
   "cell_type": "code",
   "execution_count": 92,
   "metadata": {
    "colab": {},
    "colab_type": "code",
    "id": "IcGK149nNDcm"
   },
   "outputs": [],
   "source": []
  },
  {
   "cell_type": "code",
   "execution_count": null,
   "metadata": {},
   "outputs": [],
   "source": []
  },
  {
   "cell_type": "code",
   "execution_count": 72,
   "metadata": {
    "colab": {},
    "colab_type": "code",
    "id": "cb0xZt3oNDco"
   },
   "outputs": [],
   "source": []
  },
  {
   "cell_type": "code",
   "execution_count": 0,
   "metadata": {
    "colab": {},
    "colab_type": "code",
    "id": "1VWcJhqRNDcp"
   },
   "outputs": [],
   "source": []
  },
  {
   "cell_type": "code",
   "execution_count": 0,
   "metadata": {
    "colab": {},
    "colab_type": "code",
    "id": "amPeIfBhNDcr"
   },
   "outputs": [],
   "source": []
  },
  {
   "cell_type": "code",
   "execution_count": 0,
   "metadata": {
    "colab": {},
    "colab_type": "code",
    "id": "JMqFKiBZNDct"
   },
   "outputs": [],
   "source": []
  },
  {
   "cell_type": "code",
   "execution_count": 0,
   "metadata": {
    "colab": {},
    "colab_type": "code",
    "id": "22JjGueoNDcx"
   },
   "outputs": [],
   "source": []
  }
 ],
 "metadata": {
  "accelerator": "GPU",
  "colab": {
   "collapsed_sections": [],
   "name": "S2_EDA.ipynb",
   "provenance": [],
   "version": "0.3.2"
  },
  "kernelspec": {
   "display_name": "Python 3",
   "language": "python",
   "name": "python3"
  },
  "language_info": {
   "codemirror_mode": {
    "name": "ipython",
    "version": 3
   },
   "file_extension": ".py",
   "mimetype": "text/x-python",
   "name": "python",
   "nbconvert_exporter": "python",
   "pygments_lexer": "ipython3",
   "version": "3.6.7"
  }
 },
 "nbformat": 4,
 "nbformat_minor": 1
}
