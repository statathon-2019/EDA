{
  "nbformat": 4,
  "nbformat_minor": 0,
  "metadata": {
    "colab": {
      "name": "Naive Bayes.ipynb",
      "version": "0.3.2",
      "provenance": []
    },
    "kernelspec": {
      "name": "python3",
      "display_name": "Python 3"
    }
  },
  "cells": [
    {
      "metadata": {
        "id": "w6hGYRstdQh8",
        "colab_type": "code",
        "colab": {}
      },
      "cell_type": "code",
      "source": [
        "import numpy as np\n",
        "import pandas as pd\n",
        "import matplotlib.pyplot as plt\n",
        "import statsmodels.api as sm\n",
        "from scipy import stats\n",
        "from sklearn import metrics\n",
        "from sklearn.metrics import roc_auc_score\n",
        "from patsy import dmatrices\n",
        "from sklearn import preprocessing\n",
        "from sklearn.preprocessing import StandardScaler\n",
        "from sklearn.decomposition import PCA\n",
        "from sklearn.preprocessing import PolynomialFeatures\n",
        "from sklearn.naive_bayes import GaussianNB\n",
        "from sklearn.naive_bayes import ComplementNB \n",
        "from sklearn.naive_bayes import MultinomialNB\n",
        "from sklearn.naive_bayes import BernoulliNB\n"
      ],
      "execution_count": 0,
      "outputs": []
    },
    {
      "metadata": {
        "id": "xUhlyzB_e0qQ",
        "colab_type": "code",
        "colab": {
          "base_uri": "https://localhost:8080/",
          "height": 240
        },
        "outputId": "114e96ff-09b3-4918-b139-582f4d3d573a"
      },
      "cell_type": "code",
      "source": [
        "clean=pd.read_csv('cleaned.csv')\n",
        "clean.head()"
      ],
      "execution_count": 3,
      "outputs": [
        {
          "output_type": "execute_result",
          "data": {
            "text/html": [
              "<div>\n",
              "<style scoped>\n",
              "    .dataframe tbody tr th:only-of-type {\n",
              "        vertical-align: middle;\n",
              "    }\n",
              "\n",
              "    .dataframe tbody tr th {\n",
              "        vertical-align: top;\n",
              "    }\n",
              "\n",
              "    .dataframe thead th {\n",
              "        text-align: right;\n",
              "    }\n",
              "</style>\n",
              "<table border=\"1\" class=\"dataframe\">\n",
              "  <thead>\n",
              "    <tr style=\"text-align: right;\">\n",
              "      <th></th>\n",
              "      <th>Unnamed: 0</th>\n",
              "      <th>cancel</th>\n",
              "      <th>year</th>\n",
              "      <th>zip.code</th>\n",
              "      <th>house.color</th>\n",
              "      <th>ni.age</th>\n",
              "      <th>len.at.res</th>\n",
              "      <th>credit</th>\n",
              "      <th>coverage.type</th>\n",
              "      <th>dwelling.type</th>\n",
              "      <th>premium</th>\n",
              "      <th>sales.channel</th>\n",
              "      <th>ni.gender</th>\n",
              "      <th>ni.marital.status</th>\n",
              "      <th>n.adults</th>\n",
              "      <th>n.children</th>\n",
              "      <th>tenure</th>\n",
              "      <th>claim.ind</th>\n",
              "      <th>state</th>\n",
              "    </tr>\n",
              "  </thead>\n",
              "  <tbody>\n",
              "    <tr>\n",
              "      <th>0</th>\n",
              "      <td>0</td>\n",
              "      <td>0</td>\n",
              "      <td>2013</td>\n",
              "      <td>98004.0</td>\n",
              "      <td>blue</td>\n",
              "      <td>37.0</td>\n",
              "      <td>18.000000</td>\n",
              "      <td>high</td>\n",
              "      <td>C</td>\n",
              "      <td>Tenant</td>\n",
              "      <td>950.507336</td>\n",
              "      <td>Broker</td>\n",
              "      <td>F</td>\n",
              "      <td>0.0</td>\n",
              "      <td>2.0</td>\n",
              "      <td>0.0</td>\n",
              "      <td>15.0</td>\n",
              "      <td>0.0</td>\n",
              "      <td>WA</td>\n",
              "    </tr>\n",
              "    <tr>\n",
              "      <th>1</th>\n",
              "      <td>1</td>\n",
              "      <td>0</td>\n",
              "      <td>2013</td>\n",
              "      <td>85017.0</td>\n",
              "      <td>white</td>\n",
              "      <td>40.0</td>\n",
              "      <td>17.000000</td>\n",
              "      <td>medium</td>\n",
              "      <td>A</td>\n",
              "      <td>Condo</td>\n",
              "      <td>909.346046</td>\n",
              "      <td>Broker</td>\n",
              "      <td>F</td>\n",
              "      <td>1.0</td>\n",
              "      <td>5.0</td>\n",
              "      <td>0.0</td>\n",
              "      <td>15.0</td>\n",
              "      <td>0.0</td>\n",
              "      <td>AZ</td>\n",
              "    </tr>\n",
              "    <tr>\n",
              "      <th>2</th>\n",
              "      <td>2</td>\n",
              "      <td>0</td>\n",
              "      <td>2013</td>\n",
              "      <td>80021.0</td>\n",
              "      <td>white</td>\n",
              "      <td>45.0</td>\n",
              "      <td>14.000000</td>\n",
              "      <td>high</td>\n",
              "      <td>A</td>\n",
              "      <td>House</td>\n",
              "      <td>897.084502</td>\n",
              "      <td>Phone</td>\n",
              "      <td>M</td>\n",
              "      <td>0.0</td>\n",
              "      <td>1.0</td>\n",
              "      <td>0.0</td>\n",
              "      <td>14.0</td>\n",
              "      <td>0.0</td>\n",
              "      <td>CO</td>\n",
              "    </tr>\n",
              "    <tr>\n",
              "      <th>3</th>\n",
              "      <td>3</td>\n",
              "      <td>0</td>\n",
              "      <td>2013</td>\n",
              "      <td>85002.0</td>\n",
              "      <td>red</td>\n",
              "      <td>45.0</td>\n",
              "      <td>24.366136</td>\n",
              "      <td>high</td>\n",
              "      <td>A</td>\n",
              "      <td>House</td>\n",
              "      <td>979.039007</td>\n",
              "      <td>Phone</td>\n",
              "      <td>M</td>\n",
              "      <td>0.0</td>\n",
              "      <td>5.0</td>\n",
              "      <td>0.0</td>\n",
              "      <td>22.0</td>\n",
              "      <td>1.0</td>\n",
              "      <td>AZ</td>\n",
              "    </tr>\n",
              "    <tr>\n",
              "      <th>4</th>\n",
              "      <td>4</td>\n",
              "      <td>0</td>\n",
              "      <td>2013</td>\n",
              "      <td>50001.0</td>\n",
              "      <td>yellow</td>\n",
              "      <td>36.0</td>\n",
              "      <td>16.000000</td>\n",
              "      <td>high</td>\n",
              "      <td>C</td>\n",
              "      <td>House</td>\n",
              "      <td>932.379027</td>\n",
              "      <td>Broker</td>\n",
              "      <td>M</td>\n",
              "      <td>1.0</td>\n",
              "      <td>2.0</td>\n",
              "      <td>4.0</td>\n",
              "      <td>4.0</td>\n",
              "      <td>0.0</td>\n",
              "      <td>IA</td>\n",
              "    </tr>\n",
              "  </tbody>\n",
              "</table>\n",
              "</div>"
            ],
            "text/plain": [
              "   Unnamed: 0  cancel  year  zip.code house.color  ni.age  len.at.res  credit  \\\n",
              "0           0       0  2013   98004.0        blue    37.0   18.000000    high   \n",
              "1           1       0  2013   85017.0       white    40.0   17.000000  medium   \n",
              "2           2       0  2013   80021.0       white    45.0   14.000000    high   \n",
              "3           3       0  2013   85002.0         red    45.0   24.366136    high   \n",
              "4           4       0  2013   50001.0      yellow    36.0   16.000000    high   \n",
              "\n",
              "  coverage.type dwelling.type     premium sales.channel ni.gender  \\\n",
              "0             C        Tenant  950.507336        Broker         F   \n",
              "1             A         Condo  909.346046        Broker         F   \n",
              "2             A         House  897.084502         Phone         M   \n",
              "3             A         House  979.039007         Phone         M   \n",
              "4             C         House  932.379027        Broker         M   \n",
              "\n",
              "   ni.marital.status  n.adults  n.children  tenure  claim.ind state  \n",
              "0                0.0       2.0         0.0    15.0        0.0    WA  \n",
              "1                1.0       5.0         0.0    15.0        0.0    AZ  \n",
              "2                0.0       1.0         0.0    14.0        0.0    CO  \n",
              "3                0.0       5.0         0.0    22.0        1.0    AZ  \n",
              "4                1.0       2.0         4.0     4.0        0.0    IA  "
            ]
          },
          "metadata": {
            "tags": []
          },
          "execution_count": 3
        }
      ]
    },
    {
      "metadata": {
        "id": "D3oKAzPcgkkO",
        "colab_type": "code",
        "colab": {}
      },
      "cell_type": "code",
      "source": [
        "clean.columns = ['index', 'cancel','year', 'zip','color','age','len','credit','coverage','dwelling','premium','channel','gender','marital','adults','children','tenure','claim','state']"
      ],
      "execution_count": 0,
      "outputs": []
    },
    {
      "metadata": {
        "id": "612Qagnwgk8r",
        "colab_type": "code",
        "colab": {
          "base_uri": "https://localhost:8080/",
          "height": 232
        },
        "outputId": "70564a92-150a-45a6-9737-10588f103812"
      },
      "cell_type": "code",
      "source": [
        "clean_color = pd.get_dummies(clean['color'])\n",
        "clean_credit = pd.get_dummies(clean['credit'])\n",
        "clean_coverage = pd.get_dummies(clean['coverage'])\n",
        "clean_dwelling = pd.get_dummies(clean['dwelling'])\n",
        "clean_channel = pd.get_dummies(clean['channel'])\n",
        "clean_gender = pd.get_dummies(clean['gender'])\n",
        "clean_state = pd.get_dummies(clean['state'])\n",
        "clean = clean.join(clean_color)\n",
        "clean = clean.join(clean_credit)\n",
        "clean = clean.join(clean_coverage)\n",
        "clean = clean.join(clean_dwelling)\n",
        "clean = clean.join(clean_channel)\n",
        "clean = clean.join(clean_gender)\n",
        "clean = clean.join(clean_state)\n",
        "clean.head()"
      ],
      "execution_count": 5,
      "outputs": [
        {
          "output_type": "execute_result",
          "data": {
            "text/html": [
              "<div>\n",
              "<style scoped>\n",
              "    .dataframe tbody tr th:only-of-type {\n",
              "        vertical-align: middle;\n",
              "    }\n",
              "\n",
              "    .dataframe tbody tr th {\n",
              "        vertical-align: top;\n",
              "    }\n",
              "\n",
              "    .dataframe thead th {\n",
              "        text-align: right;\n",
              "    }\n",
              "</style>\n",
              "<table border=\"1\" class=\"dataframe\">\n",
              "  <thead>\n",
              "    <tr style=\"text-align: right;\">\n",
              "      <th></th>\n",
              "      <th>index</th>\n",
              "      <th>cancel</th>\n",
              "      <th>year</th>\n",
              "      <th>zip</th>\n",
              "      <th>color</th>\n",
              "      <th>age</th>\n",
              "      <th>len</th>\n",
              "      <th>credit</th>\n",
              "      <th>coverage</th>\n",
              "      <th>dwelling</th>\n",
              "      <th>...</th>\n",
              "      <th>Online</th>\n",
              "      <th>Phone</th>\n",
              "      <th>F</th>\n",
              "      <th>M</th>\n",
              "      <th>AZ</th>\n",
              "      <th>CO</th>\n",
              "      <th>IA</th>\n",
              "      <th>PA</th>\n",
              "      <th>VA</th>\n",
              "      <th>WA</th>\n",
              "    </tr>\n",
              "  </thead>\n",
              "  <tbody>\n",
              "    <tr>\n",
              "      <th>0</th>\n",
              "      <td>0</td>\n",
              "      <td>0</td>\n",
              "      <td>2013</td>\n",
              "      <td>98004.0</td>\n",
              "      <td>blue</td>\n",
              "      <td>37.0</td>\n",
              "      <td>18.000000</td>\n",
              "      <td>high</td>\n",
              "      <td>C</td>\n",
              "      <td>Tenant</td>\n",
              "      <td>...</td>\n",
              "      <td>0</td>\n",
              "      <td>0</td>\n",
              "      <td>1</td>\n",
              "      <td>0</td>\n",
              "      <td>0</td>\n",
              "      <td>0</td>\n",
              "      <td>0</td>\n",
              "      <td>0</td>\n",
              "      <td>0</td>\n",
              "      <td>1</td>\n",
              "    </tr>\n",
              "    <tr>\n",
              "      <th>1</th>\n",
              "      <td>1</td>\n",
              "      <td>0</td>\n",
              "      <td>2013</td>\n",
              "      <td>85017.0</td>\n",
              "      <td>white</td>\n",
              "      <td>40.0</td>\n",
              "      <td>17.000000</td>\n",
              "      <td>medium</td>\n",
              "      <td>A</td>\n",
              "      <td>Condo</td>\n",
              "      <td>...</td>\n",
              "      <td>0</td>\n",
              "      <td>0</td>\n",
              "      <td>1</td>\n",
              "      <td>0</td>\n",
              "      <td>1</td>\n",
              "      <td>0</td>\n",
              "      <td>0</td>\n",
              "      <td>0</td>\n",
              "      <td>0</td>\n",
              "      <td>0</td>\n",
              "    </tr>\n",
              "    <tr>\n",
              "      <th>2</th>\n",
              "      <td>2</td>\n",
              "      <td>0</td>\n",
              "      <td>2013</td>\n",
              "      <td>80021.0</td>\n",
              "      <td>white</td>\n",
              "      <td>45.0</td>\n",
              "      <td>14.000000</td>\n",
              "      <td>high</td>\n",
              "      <td>A</td>\n",
              "      <td>House</td>\n",
              "      <td>...</td>\n",
              "      <td>0</td>\n",
              "      <td>1</td>\n",
              "      <td>0</td>\n",
              "      <td>1</td>\n",
              "      <td>0</td>\n",
              "      <td>1</td>\n",
              "      <td>0</td>\n",
              "      <td>0</td>\n",
              "      <td>0</td>\n",
              "      <td>0</td>\n",
              "    </tr>\n",
              "    <tr>\n",
              "      <th>3</th>\n",
              "      <td>3</td>\n",
              "      <td>0</td>\n",
              "      <td>2013</td>\n",
              "      <td>85002.0</td>\n",
              "      <td>red</td>\n",
              "      <td>45.0</td>\n",
              "      <td>24.366136</td>\n",
              "      <td>high</td>\n",
              "      <td>A</td>\n",
              "      <td>House</td>\n",
              "      <td>...</td>\n",
              "      <td>0</td>\n",
              "      <td>1</td>\n",
              "      <td>0</td>\n",
              "      <td>1</td>\n",
              "      <td>1</td>\n",
              "      <td>0</td>\n",
              "      <td>0</td>\n",
              "      <td>0</td>\n",
              "      <td>0</td>\n",
              "      <td>0</td>\n",
              "    </tr>\n",
              "    <tr>\n",
              "      <th>4</th>\n",
              "      <td>4</td>\n",
              "      <td>0</td>\n",
              "      <td>2013</td>\n",
              "      <td>50001.0</td>\n",
              "      <td>yellow</td>\n",
              "      <td>36.0</td>\n",
              "      <td>16.000000</td>\n",
              "      <td>high</td>\n",
              "      <td>C</td>\n",
              "      <td>House</td>\n",
              "      <td>...</td>\n",
              "      <td>0</td>\n",
              "      <td>0</td>\n",
              "      <td>0</td>\n",
              "      <td>1</td>\n",
              "      <td>0</td>\n",
              "      <td>0</td>\n",
              "      <td>1</td>\n",
              "      <td>0</td>\n",
              "      <td>0</td>\n",
              "      <td>0</td>\n",
              "    </tr>\n",
              "  </tbody>\n",
              "</table>\n",
              "<p>5 rows × 43 columns</p>\n",
              "</div>"
            ],
            "text/plain": [
              "   index  cancel  year      zip   color   age        len  credit coverage  \\\n",
              "0      0       0  2013  98004.0    blue  37.0  18.000000    high        C   \n",
              "1      1       0  2013  85017.0   white  40.0  17.000000  medium        A   \n",
              "2      2       0  2013  80021.0   white  45.0  14.000000    high        A   \n",
              "3      3       0  2013  85002.0     red  45.0  24.366136    high        A   \n",
              "4      4       0  2013  50001.0  yellow  36.0  16.000000    high        C   \n",
              "\n",
              "  dwelling ...  Online Phone  F  M  AZ  CO  IA  PA VA  WA  \n",
              "0   Tenant ...       0     0  1  0   0   0   0   0  0   1  \n",
              "1    Condo ...       0     0  1  0   1   0   0   0  0   0  \n",
              "2    House ...       0     1  0  1   0   1   0   0  0   0  \n",
              "3    House ...       0     1  0  1   1   0   0   0  0   0  \n",
              "4    House ...       0     0  0  1   0   0   1   0  0   0  \n",
              "\n",
              "[5 rows x 43 columns]"
            ]
          },
          "metadata": {
            "tags": []
          },
          "execution_count": 5
        }
      ]
    },
    {
      "metadata": {
        "id": "X9wumHVlgp-p",
        "colab_type": "code",
        "colab": {}
      },
      "cell_type": "code",
      "source": [
        "clean2013=clean.loc[clean['year'] == 2013]\n",
        "clean2014=clean.loc[clean['year'] == 2014]\n",
        "clean2015=clean.loc[clean['year'] == 2015]\n",
        "clean2016=clean.loc[clean['year'] == 2016]"
      ],
      "execution_count": 0,
      "outputs": []
    },
    {
      "metadata": {
        "id": "PY1SUIHfgqVs",
        "colab_type": "code",
        "colab": {}
      },
      "cell_type": "code",
      "source": [
        "clean_naive = clean[['age' , 'len' , 'premium' , 'marital' , 'adults' , 'children' , 'tenure' , 'claim' , 'blue' , 'red' , 'white', 'yellow' , 'low' , 'high' , 'medium', 'A' , 'B' , 'C' , 'Condo' , 'House' , 'Tenant' , 'Broker' , 'Online' , 'Phone' , 'F' ,'M' , 'AZ' , 'CO' , 'IA' , 'PA' , 'VA' , 'WA']]\n",
        "clean_pred = clean[['cancel']]"
      ],
      "execution_count": 0,
      "outputs": []
    },
    {
      "metadata": {
        "id": "7LqIdpQ6g7EJ",
        "colab_type": "code",
        "colab": {}
      },
      "cell_type": "code",
      "source": [
        "gnb = GaussianNB()\n",
        "cnb = ComplementNB()\n",
        "mnb = MultinomialNB()\n",
        "bnb = BernoulliNB()"
      ],
      "execution_count": 0,
      "outputs": []
    },
    {
      "metadata": {
        "id": "aymZT1vtiov6",
        "colab_type": "code",
        "colab": {
          "base_uri": "https://localhost:8080/",
          "height": 72
        },
        "outputId": "a13a2aca-5d9a-4c48-c907-7f1e3b1d4c20"
      },
      "cell_type": "code",
      "source": [
        "y_pred = gnb.fit(clean_naive, clean_pred).predict(clean_naive)"
      ],
      "execution_count": 9,
      "outputs": [
        {
          "output_type": "stream",
          "text": [
            "/usr/local/lib/python3.6/dist-packages/sklearn/utils/validation.py:761: DataConversionWarning: A column-vector y was passed when a 1d array was expected. Please change the shape of y to (n_samples, ), for example using ravel().\n",
            "  y = column_or_1d(y, warn=True)\n"
          ],
          "name": "stderr"
        }
      ]
    },
    {
      "metadata": {
        "id": "j_3MyfPRiwSK",
        "colab_type": "code",
        "colab": {
          "base_uri": "https://localhost:8080/",
          "height": 35
        },
        "outputId": "652ea1ac-d8ce-41f4-8243-d9943e517967"
      },
      "cell_type": "code",
      "source": [
        "y_true_inter = clean_pred\n",
        "y_scores_inter = y_pred\n",
        "roc_auc_score(y_true_inter, y_scores_inter)"
      ],
      "execution_count": 10,
      "outputs": [
        {
          "output_type": "execute_result",
          "data": {
            "text/plain": [
              "0.6289200712207468"
            ]
          },
          "metadata": {
            "tags": []
          },
          "execution_count": 10
        }
      ]
    },
    {
      "metadata": {
        "id": "xNpcNGhhi_bQ",
        "colab_type": "code",
        "colab": {
          "base_uri": "https://localhost:8080/",
          "height": 72
        },
        "outputId": "502ec177-d384-4ab8-c016-34150d5180cf"
      },
      "cell_type": "code",
      "source": [
        "y_pred = cnb.fit(clean_naive, clean_pred).predict(clean_naive)"
      ],
      "execution_count": 14,
      "outputs": [
        {
          "output_type": "stream",
          "text": [
            "/usr/local/lib/python3.6/dist-packages/sklearn/utils/validation.py:761: DataConversionWarning: A column-vector y was passed when a 1d array was expected. Please change the shape of y to (n_samples, ), for example using ravel().\n",
            "  y = column_or_1d(y, warn=True)\n"
          ],
          "name": "stderr"
        }
      ]
    },
    {
      "metadata": {
        "id": "39TBYP0ak688",
        "colab_type": "code",
        "colab": {
          "base_uri": "https://localhost:8080/",
          "height": 35
        },
        "outputId": "506dabdd-05ca-44bd-d2f5-1ba0f02eeb15"
      },
      "cell_type": "code",
      "source": [
        "y_true_inter = clean_pred\n",
        "y_scores_inter = y_pred\n",
        "roc_auc_score(y_true_inter, y_scores_inter)"
      ],
      "execution_count": 15,
      "outputs": [
        {
          "output_type": "execute_result",
          "data": {
            "text/plain": [
              "0.6319850832840581"
            ]
          },
          "metadata": {
            "tags": []
          },
          "execution_count": 15
        }
      ]
    },
    {
      "metadata": {
        "id": "12ZdiRCCk7EV",
        "colab_type": "code",
        "colab": {
          "base_uri": "https://localhost:8080/",
          "height": 72
        },
        "outputId": "0ed9836a-3497-43ce-b3a0-99e686a0fd23"
      },
      "cell_type": "code",
      "source": [
        "y_pred = mnb.fit(clean_naive, clean_pred).predict(clean_naive)"
      ],
      "execution_count": 16,
      "outputs": [
        {
          "output_type": "stream",
          "text": [
            "/usr/local/lib/python3.6/dist-packages/sklearn/utils/validation.py:761: DataConversionWarning: A column-vector y was passed when a 1d array was expected. Please change the shape of y to (n_samples, ), for example using ravel().\n",
            "  y = column_or_1d(y, warn=True)\n"
          ],
          "name": "stderr"
        }
      ]
    },
    {
      "metadata": {
        "id": "-vSP9rUrk7SD",
        "colab_type": "code",
        "colab": {
          "base_uri": "https://localhost:8080/",
          "height": 35
        },
        "outputId": "dd605075-833b-4219-df87-2e3b27c8c133"
      },
      "cell_type": "code",
      "source": [
        "y_true_inter = clean_pred\n",
        "y_scores_inter = y_pred\n",
        "roc_auc_score(y_true_inter, y_scores_inter)"
      ],
      "execution_count": 17,
      "outputs": [
        {
          "output_type": "execute_result",
          "data": {
            "text/plain": [
              "0.587170840864282"
            ]
          },
          "metadata": {
            "tags": []
          },
          "execution_count": 17
        }
      ]
    },
    {
      "metadata": {
        "id": "EkxnfetNk7YJ",
        "colab_type": "code",
        "colab": {
          "base_uri": "https://localhost:8080/",
          "height": 72
        },
        "outputId": "2a398825-93bf-4779-b93b-cfd15245b520"
      },
      "cell_type": "code",
      "source": [
        "y_pred = bnb.fit(clean_naive, clean_pred).predict(clean_naive)"
      ],
      "execution_count": 18,
      "outputs": [
        {
          "output_type": "stream",
          "text": [
            "/usr/local/lib/python3.6/dist-packages/sklearn/utils/validation.py:761: DataConversionWarning: A column-vector y was passed when a 1d array was expected. Please change the shape of y to (n_samples, ), for example using ravel().\n",
            "  y = column_or_1d(y, warn=True)\n"
          ],
          "name": "stderr"
        }
      ]
    },
    {
      "metadata": {
        "id": "ZopYjRFik7dW",
        "colab_type": "code",
        "colab": {
          "base_uri": "https://localhost:8080/",
          "height": 35
        },
        "outputId": "deb5f98d-18dc-4f4d-eb71-078a6e4e338e"
      },
      "cell_type": "code",
      "source": [
        "y_true_inter = clean_pred\n",
        "y_scores_inter = y_pred\n",
        "roc_auc_score(y_true_inter, y_scores_inter)"
      ],
      "execution_count": 19,
      "outputs": [
        {
          "output_type": "execute_result",
          "data": {
            "text/plain": [
              "0.5984079468802795"
            ]
          },
          "metadata": {
            "tags": []
          },
          "execution_count": 19
        }
      ]
    },
    {
      "metadata": {
        "id": "ST0KKZr5l3AD",
        "colab_type": "text"
      },
      "cell_type": "markdown",
      "source": [
        "### Partial Fit"
      ]
    },
    {
      "metadata": {
        "id": "ZWy8WgBflHml",
        "colab_type": "code",
        "colab": {}
      },
      "cell_type": "code",
      "source": [
        "clean_naive_cont = clean[['age' , 'len' , 'premium' , 'marital' , 'adults' , 'children' , 'tenure']]\n",
        "clean_naive_cat = clean[['claim' , 'blue' , 'red' , 'white', 'yellow' , 'low' , 'high' , 'medium', 'A' , 'B' , 'C' , 'Condo' , 'House' , 'Tenant' , 'Broker' , 'Online' , 'Phone' , 'F' ,'M' , 'AZ' , 'CO' , 'IA' , 'PA' , 'VA' , 'WA']]"
      ],
      "execution_count": 0,
      "outputs": []
    },
    {
      "metadata": {
        "id": "KlXEQ6z7mDak",
        "colab_type": "code",
        "colab": {
          "base_uri": "https://localhost:8080/",
          "height": 107
        },
        "outputId": "24bffa8e-48fd-4e2e-820e-f18ffe68187d"
      },
      "cell_type": "code",
      "source": [
        "y_pred_cat = bnb.fit(clean_naive_cat, clean_pred).predict(clean_naive_cat)\n",
        "y_pred_cont = cnb.fit(clean_naive_cont, clean_pred).predict(clean_naive_cont)"
      ],
      "execution_count": 27,
      "outputs": [
        {
          "output_type": "stream",
          "text": [
            "/usr/local/lib/python3.6/dist-packages/sklearn/utils/validation.py:761: DataConversionWarning: A column-vector y was passed when a 1d array was expected. Please change the shape of y to (n_samples, ), for example using ravel().\n",
            "  y = column_or_1d(y, warn=True)\n",
            "/usr/local/lib/python3.6/dist-packages/sklearn/utils/validation.py:761: DataConversionWarning: A column-vector y was passed when a 1d array was expected. Please change the shape of y to (n_samples, ), for example using ravel().\n",
            "  y = column_or_1d(y, warn=True)\n"
          ],
          "name": "stderr"
        }
      ]
    },
    {
      "metadata": {
        "id": "rHzOilhfmO6Q",
        "colab_type": "code",
        "colab": {
          "base_uri": "https://localhost:8080/",
          "height": 35
        },
        "outputId": "559ceb0d-f1cf-44a2-d681-aa52c4490d10"
      },
      "cell_type": "code",
      "source": [
        "y_true_inter = clean_pred\n",
        "y_scores_inter = y_pred_cont\n",
        "roc_auc_score(y_true_inter, y_scores_inter)"
      ],
      "execution_count": 28,
      "outputs": [
        {
          "output_type": "execute_result",
          "data": {
            "text/plain": [
              "0.5519075028379707"
            ]
          },
          "metadata": {
            "tags": []
          },
          "execution_count": 28
        }
      ]
    },
    {
      "metadata": {
        "id": "jvMLBpd-mWpj",
        "colab_type": "code",
        "colab": {
          "base_uri": "https://localhost:8080/",
          "height": 35
        },
        "outputId": "b804d512-b460-4d68-d5d9-9b72d75a7a3d"
      },
      "cell_type": "code",
      "source": [
        "y_true_inter = clean_pred\n",
        "y_scores_inter = y_pred_cat\n",
        "roc_auc_score(y_true_inter, y_scores_inter)"
      ],
      "execution_count": 25,
      "outputs": [
        {
          "output_type": "execute_result",
          "data": {
            "text/plain": [
              "0.5975788022487206"
            ]
          },
          "metadata": {
            "tags": []
          },
          "execution_count": 25
        }
      ]
    },
    {
      "metadata": {
        "id": "oFFYU4G8mZJX",
        "colab_type": "code",
        "colab": {}
      },
      "cell_type": "code",
      "source": [
        ""
      ],
      "execution_count": 0,
      "outputs": []
    }
  ]
}