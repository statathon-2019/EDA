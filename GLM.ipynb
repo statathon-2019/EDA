{
  "nbformat": 4,
  "nbformat_minor": 0,
  "metadata": {
    "colab": {
      "name": "GLM.ipynb",
      "version": "0.3.2",
      "provenance": []
    },
    "kernelspec": {
      "name": "python3",
      "display_name": "Python 3"
    }
  },
  "cells": [
    {
      "metadata": {
        "id": "hgTMYzgYUHo3",
        "colab_type": "code",
        "colab": {
          "base_uri": "https://localhost:8080/",
          "height": 70
        },
        "outputId": "bf44b63e-4ffb-4cd7-bb0a-97b1aca5ce16"
      },
      "cell_type": "code",
      "source": [
        "import numpy as np\n",
        "import pandas as pd\n",
        "import matplotlib.pyplot as plt\n",
        "import statsmodels.api as sm\n",
        "from scipy import stats\n",
        "from sklearn import metrics\n",
        "from sklearn.metrics import roc_auc_score\n",
        "from patsy import dmatrices\n",
        "from sklearn import preprocessing\n",
        "from sklearn.preprocessing import StandardScaler\n",
        "from sklearn.decomposition import PCA\n",
        "from sklearn.preprocessing import PolynomialFeatures"
      ],
      "execution_count": 1,
      "outputs": [
        {
          "output_type": "stream",
          "text": [
            "/usr/local/lib/python3.6/dist-packages/statsmodels/compat/pandas.py:56: FutureWarning: The pandas.core.datetools module is deprecated and will be removed in a future version. Please use the pandas.tseries module instead.\n",
            "  from pandas.core import datetools\n"
          ],
          "name": "stderr"
        }
      ]
    },
    {
      "metadata": {
        "id": "s6OuvvPopvgX",
        "colab_type": "code",
        "colab": {}
      },
      "cell_type": "code",
      "source": [
        "import sys\n",
        "sys.setrecursionlimit(10000)"
      ],
      "execution_count": 0,
      "outputs": []
    },
    {
      "metadata": {
        "id": "TvNJ-Dc-ckUy",
        "colab_type": "code",
        "outputId": "cc8783cd-0351-401c-e35d-c64f86b2b435",
        "colab": {
          "base_uri": "https://localhost:8080/",
          "height": 202
        }
      },
      "cell_type": "code",
      "source": [
        "!pip install git+https://github.com/madrury/py-glm.git\n",
        "from glm.glm import GLM\n",
        "from glm.families import Gaussian, Bernoulli, Poisson, Exponential"
      ],
      "execution_count": 3,
      "outputs": [
        {
          "output_type": "stream",
          "text": [
            "Collecting git+https://github.com/madrury/py-glm.git\n",
            "  Cloning https://github.com/madrury/py-glm.git to /tmp/pip-req-build-ahg8fn10\n",
            "Requirement already satisfied (use --upgrade to upgrade): py-glm==0.0.1 from git+https://github.com/madrury/py-glm.git in /usr/local/lib/python3.6/dist-packages\n",
            "Requirement already satisfied: numpy in /usr/local/lib/python3.6/dist-packages (from py-glm==0.0.1) (1.14.6)\n",
            "Requirement already satisfied: scipy in /usr/local/lib/python3.6/dist-packages (from py-glm==0.0.1) (1.1.0)\n",
            "Requirement already satisfied: patsy in /usr/local/lib/python3.6/dist-packages (from py-glm==0.0.1) (0.5.1)\n",
            "Requirement already satisfied: six in /usr/local/lib/python3.6/dist-packages (from patsy->py-glm==0.0.1) (1.11.0)\n",
            "Building wheels for collected packages: py-glm\n",
            "  Building wheel for py-glm (setup.py) ... \u001b[?25ldone\n",
            "\u001b[?25h  Stored in directory: /tmp/pip-ephem-wheel-cache-5jmn3zcs/wheels/ba/f8/77/41a1cc9756ab50434bbadffdf60a20742fc01bfd5ea3e056eb\n",
            "Successfully built py-glm\n"
          ],
          "name": "stdout"
        }
      ]
    },
    {
      "metadata": {
        "id": "q9B1EN8Dcsju",
        "colab_type": "code",
        "colab": {}
      },
      "cell_type": "code",
      "source": [
        "linear_model = GLM(family=Gaussian())\n",
        "logistic_model = GLM(family=Bernoulli())\n",
        "poisson_model = GLM(family=Poisson())\n",
        "exponential_model = GLM(family=Exponential())"
      ],
      "execution_count": 0,
      "outputs": []
    },
    {
      "metadata": {
        "id": "zLEbc4_38v-2",
        "colab_type": "code",
        "colab": {}
      },
      "cell_type": "code",
      "source": [
        "clean=pd.read_csv('cleaned.csv')\n",
        "clean.head()"
      ],
      "execution_count": 0,
      "outputs": []
    },
    {
      "metadata": {
        "id": "ugUT51ZOKOlq",
        "colab_type": "code",
        "colab": {}
      },
      "cell_type": "code",
      "source": [
        "clean.columns = ['index', 'cancel','year', 'zip','color','age','len','credit','coverage','dwelling','premium','channel','gender','marital','adults','children','tenure','claim','state']"
      ],
      "execution_count": 0,
      "outputs": []
    },
    {
      "metadata": {
        "id": "e-e0bwBCHHxt",
        "colab_type": "code",
        "colab": {}
      },
      "cell_type": "code",
      "source": [
        "clean_color = pd.get_dummies(clean['color'])\n",
        "clean_credit = pd.get_dummies(clean['credit'])\n",
        "clean_coverage = pd.get_dummies(clean['coverage'])\n",
        "clean_dwelling = pd.get_dummies(clean['dwelling'])\n",
        "clean_channel = pd.get_dummies(clean['channel'])\n",
        "clean_gender = pd.get_dummies(clean['gender'])\n",
        "clean_state = pd.get_dummies(clean['state'])\n",
        "clean = clean.join(clean_color)\n",
        "clean = clean.join(clean_credit)\n",
        "clean = clean.join(clean_coverage)\n",
        "clean = clean.join(clean_dwelling)\n",
        "clean = clean.join(clean_channel)\n",
        "clean = clean.join(clean_gender)\n",
        "clean = clean.join(clean_state)\n",
        "clean.head()"
      ],
      "execution_count": 0,
      "outputs": []
    },
    {
      "metadata": {
        "id": "iaxLild395Ud",
        "colab_type": "code",
        "colab": {}
      },
      "cell_type": "code",
      "source": [
        "clean2013=clean.loc[clean['year'] == 2013]\n",
        "clean2014=clean.loc[clean['year'] == 2014]\n",
        "clean2015=clean.loc[clean['year'] == 2015]\n",
        "clean2016=clean.loc[clean['year'] == 2016]"
      ],
      "execution_count": 0,
      "outputs": []
    },
    {
      "metadata": {
        "id": "b-0NP-HfY9Yz",
        "colab_type": "code",
        "colab": {}
      },
      "cell_type": "code",
      "source": [
        "list(clean)"
      ],
      "execution_count": 0,
      "outputs": []
    },
    {
      "metadata": {
        "id": "1DzPdJyZgbuf",
        "colab_type": "code",
        "colab": {}
      },
      "cell_type": "code",
      "source": [
        "logistic_model=sm.formula.glm(formula=\"cancel ~ age + len + premium + marital + adults + children + tenure + claim\",family=sm.families.Binomial(), data=clean).fit()\n",
        "logistic_model.summary()"
      ],
      "execution_count": 0,
      "outputs": []
    },
    {
      "metadata": {
        "id": "St5nIiJFVTEM",
        "colab_type": "text"
      },
      "cell_type": "markdown",
      "source": [
        "### **Calculate Overall AUC and Yearwise AUC**"
      ]
    },
    {
      "metadata": {
        "id": "DI_Bja0GZC7N",
        "colab_type": "code",
        "colab": {}
      },
      "cell_type": "code",
      "source": [
        "logistic_model=sm.formula.glm(formula=\"cancel ~ age + len + premium + marital + adults + children + tenure + claim + blue + red + white + yellow + low + high + medium + A + B + C + Condo + House + Tenant + Broker + Online + Phone + F + M + AZ + CO + IA + PA + VA + WA\",family=sm.families.Binomial(), data=clean).fit()\n",
        "logistic_model.summary()"
      ],
      "execution_count": 0,
      "outputs": []
    },
    {
      "metadata": {
        "id": "KxmgufBHc-ta",
        "colab_type": "code",
        "colab": {}
      },
      "cell_type": "code",
      "source": [
        "#logistic_model=sm.formula.glm(formula=\"cancel ~ age + len + premium + marital + adults + children + tenure + claim + red + white + yellow + high + medium + B + C + House + Tenant + Online + Phone + M + CO + IA + PA + VA + WA\",family=sm.families.Binomial(), data=clean).fit()\n",
        "#logistic_model.summary()"
      ],
      "execution_count": 0,
      "outputs": []
    },
    {
      "metadata": {
        "id": "w6cPFnh9ePm7",
        "colab_type": "code",
        "colab": {}
      },
      "cell_type": "code",
      "source": [
        "y_true = clean['cancel']\n",
        "y_scores = logistic_model.predict()\n",
        "roc_auc_score(y_true, y_scores)"
      ],
      "execution_count": 0,
      "outputs": []
    },
    {
      "metadata": {
        "id": "L8OQ3_bg0nvu",
        "colab_type": "code",
        "colab": {}
      },
      "cell_type": "code",
      "source": [
        "logistic_model2013=sm.formula.glm(formula=\"cancel ~ age + len + premium + marital + adults + children + tenure + claim + blue + red + white + yellow + low + high + medium + A + B + C + Condo + House + Tenant + Broker + Online + Phone + F + M + AZ + CO + IA + PA + VA + WA\",family=sm.families.Binomial(), data=clean2013).fit()\n",
        "logistic_model2013.summary()"
      ],
      "execution_count": 0,
      "outputs": []
    },
    {
      "metadata": {
        "id": "AKyI-Vo9Pq8s",
        "colab_type": "code",
        "colab": {}
      },
      "cell_type": "code",
      "source": [
        "y_true2013 = clean2013['cancel']\n",
        "y_scores2013 = logistic_model2013.predict()\n",
        "roc_auc_score(y_true2013, y_scores2013)"
      ],
      "execution_count": 0,
      "outputs": []
    },
    {
      "metadata": {
        "id": "gN2JggxXPzqu",
        "colab_type": "code",
        "colab": {}
      },
      "cell_type": "code",
      "source": [
        "logistic_model2014=sm.formula.glm(formula=\"cancel ~ age + len + premium + marital + adults + children + tenure + claim + blue + red + white + yellow + low + high + medium + A + B + C + Condo + House + Tenant + Broker + Online + Phone + F + M + AZ + CO + IA + PA + VA + WA\",family=sm.families.Binomial(), data=clean2014).fit()\n",
        "logistic_model2014.summary()"
      ],
      "execution_count": 0,
      "outputs": []
    },
    {
      "metadata": {
        "id": "0fxCFqOiP0bp",
        "colab_type": "code",
        "colab": {}
      },
      "cell_type": "code",
      "source": [
        "y_true2014 = clean2014['cancel']\n",
        "y_scores2014 = logistic_model2014.predict()\n",
        "roc_auc_score(y_true2014, y_scores2014)"
      ],
      "execution_count": 0,
      "outputs": []
    },
    {
      "metadata": {
        "id": "zAXZdpE6QTKw",
        "colab_type": "code",
        "colab": {}
      },
      "cell_type": "code",
      "source": [
        "logistic_model2015=sm.formula.glm(formula=\"cancel ~ age + len + premium + marital + adults + children + tenure + claim + blue + red + white + yellow + low + high + medium + A + B + C + Condo + House + Tenant + Broker + Online + Phone + F + M + AZ + CO + IA + PA + VA + WA\",family=sm.families.Binomial(), data=clean2015).fit()\n",
        "logistic_model2015.summary()"
      ],
      "execution_count": 0,
      "outputs": []
    },
    {
      "metadata": {
        "id": "ZBhxbgsIQVIU",
        "colab_type": "code",
        "colab": {}
      },
      "cell_type": "code",
      "source": [
        "y_true2015 = clean2015['cancel']\n",
        "y_scores2015 = logistic_model2015.predict()\n",
        "roc_auc_score(y_true2015, y_scores2015)"
      ],
      "execution_count": 0,
      "outputs": []
    },
    {
      "metadata": {
        "id": "kl0AR1niQXZ3",
        "colab_type": "code",
        "colab": {}
      },
      "cell_type": "code",
      "source": [
        "logistic_model2016=sm.formula.glm(formula=\"cancel ~ age + len + premium + marital + adults + children + tenure + claim + blue + red + white + yellow + low + high + medium + A + B + C + Condo + House + Tenant + Broker + Online + Phone + F + M + AZ + CO + IA + PA + VA + WA\",family=sm.families.Binomial(), data=clean2016).fit()\n",
        "logistic_model2016.summary()"
      ],
      "execution_count": 0,
      "outputs": []
    },
    {
      "metadata": {
        "id": "VOum_4fKQZM-",
        "colab_type": "code",
        "colab": {}
      },
      "cell_type": "code",
      "source": [
        "y_true2016 = clean2016['cancel']\n",
        "y_scores2016 = logistic_model2016.predict()\n",
        "roc_auc_score(y_true2016, y_scores2016)"
      ],
      "execution_count": 0,
      "outputs": []
    },
    {
      "metadata": {
        "id": "JeYjJHy_ViTC",
        "colab_type": "text"
      },
      "cell_type": "markdown",
      "source": [
        "### Model Modification (Standardize)"
      ]
    },
    {
      "metadata": {
        "id": "tjbq--WZd3TU",
        "colab_type": "code",
        "colab": {}
      },
      "cell_type": "code",
      "source": [
        "scaler=StandardScaler()\n",
        "clean_standardize=clean"
      ],
      "execution_count": 0,
      "outputs": []
    },
    {
      "metadata": {
        "id": "dwAbAiTMewzx",
        "colab_type": "code",
        "colab": {}
      },
      "cell_type": "code",
      "source": [
        "scaler.fit(clean[['premium','adults','children','tenure','age','len']])\n",
        "standardized=scaler.transform(clean[['premium','adults','children','tenure','age','len']])"
      ],
      "execution_count": 0,
      "outputs": []
    },
    {
      "metadata": {
        "id": "_STYJqMZfzXi",
        "colab_type": "code",
        "colab": {}
      },
      "cell_type": "code",
      "source": [
        "standardized=pd.DataFrame(standardized,columns=['normalized_premium','normalized_adults','normalized_children','normalized_tenure','normalized_age','normalized_len'])"
      ],
      "execution_count": 0,
      "outputs": []
    },
    {
      "metadata": {
        "id": "l93Hj1Rkh7Vx",
        "colab_type": "code",
        "colab": {}
      },
      "cell_type": "code",
      "source": [
        "clean_standardize=pd.concat([clean_standardize,standardized], axis = 1)"
      ],
      "execution_count": 0,
      "outputs": []
    },
    {
      "metadata": {
        "id": "NOz-gtIggDhB",
        "colab_type": "code",
        "colab": {}
      },
      "cell_type": "code",
      "source": [
        "logistic_model_normal=sm.formula.glm(formula=\"cancel ~ age + len + normalized_premium + marital + adults + children + tenure + claim + blue + red + white + yellow + low + high + medium + A + B + C + Condo + House + Tenant + Broker + Online + Phone + F + M + AZ + CO + IA + PA + VA + WA\",family=sm.families.Binomial(), data=clean_standardize).fit()\n",
        "logistic_model_normal.summary()"
      ],
      "execution_count": 0,
      "outputs": []
    },
    {
      "metadata": {
        "id": "WrLLQYVHYcO5",
        "colab_type": "code",
        "colab": {}
      },
      "cell_type": "code",
      "source": [
        "y_true_normal = clean_standardize['cancel']\n",
        "y_scores_normal = logistic_model_normal.predict()\n",
        "roc_auc_score(y_true_normal, y_scores_normal)"
      ],
      "execution_count": 0,
      "outputs": []
    },
    {
      "metadata": {
        "id": "WDhhU8v1p1fa",
        "colab_type": "text"
      },
      "cell_type": "markdown",
      "source": [
        "### Model Modification (Interaction)"
      ]
    },
    {
      "metadata": {
        "id": "1ZIPpV5raN5-",
        "colab_type": "code",
        "colab": {}
      },
      "cell_type": "code",
      "source": [
        "clean_interaction = clean\n",
        "clean_inter = clean[['age' , 'len' , 'premium' , 'marital' , 'adults' , 'children' , 'tenure' , 'claim' , 'blue' , 'red' , 'white', 'yellow' , 'low' , 'high' , 'medium', 'A' , 'B' , 'C' , 'Condo' , 'House' , 'Tenant' , 'Broker' , 'Online' , 'Phone' , 'F' ,'M' , 'AZ' , 'CO' , 'IA' , 'PA' , 'VA' , 'WA']]\n",
        "clean_inter.head()"
      ],
      "execution_count": 0,
      "outputs": []
    },
    {
      "metadata": {
        "id": "Y6w-EqH0pzkd",
        "colab_type": "code",
        "colab": {}
      },
      "cell_type": "code",
      "source": [
        "interaction = PolynomialFeatures(degree=2, include_bias=False, interaction_only=True)\n",
        "cov_inter = interaction.fit_transform(clean_inter)"
      ],
      "execution_count": 0,
      "outputs": []
    },
    {
      "metadata": {
        "id": "NN1xnmXZbSGX",
        "colab_type": "code",
        "colab": {}
      },
      "cell_type": "code",
      "source": [
        "cov_inter_df = pd.DataFrame(cov_inter)\n",
        "cov_inter_df.head()"
      ],
      "execution_count": 0,
      "outputs": []
    },
    {
      "metadata": {
        "id": "Mkh-TTokeDuu",
        "colab_type": "code",
        "colab": {}
      },
      "cell_type": "code",
      "source": [
        "cov_inter_clean=pd.concat([clean_inter,cov_inter_df],axis=1)\n",
        "cov_inter_clean.head()"
      ],
      "execution_count": 0,
      "outputs": []
    },
    {
      "metadata": {
        "id": "iF0DurnVgqAw",
        "colab_type": "code",
        "colab": {}
      },
      "cell_type": "code",
      "source": [
        "cov_inter_clean.columns.astype(str)\n"
      ],
      "execution_count": 0,
      "outputs": []
    },
    {
      "metadata": {
        "id": "E6xBI9_wd4ei",
        "colab_type": "code",
        "colab": {}
      },
      "cell_type": "code",
      "source": [
        "all_columns = \"+\".join(str(v) for v in cov_inter_clean.columns)"
      ],
      "execution_count": 0,
      "outputs": []
    },
    {
      "metadata": {
        "id": "5g9k8a30d7up",
        "colab_type": "code",
        "colab": {}
      },
      "cell_type": "code",
      "source": [
        "my_formula = \"cancel~\" + all_columns"
      ],
      "execution_count": 0,
      "outputs": []
    },
    {
      "metadata": {
        "id": "JpkvmnAnmsZg",
        "colab_type": "code",
        "colab": {}
      },
      "cell_type": "code",
      "source": [
        "clean_interaction['cancel'] = clean['cancel']"
      ],
      "execution_count": 0,
      "outputs": []
    },
    {
      "metadata": {
        "id": "Fyl4vrGJrq01",
        "colab_type": "code",
        "colab": {}
      },
      "cell_type": "code",
      "source": [
        "logistic_model_inter=sm.formula.glm(formula=\"cancel ~ age + len + premium + marital + adults + children + tenure + claim + blue + red + white + yellow + low + high + medium + A + B + C + Condo + House + Tenant + Broker + Online + Phone + F + M + AZ + CO + IA + PA + VA +WA + 0\",family=sm.families.Binomial(), data=clean_interaction).fit()\n",
        "logistic_model_inter.summary()"
      ],
      "execution_count": 0,
      "outputs": []
    },
    {
      "metadata": {
        "id": "FXcgwiQwr1cW",
        "colab_type": "code",
        "colab": {}
      },
      "cell_type": "code",
      "source": [
        "y_true_inter = clean_interaction['cancel']\n",
        "y_scores_inter = logistic_model_inter.predict()\n",
        "roc_auc_score(y_true_inter, y_scores_inter)"
      ],
      "execution_count": 0,
      "outputs": []
    },
    {
      "metadata": {
        "id": "zrObjQICiPQH",
        "colab_type": "code",
        "colab": {}
      },
      "cell_type": "code",
      "source": [
        "logistic_model_inter=sm.formula.glm(formula=my_formula,family=sm.families.Binomial(), data=clean_interaction).fit()\n",
        "logistic_model_inter.summary()"
      ],
      "execution_count": 0,
      "outputs": []
    },
    {
      "metadata": {
        "id": "UijZXrjvrHoP",
        "colab_type": "code",
        "colab": {}
      },
      "cell_type": "code",
      "source": [
        "logistic_model_inter=sm.formula.glm(formula=\"cancel ~ age + len + premium + marital + adults + children + tenure + claim + blue + red + white + yellow + low + high + medium + A + B + C + Condo + House + Tenant + Broker + Online + Phone + F + M + AZ + CO + IA + PA + VA +WA + 0\",family=sm.families.Binomial(), data=clean_interaction).fit()\n",
        "logistic_model_inter.summary()"
      ],
      "execution_count": 0,
      "outputs": []
    },
    {
      "metadata": {
        "id": "f-24_s0Xi5Yt",
        "colab_type": "code",
        "colab": {}
      },
      "cell_type": "code",
      "source": [
        "y_true_inter = clean_standardize['cancel']\n",
        "y_scores_inter = logistic_model_inter.predict()\n",
        "roc_auc_score(y_true_inter, y_scores_inter)"
      ],
      "execution_count": 0,
      "outputs": []
    },
    {
      "metadata": {
        "id": "RIPN9I5lFhG1",
        "colab_type": "text"
      },
      "cell_type": "markdown",
      "source": [
        "### **Model Modification (PCA in GLM)**"
      ]
    },
    {
      "metadata": {
        "id": "sZTJ1D6BG02l",
        "colab_type": "code",
        "colab": {}
      },
      "cell_type": "code",
      "source": [
        "clean_cov=clean[['age' , 'len' , 'premium' , 'marital' , 'adults' , 'children' , 'tenure' , 'claim' , 'blue' , 'red' , 'white', 'yellow' , 'low' , 'high' , 'medium', 'A' , 'B' , 'C' , 'Condo' , 'House' , 'Tenant' , 'Broker' , 'Online' , 'Phone' , 'F' ,'M' , 'AZ' , 'CO' , 'IA' , 'PA' , 'VA' , 'WA']]"
      ],
      "execution_count": 0,
      "outputs": []
    },
    {
      "metadata": {
        "id": "DYQwiU6LHgii",
        "colab_type": "code",
        "outputId": "dda1a181-337f-49e5-9ef2-989dde0ba060",
        "colab": {
          "base_uri": "https://localhost:8080/",
          "height": 571
        }
      },
      "cell_type": "code",
      "source": [
        "clean_cov.head()\n",
        "clean_cov.dtypes"
      ],
      "execution_count": 0,
      "outputs": [
        {
          "output_type": "execute_result",
          "data": {
            "text/plain": [
              "age         float64\n",
              "len         float64\n",
              "premium     float64\n",
              "marital     float64\n",
              "adults      float64\n",
              "children    float64\n",
              "tenure      float64\n",
              "claim       float64\n",
              "blue          uint8\n",
              "red           uint8\n",
              "white         uint8\n",
              "yellow        uint8\n",
              "low           uint8\n",
              "high          uint8\n",
              "medium        uint8\n",
              "A             uint8\n",
              "B             uint8\n",
              "C             uint8\n",
              "Condo         uint8\n",
              "House         uint8\n",
              "Tenant        uint8\n",
              "Broker        uint8\n",
              "Online        uint8\n",
              "Phone         uint8\n",
              "F             uint8\n",
              "M             uint8\n",
              "AZ            uint8\n",
              "CO            uint8\n",
              "IA            uint8\n",
              "PA            uint8\n",
              "VA            uint8\n",
              "WA            uint8\n",
              "dtype: object"
            ]
          },
          "metadata": {
            "tags": []
          },
          "execution_count": 108
        }
      ]
    },
    {
      "metadata": {
        "id": "uvfi28oqcQSB",
        "colab_type": "code",
        "colab": {}
      },
      "cell_type": "code",
      "source": [
        "pca = PCA()\n",
        "clean_pca = clean_cov.values"
      ],
      "execution_count": 0,
      "outputs": []
    },
    {
      "metadata": {
        "id": "plFb1GUrGQxh",
        "colab_type": "code",
        "outputId": "5f912825-5df9-473b-f198-ab4bffde87a5",
        "colab": {
          "base_uri": "https://localhost:8080/",
          "height": 50
        }
      },
      "cell_type": "code",
      "source": [
        "pca.fit(clean_pca)"
      ],
      "execution_count": 0,
      "outputs": [
        {
          "output_type": "execute_result",
          "data": {
            "text/plain": [
              "PCA(copy=True, iterated_power='auto', n_components=None, random_state=None,\n",
              "  svd_solver='auto', tol=0.0, whiten=False)"
            ]
          },
          "metadata": {
            "tags": []
          },
          "execution_count": 115
        }
      ]
    },
    {
      "metadata": {
        "id": "00ZvU9bwMAGx",
        "colab_type": "code",
        "colab": {}
      },
      "cell_type": "code",
      "source": [
        "pca_clean = pca.transform(clean_pca)"
      ],
      "execution_count": 0,
      "outputs": []
    },
    {
      "metadata": {
        "id": "ibZLZ3I6HkSl",
        "colab_type": "code",
        "colab": {}
      },
      "cell_type": "code",
      "source": [
        "per_var = np.round(pca.explained_variance_ratio_*100,decimals=1)\n",
        "labels = ['PC' + str(x) for x in range (1,len(per_var)+1)]"
      ],
      "execution_count": 0,
      "outputs": []
    },
    {
      "metadata": {
        "id": "IYvhdaPqMaDw",
        "colab_type": "code",
        "outputId": "b6a6343b-bf9c-43cc-fb9b-5e1a87996b9b",
        "colab": {
          "base_uri": "https://localhost:8080/",
          "height": 376
        }
      },
      "cell_type": "code",
      "source": [
        "plt.bar(x=range(1,len(per_var)+1),height=per_var,tick_label=labels)\n",
        "plt.ylabel('Percentage of Explained Variance')\n",
        "plt.xlabel('principal Component')\n",
        "plt.title('Scree Plot')\n",
        "plt.show()"
      ],
      "execution_count": 0,
      "outputs": [
        {
          "output_type": "display_data",
          "data": {
            "image/png": "[encoded data removed]",
            "text/plain": [
              "<Figure size 576x396 with 1 Axes>"
            ]
          },
          "metadata": {
            "tags": []
          }
        }
      ]
    },
    {
      "metadata": {
        "id": "9N43EDEtNoTF",
        "colab_type": "code",
        "outputId": "aae3c496-8157-4aaa-cbd8-de590d7135e3",
        "colab": {
          "base_uri": "https://localhost:8080/",
          "height": 328
        }
      },
      "cell_type": "code",
      "source": [
        "cov_pca=pd.DataFrame(pca_clean)\n",
        "cov_pca.head()"
      ],
      "execution_count": 0,
      "outputs": [
        {
          "output_type": "execute_result",
          "data": {
            "text/html": [
              "<div>\n",
              "<style scoped>\n",
              "    .dataframe tbody tr th:only-of-type {\n",
              "        vertical-align: middle;\n",
              "    }\n",
              "\n",
              "    .dataframe tbody tr th {\n",
              "        vertical-align: top;\n",
              "    }\n",
              "\n",
              "    .dataframe thead th {\n",
              "        text-align: right;\n",
              "    }\n",
              "</style>\n",
              "<table border=\"1\" class=\"dataframe\">\n",
              "  <thead>\n",
              "    <tr style=\"text-align: right;\">\n",
              "      <th></th>\n",
              "      <th>0</th>\n",
              "      <th>1</th>\n",
              "      <th>2</th>\n",
              "      <th>3</th>\n",
              "      <th>4</th>\n",
              "      <th>5</th>\n",
              "      <th>6</th>\n",
              "      <th>7</th>\n",
              "      <th>8</th>\n",
              "      <th>9</th>\n",
              "      <th>...</th>\n",
              "      <th>22</th>\n",
              "      <th>23</th>\n",
              "      <th>24</th>\n",
              "      <th>25</th>\n",
              "      <th>26</th>\n",
              "      <th>27</th>\n",
              "      <th>28</th>\n",
              "      <th>29</th>\n",
              "      <th>30</th>\n",
              "      <th>31</th>\n",
              "    </tr>\n",
              "  </thead>\n",
              "  <tbody>\n",
              "    <tr>\n",
              "      <th>0</th>\n",
              "      <td>50.618824</td>\n",
              "      <td>-5.054960</td>\n",
              "      <td>-5.342488</td>\n",
              "      <td>2.945038</td>\n",
              "      <td>-1.647910</td>\n",
              "      <td>-0.131242</td>\n",
              "      <td>0.731831</td>\n",
              "      <td>-0.559657</td>\n",
              "      <td>-0.703303</td>\n",
              "      <td>-0.570520</td>\n",
              "      <td>...</td>\n",
              "      <td>-0.067537</td>\n",
              "      <td>-0.124903</td>\n",
              "      <td>-0.124722</td>\n",
              "      <td>-4.900356e-16</td>\n",
              "      <td>-1.343311e-16</td>\n",
              "      <td>8.622327e-16</td>\n",
              "      <td>7.583364e-17</td>\n",
              "      <td>-8.591759e-16</td>\n",
              "      <td>-6.681546e-16</td>\n",
              "      <td>-4.665030e-15</td>\n",
              "    </tr>\n",
              "    <tr>\n",
              "      <th>1</th>\n",
              "      <td>9.457391</td>\n",
              "      <td>-2.245914</td>\n",
              "      <td>-4.321908</td>\n",
              "      <td>1.921458</td>\n",
              "      <td>-1.628890</td>\n",
              "      <td>2.865887</td>\n",
              "      <td>0.741267</td>\n",
              "      <td>-0.526419</td>\n",
              "      <td>0.688810</td>\n",
              "      <td>0.566547</td>\n",
              "      <td>...</td>\n",
              "      <td>-0.072595</td>\n",
              "      <td>-0.076101</td>\n",
              "      <td>-0.036195</td>\n",
              "      <td>-1.707253e-16</td>\n",
              "      <td>2.973352e-16</td>\n",
              "      <td>-4.618423e-17</td>\n",
              "      <td>2.252314e-16</td>\n",
              "      <td>-3.630567e-16</td>\n",
              "      <td>-2.341459e-16</td>\n",
              "      <td>-7.035363e-16</td>\n",
              "    </tr>\n",
              "    <tr>\n",
              "      <th>2</th>\n",
              "      <td>-2.804203</td>\n",
              "      <td>2.110568</td>\n",
              "      <td>-1.685737</td>\n",
              "      <td>-1.120710</td>\n",
              "      <td>-1.810278</td>\n",
              "      <td>-1.134230</td>\n",
              "      <td>-0.669864</td>\n",
              "      <td>0.874313</td>\n",
              "      <td>0.726793</td>\n",
              "      <td>-0.280909</td>\n",
              "      <td>...</td>\n",
              "      <td>-0.143578</td>\n",
              "      <td>-0.062602</td>\n",
              "      <td>-0.051455</td>\n",
              "      <td>6.172764e-17</td>\n",
              "      <td>8.309688e-17</td>\n",
              "      <td>-1.459308e-16</td>\n",
              "      <td>1.142091e-16</td>\n",
              "      <td>-8.550090e-17</td>\n",
              "      <td>2.099433e-16</td>\n",
              "      <td>3.095422e-16</td>\n",
              "    </tr>\n",
              "    <tr>\n",
              "      <th>3</th>\n",
              "      <td>79.150423</td>\n",
              "      <td>4.908686</td>\n",
              "      <td>-9.200348</td>\n",
              "      <td>9.227777</td>\n",
              "      <td>-1.777876</td>\n",
              "      <td>2.871343</td>\n",
              "      <td>-0.665766</td>\n",
              "      <td>0.885463</td>\n",
              "      <td>0.730745</td>\n",
              "      <td>-0.213139</td>\n",
              "      <td>...</td>\n",
              "      <td>-0.103220</td>\n",
              "      <td>-0.130219</td>\n",
              "      <td>-0.037294</td>\n",
              "      <td>-2.557268e-16</td>\n",
              "      <td>4.829506e-16</td>\n",
              "      <td>1.518536e-15</td>\n",
              "      <td>5.869795e-17</td>\n",
              "      <td>-1.612058e-15</td>\n",
              "      <td>-2.121525e-15</td>\n",
              "      <td>-7.489775e-15</td>\n",
              "    </tr>\n",
              "    <tr>\n",
              "      <th>4</th>\n",
              "      <td>32.491144</td>\n",
              "      <td>-9.646515</td>\n",
              "      <td>4.723194</td>\n",
              "      <td>0.965203</td>\n",
              "      <td>2.402095</td>\n",
              "      <td>-0.133364</td>\n",
              "      <td>-0.684315</td>\n",
              "      <td>-0.555451</td>\n",
              "      <td>-0.671406</td>\n",
              "      <td>-0.271766</td>\n",
              "      <td>...</td>\n",
              "      <td>-0.097943</td>\n",
              "      <td>1.048693</td>\n",
              "      <td>-0.031991</td>\n",
              "      <td>-4.105508e-16</td>\n",
              "      <td>-2.222145e-16</td>\n",
              "      <td>6.346947e-16</td>\n",
              "      <td>-2.327356e-16</td>\n",
              "      <td>-7.655125e-16</td>\n",
              "      <td>-4.978239e-16</td>\n",
              "      <td>-3.388888e-15</td>\n",
              "    </tr>\n",
              "  </tbody>\n",
              "</table>\n",
              "<p>5 rows × 32 columns</p>\n",
              "</div>"
            ],
            "text/plain": [
              "          0         1         2         3         4         5         6   \\\n",
              "0  50.618824 -5.054960 -5.342488  2.945038 -1.647910 -0.131242  0.731831   \n",
              "1   9.457391 -2.245914 -4.321908  1.921458 -1.628890  2.865887  0.741267   \n",
              "2  -2.804203  2.110568 -1.685737 -1.120710 -1.810278 -1.134230 -0.669864   \n",
              "3  79.150423  4.908686 -9.200348  9.227777 -1.777876  2.871343 -0.665766   \n",
              "4  32.491144 -9.646515  4.723194  0.965203  2.402095 -0.133364 -0.684315   \n",
              "\n",
              "         7         8         9       ...             22        23        24  \\\n",
              "0 -0.559657 -0.703303 -0.570520      ...      -0.067537 -0.124903 -0.124722   \n",
              "1 -0.526419  0.688810  0.566547      ...      -0.072595 -0.076101 -0.036195   \n",
              "2  0.874313  0.726793 -0.280909      ...      -0.143578 -0.062602 -0.051455   \n",
              "3  0.885463  0.730745 -0.213139      ...      -0.103220 -0.130219 -0.037294   \n",
              "4 -0.555451 -0.671406 -0.271766      ...      -0.097943  1.048693 -0.031991   \n",
              "\n",
              "             25            26            27            28            29  \\\n",
              "0 -4.900356e-16 -1.343311e-16  8.622327e-16  7.583364e-17 -8.591759e-16   \n",
              "1 -1.707253e-16  2.973352e-16 -4.618423e-17  2.252314e-16 -3.630567e-16   \n",
              "2  6.172764e-17  8.309688e-17 -1.459308e-16  1.142091e-16 -8.550090e-17   \n",
              "3 -2.557268e-16  4.829506e-16  1.518536e-15  5.869795e-17 -1.612058e-15   \n",
              "4 -4.105508e-16 -2.222145e-16  6.346947e-16 -2.327356e-16 -7.655125e-16   \n",
              "\n",
              "             30            31  \n",
              "0 -6.681546e-16 -4.665030e-15  \n",
              "1 -2.341459e-16 -7.035363e-16  \n",
              "2  2.099433e-16  3.095422e-16  \n",
              "3 -2.121525e-15 -7.489775e-15  \n",
              "4 -4.978239e-16 -3.388888e-15  \n",
              "\n",
              "[5 rows x 32 columns]"
            ]
          },
          "metadata": {
            "tags": []
          },
          "execution_count": 126
        }
      ]
    },
    {
      "metadata": {
        "id": "fgU7Zpa5OUzb",
        "colab_type": "code",
        "outputId": "fa0bea16-712e-4459-de7f-e7ea28dda85f",
        "colab": {
          "base_uri": "https://localhost:8080/",
          "height": 195
        }
      },
      "cell_type": "code",
      "source": [
        "pcaappend=cov_pca.iloc[:,0:4]\n",
        "pcaappend.columns = ['PC1','PC2','PC3', 'PC4']\n",
        "pcaappend.head()"
      ],
      "execution_count": 0,
      "outputs": [
        {
          "output_type": "execute_result",
          "data": {
            "text/html": [
              "<div>\n",
              "<style scoped>\n",
              "    .dataframe tbody tr th:only-of-type {\n",
              "        vertical-align: middle;\n",
              "    }\n",
              "\n",
              "    .dataframe tbody tr th {\n",
              "        vertical-align: top;\n",
              "    }\n",
              "\n",
              "    .dataframe thead th {\n",
              "        text-align: right;\n",
              "    }\n",
              "</style>\n",
              "<table border=\"1\" class=\"dataframe\">\n",
              "  <thead>\n",
              "    <tr style=\"text-align: right;\">\n",
              "      <th></th>\n",
              "      <th>PC1</th>\n",
              "      <th>PC2</th>\n",
              "      <th>PC3</th>\n",
              "      <th>PC4</th>\n",
              "    </tr>\n",
              "  </thead>\n",
              "  <tbody>\n",
              "    <tr>\n",
              "      <th>0</th>\n",
              "      <td>50.618824</td>\n",
              "      <td>-5.054960</td>\n",
              "      <td>-5.342488</td>\n",
              "      <td>2.945038</td>\n",
              "    </tr>\n",
              "    <tr>\n",
              "      <th>1</th>\n",
              "      <td>9.457391</td>\n",
              "      <td>-2.245914</td>\n",
              "      <td>-4.321908</td>\n",
              "      <td>1.921458</td>\n",
              "    </tr>\n",
              "    <tr>\n",
              "      <th>2</th>\n",
              "      <td>-2.804203</td>\n",
              "      <td>2.110568</td>\n",
              "      <td>-1.685737</td>\n",
              "      <td>-1.120710</td>\n",
              "    </tr>\n",
              "    <tr>\n",
              "      <th>3</th>\n",
              "      <td>79.150423</td>\n",
              "      <td>4.908686</td>\n",
              "      <td>-9.200348</td>\n",
              "      <td>9.227777</td>\n",
              "    </tr>\n",
              "    <tr>\n",
              "      <th>4</th>\n",
              "      <td>32.491144</td>\n",
              "      <td>-9.646515</td>\n",
              "      <td>4.723194</td>\n",
              "      <td>0.965203</td>\n",
              "    </tr>\n",
              "  </tbody>\n",
              "</table>\n",
              "</div>"
            ],
            "text/plain": [
              "         PC1       PC2       PC3       PC4\n",
              "0  50.618824 -5.054960 -5.342488  2.945038\n",
              "1   9.457391 -2.245914 -4.321908  1.921458\n",
              "2  -2.804203  2.110568 -1.685737 -1.120710\n",
              "3  79.150423  4.908686 -9.200348  9.227777\n",
              "4  32.491144 -9.646515  4.723194  0.965203"
            ]
          },
          "metadata": {
            "tags": []
          },
          "execution_count": 129
        }
      ]
    },
    {
      "metadata": {
        "id": "gXmuT0XHOMt4",
        "colab_type": "code",
        "outputId": "b0887fdc-bd80-43e1-aea3-9978f5885cf9",
        "colab": {
          "base_uri": "https://localhost:8080/",
          "height": 244
        }
      },
      "cell_type": "code",
      "source": [
        "clean_pcacov=pd.concat([clean,pcaappend],axis=1)\n",
        "clean_pcacov.head()"
      ],
      "execution_count": 0,
      "outputs": [
        {
          "output_type": "execute_result",
          "data": {
            "text/html": [
              "<div>\n",
              "<style scoped>\n",
              "    .dataframe tbody tr th:only-of-type {\n",
              "        vertical-align: middle;\n",
              "    }\n",
              "\n",
              "    .dataframe tbody tr th {\n",
              "        vertical-align: top;\n",
              "    }\n",
              "\n",
              "    .dataframe thead th {\n",
              "        text-align: right;\n",
              "    }\n",
              "</style>\n",
              "<table border=\"1\" class=\"dataframe\">\n",
              "  <thead>\n",
              "    <tr style=\"text-align: right;\">\n",
              "      <th></th>\n",
              "      <th>index</th>\n",
              "      <th>cancel</th>\n",
              "      <th>year</th>\n",
              "      <th>zip</th>\n",
              "      <th>color</th>\n",
              "      <th>age</th>\n",
              "      <th>len</th>\n",
              "      <th>credit</th>\n",
              "      <th>coverage</th>\n",
              "      <th>dwelling</th>\n",
              "      <th>...</th>\n",
              "      <th>AZ</th>\n",
              "      <th>CO</th>\n",
              "      <th>IA</th>\n",
              "      <th>PA</th>\n",
              "      <th>VA</th>\n",
              "      <th>WA</th>\n",
              "      <th>PC1</th>\n",
              "      <th>PC2</th>\n",
              "      <th>PC3</th>\n",
              "      <th>PC4</th>\n",
              "    </tr>\n",
              "  </thead>\n",
              "  <tbody>\n",
              "    <tr>\n",
              "      <th>0</th>\n",
              "      <td>0</td>\n",
              "      <td>0</td>\n",
              "      <td>2013</td>\n",
              "      <td>98004.0</td>\n",
              "      <td>blue</td>\n",
              "      <td>37.0</td>\n",
              "      <td>18.000000</td>\n",
              "      <td>high</td>\n",
              "      <td>C</td>\n",
              "      <td>Tenant</td>\n",
              "      <td>...</td>\n",
              "      <td>0</td>\n",
              "      <td>0</td>\n",
              "      <td>0</td>\n",
              "      <td>0</td>\n",
              "      <td>0</td>\n",
              "      <td>1</td>\n",
              "      <td>50.618824</td>\n",
              "      <td>-5.054960</td>\n",
              "      <td>-5.342488</td>\n",
              "      <td>2.945038</td>\n",
              "    </tr>\n",
              "    <tr>\n",
              "      <th>1</th>\n",
              "      <td>1</td>\n",
              "      <td>0</td>\n",
              "      <td>2013</td>\n",
              "      <td>85017.0</td>\n",
              "      <td>white</td>\n",
              "      <td>40.0</td>\n",
              "      <td>17.000000</td>\n",
              "      <td>medium</td>\n",
              "      <td>A</td>\n",
              "      <td>Condo</td>\n",
              "      <td>...</td>\n",
              "      <td>1</td>\n",
              "      <td>0</td>\n",
              "      <td>0</td>\n",
              "      <td>0</td>\n",
              "      <td>0</td>\n",
              "      <td>0</td>\n",
              "      <td>9.457391</td>\n",
              "      <td>-2.245914</td>\n",
              "      <td>-4.321908</td>\n",
              "      <td>1.921458</td>\n",
              "    </tr>\n",
              "    <tr>\n",
              "      <th>2</th>\n",
              "      <td>2</td>\n",
              "      <td>0</td>\n",
              "      <td>2013</td>\n",
              "      <td>80021.0</td>\n",
              "      <td>white</td>\n",
              "      <td>45.0</td>\n",
              "      <td>14.000000</td>\n",
              "      <td>high</td>\n",
              "      <td>A</td>\n",
              "      <td>House</td>\n",
              "      <td>...</td>\n",
              "      <td>0</td>\n",
              "      <td>1</td>\n",
              "      <td>0</td>\n",
              "      <td>0</td>\n",
              "      <td>0</td>\n",
              "      <td>0</td>\n",
              "      <td>-2.804203</td>\n",
              "      <td>2.110568</td>\n",
              "      <td>-1.685737</td>\n",
              "      <td>-1.120710</td>\n",
              "    </tr>\n",
              "    <tr>\n",
              "      <th>3</th>\n",
              "      <td>3</td>\n",
              "      <td>0</td>\n",
              "      <td>2013</td>\n",
              "      <td>85002.0</td>\n",
              "      <td>red</td>\n",
              "      <td>45.0</td>\n",
              "      <td>24.366136</td>\n",
              "      <td>high</td>\n",
              "      <td>A</td>\n",
              "      <td>House</td>\n",
              "      <td>...</td>\n",
              "      <td>1</td>\n",
              "      <td>0</td>\n",
              "      <td>0</td>\n",
              "      <td>0</td>\n",
              "      <td>0</td>\n",
              "      <td>0</td>\n",
              "      <td>79.150423</td>\n",
              "      <td>4.908686</td>\n",
              "      <td>-9.200348</td>\n",
              "      <td>9.227777</td>\n",
              "    </tr>\n",
              "    <tr>\n",
              "      <th>4</th>\n",
              "      <td>4</td>\n",
              "      <td>0</td>\n",
              "      <td>2013</td>\n",
              "      <td>50001.0</td>\n",
              "      <td>yellow</td>\n",
              "      <td>36.0</td>\n",
              "      <td>16.000000</td>\n",
              "      <td>high</td>\n",
              "      <td>C</td>\n",
              "      <td>House</td>\n",
              "      <td>...</td>\n",
              "      <td>0</td>\n",
              "      <td>0</td>\n",
              "      <td>1</td>\n",
              "      <td>0</td>\n",
              "      <td>0</td>\n",
              "      <td>0</td>\n",
              "      <td>32.491144</td>\n",
              "      <td>-9.646515</td>\n",
              "      <td>4.723194</td>\n",
              "      <td>0.965203</td>\n",
              "    </tr>\n",
              "  </tbody>\n",
              "</table>\n",
              "<p>5 rows × 47 columns</p>\n",
              "</div>"
            ],
            "text/plain": [
              "   index  cancel  year      zip   color   age        len  credit coverage  \\\n",
              "0      0       0  2013  98004.0    blue  37.0  18.000000    high        C   \n",
              "1      1       0  2013  85017.0   white  40.0  17.000000  medium        A   \n",
              "2      2       0  2013  80021.0   white  45.0  14.000000    high        A   \n",
              "3      3       0  2013  85002.0     red  45.0  24.366136    high        A   \n",
              "4      4       0  2013  50001.0  yellow  36.0  16.000000    high        C   \n",
              "\n",
              "  dwelling    ...     AZ CO IA  PA  VA  WA        PC1       PC2       PC3  \\\n",
              "0   Tenant    ...      0  0  0   0   0   1  50.618824 -5.054960 -5.342488   \n",
              "1    Condo    ...      1  0  0   0   0   0   9.457391 -2.245914 -4.321908   \n",
              "2    House    ...      0  1  0   0   0   0  -2.804203  2.110568 -1.685737   \n",
              "3    House    ...      1  0  0   0   0   0  79.150423  4.908686 -9.200348   \n",
              "4    House    ...      0  0  1   0   0   0  32.491144 -9.646515  4.723194   \n",
              "\n",
              "        PC4  \n",
              "0  2.945038  \n",
              "1  1.921458  \n",
              "2 -1.120710  \n",
              "3  9.227777  \n",
              "4  0.965203  \n",
              "\n",
              "[5 rows x 47 columns]"
            ]
          },
          "metadata": {
            "tags": []
          },
          "execution_count": 132
        }
      ]
    },
    {
      "metadata": {
        "id": "AI9I-c5pNClH",
        "colab_type": "code",
        "outputId": "48198f60-9859-43a3-d69d-6d88f279d384",
        "colab": {
          "base_uri": "https://localhost:8080/",
          "height": 937
        }
      },
      "cell_type": "code",
      "source": [
        "logistic_model_pca=sm.formula.glm(formula=\"cancel ~ age + len + premium + marital + adults + children + tenure + claim + blue + red + white + yellow + low + high + medium + A + B + C + Condo + House + Tenant + Broker + Online + Phone + F + M + AZ + CO + IA + PA + VA + WA+PC1+PC2+PC3\",family=sm.families.Binomial(), data=clean_pcacov).fit()\n",
        "logistic_model_pca.summary()"
      ],
      "execution_count": 0,
      "outputs": [
        {
          "output_type": "execute_result",
          "data": {
            "text/html": [
              "<table class=\"simpletable\">\n",
              "<caption>Generalized Linear Model Regression Results</caption>\n",
              "<tr>\n",
              "  <th>Dep. Variable:</th>       <td>cancel</td>      <th>  No. Observations:  </th>   <td>1025272</td>  \n",
              "</tr>\n",
              "<tr>\n",
              "  <th>Model:</th>                 <td>GLM</td>       <th>  Df Residuals:      </th>   <td>1025246</td>  \n",
              "</tr>\n",
              "<tr>\n",
              "  <th>Model Family:</th>       <td>Binomial</td>     <th>  Df Model:          </th>   <td>    25</td>   \n",
              "</tr>\n",
              "<tr>\n",
              "  <th>Link Function:</th>        <td>logit</td>      <th>  Scale:             </th>     <td>1.0</td>    \n",
              "</tr>\n",
              "<tr>\n",
              "  <th>Method:</th>               <td>IRLS</td>       <th>  Log-Likelihood:    </th> <td>-5.0362e+05</td>\n",
              "</tr>\n",
              "<tr>\n",
              "  <th>Date:</th>           <td>Mon, 18 Mar 2019</td> <th>  Deviance:          </th> <td>1.0072e+06</td> \n",
              "</tr>\n",
              "<tr>\n",
              "  <th>Time:</th>               <td>19:33:20</td>     <th>  Pearson chi2:      </th>  <td>1.02e+06</td>  \n",
              "</tr>\n",
              "<tr>\n",
              "  <th>No. Iterations:</th>         <td>5</td>        <th>                     </th>      <td> </td>     \n",
              "</tr>\n",
              "</table>\n",
              "<table class=\"simpletable\">\n",
              "<tr>\n",
              "      <td></td>         <th>coef</th>     <th>std err</th>      <th>z</th>      <th>P>|z|</th>  <th>[0.025</th>    <th>0.975]</th>  \n",
              "</tr>\n",
              "<tr>\n",
              "  <th>Intercept</th> <td> 2.623e-07</td> <td> 4.56e-08</td> <td>    5.751</td> <td> 0.000</td> <td> 1.73e-07</td> <td> 3.52e-07</td>\n",
              "</tr>\n",
              "<tr>\n",
              "  <th>age</th>       <td>   -0.0118</td> <td>    0.000</td> <td>  -72.313</td> <td> 0.000</td> <td>   -0.012</td> <td>   -0.011</td>\n",
              "</tr>\n",
              "<tr>\n",
              "  <th>len</th>       <td>   -0.0221</td> <td>    0.001</td> <td>  -36.869</td> <td> 0.000</td> <td>   -0.023</td> <td>   -0.021</td>\n",
              "</tr>\n",
              "<tr>\n",
              "  <th>premium</th>   <td>   -0.0003</td> <td>  1.3e-05</td> <td>  -22.987</td> <td> 0.000</td> <td>   -0.000</td> <td>   -0.000</td>\n",
              "</tr>\n",
              "<tr>\n",
              "  <th>marital</th>   <td>   -0.3756</td> <td>    0.006</td> <td>  -62.993</td> <td> 0.000</td> <td>   -0.387</td> <td>   -0.364</td>\n",
              "</tr>\n",
              "<tr>\n",
              "  <th>adults</th>    <td>    0.0800</td> <td>    0.002</td> <td>   41.466</td> <td> 0.000</td> <td>    0.076</td> <td>    0.084</td>\n",
              "</tr>\n",
              "<tr>\n",
              "  <th>children</th>  <td>    0.1263</td> <td>    0.001</td> <td>  115.130</td> <td> 0.000</td> <td>    0.124</td> <td>    0.128</td>\n",
              "</tr>\n",
              "<tr>\n",
              "  <th>tenure</th>    <td>    0.0175</td> <td>    0.000</td> <td>   64.235</td> <td> 0.000</td> <td>    0.017</td> <td>    0.018</td>\n",
              "</tr>\n",
              "<tr>\n",
              "  <th>claim</th>     <td>    0.3975</td> <td>    0.006</td> <td>   67.147</td> <td> 0.000</td> <td>    0.386</td> <td>    0.409</td>\n",
              "</tr>\n",
              "<tr>\n",
              "  <th>blue</th>      <td>    0.0016</td> <td>    0.004</td> <td>    0.361</td> <td> 0.718</td> <td>   -0.007</td> <td>    0.010</td>\n",
              "</tr>\n",
              "<tr>\n",
              "  <th>red</th>       <td>   -0.0049</td> <td>    0.005</td> <td>   -1.092</td> <td> 0.275</td> <td>   -0.014</td> <td>    0.004</td>\n",
              "</tr>\n",
              "<tr>\n",
              "  <th>white</th>     <td>    0.0017</td> <td>    0.004</td> <td>    0.426</td> <td> 0.670</td> <td>   -0.006</td> <td>    0.010</td>\n",
              "</tr>\n",
              "<tr>\n",
              "  <th>yellow</th>    <td>    0.0016</td> <td>    0.006</td> <td>    0.254</td> <td> 0.800</td> <td>   -0.011</td> <td>    0.014</td>\n",
              "</tr>\n",
              "<tr>\n",
              "  <th>low</th>       <td>    0.7205</td> <td>    0.004</td> <td>  179.502</td> <td> 0.000</td> <td>    0.713</td> <td>    0.728</td>\n",
              "</tr>\n",
              "<tr>\n",
              "  <th>high</th>      <td>   -0.6730</td> <td>    0.003</td> <td> -201.717</td> <td> 0.000</td> <td>   -0.679</td> <td>   -0.666</td>\n",
              "</tr>\n",
              "<tr>\n",
              "  <th>medium</th>    <td>   -0.0476</td> <td>    0.004</td> <td>  -12.241</td> <td> 0.000</td> <td>   -0.055</td> <td>   -0.040</td>\n",
              "</tr>\n",
              "<tr>\n",
              "  <th>A</th>         <td>   -0.0603</td> <td>    0.004</td> <td>  -16.978</td> <td> 0.000</td> <td>   -0.067</td> <td>   -0.053</td>\n",
              "</tr>\n",
              "<tr>\n",
              "  <th>B</th>         <td>   -0.0073</td> <td>    0.004</td> <td>   -1.881</td> <td> 0.060</td> <td>   -0.015</td> <td>    0.000</td>\n",
              "</tr>\n",
              "<tr>\n",
              "  <th>C</th>         <td>    0.0676</td> <td>    0.003</td> <td>   20.199</td> <td> 0.000</td> <td>    0.061</td> <td>    0.074</td>\n",
              "</tr>\n",
              "<tr>\n",
              "  <th>Condo</th>     <td>   -0.0077</td> <td>    0.004</td> <td>   -1.963</td> <td> 0.050</td> <td>   -0.015</td> <td>-1.09e-05</td>\n",
              "</tr>\n",
              "<tr>\n",
              "  <th>House</th>     <td>   -0.0352</td> <td>    0.003</td> <td>  -10.292</td> <td> 0.000</td> <td>   -0.042</td> <td>   -0.029</td>\n",
              "</tr>\n",
              "<tr>\n",
              "  <th>Tenant</th>    <td>    0.0430</td> <td>    0.004</td> <td>   10.368</td> <td> 0.000</td> <td>    0.035</td> <td>    0.051</td>\n",
              "</tr>\n",
              "<tr>\n",
              "  <th>Broker</th>    <td>   -0.5085</td> <td>    0.004</td> <td> -134.356</td> <td> 0.000</td> <td>   -0.516</td> <td>   -0.501</td>\n",
              "</tr>\n",
              "<tr>\n",
              "  <th>Online</th>    <td>    0.1388</td> <td>    0.006</td> <td>   24.793</td> <td> 0.000</td> <td>    0.128</td> <td>    0.150</td>\n",
              "</tr>\n",
              "<tr>\n",
              "  <th>Phone</th>     <td>    0.3698</td> <td>    0.004</td> <td>   94.912</td> <td> 0.000</td> <td>    0.362</td> <td>    0.377</td>\n",
              "</tr>\n",
              "<tr>\n",
              "  <th>F</th>         <td>   -0.0014</td> <td>    0.002</td> <td>   -0.549</td> <td> 0.583</td> <td>   -0.006</td> <td>    0.003</td>\n",
              "</tr>\n",
              "<tr>\n",
              "  <th>M</th>         <td>    0.0014</td> <td>    0.002</td> <td>    0.549</td> <td> 0.583</td> <td>   -0.003</td> <td>    0.006</td>\n",
              "</tr>\n",
              "<tr>\n",
              "  <th>AZ</th>        <td>    0.0104</td> <td>    0.005</td> <td>    2.117</td> <td> 0.034</td> <td>    0.001</td> <td>    0.020</td>\n",
              "</tr>\n",
              "<tr>\n",
              "  <th>CO</th>        <td>   -0.3438</td> <td>    0.006</td> <td>  -61.575</td> <td> 0.000</td> <td>   -0.355</td> <td>   -0.333</td>\n",
              "</tr>\n",
              "<tr>\n",
              "  <th>IA</th>        <td>   -0.1000</td> <td>    0.005</td> <td>  -21.102</td> <td> 0.000</td> <td>   -0.109</td> <td>   -0.091</td>\n",
              "</tr>\n",
              "<tr>\n",
              "  <th>PA</th>        <td>   -0.5865</td> <td>    0.006</td> <td>  -91.016</td> <td> 0.000</td> <td>   -0.599</td> <td>   -0.574</td>\n",
              "</tr>\n",
              "<tr>\n",
              "  <th>VA</th>        <td>    1.0043</td> <td>    0.008</td> <td>  121.163</td> <td> 0.000</td> <td>    0.988</td> <td>    1.021</td>\n",
              "</tr>\n",
              "<tr>\n",
              "  <th>WA</th>        <td>    0.0155</td> <td>    0.006</td> <td>    2.394</td> <td> 0.017</td> <td>    0.003</td> <td>    0.028</td>\n",
              "</tr>\n",
              "<tr>\n",
              "  <th>PC1</th>       <td>   -0.0005</td> <td> 3.43e-05</td> <td>  -15.603</td> <td> 0.000</td> <td>   -0.001</td> <td>   -0.000</td>\n",
              "</tr>\n",
              "<tr>\n",
              "  <th>PC2</th>       <td>   -0.0099</td> <td>    0.000</td> <td>  -95.742</td> <td> 0.000</td> <td>   -0.010</td> <td>   -0.010</td>\n",
              "</tr>\n",
              "<tr>\n",
              "  <th>PC3</th>       <td>   -0.0171</td> <td>    0.000</td> <td>  -59.872</td> <td> 0.000</td> <td>   -0.018</td> <td>   -0.017</td>\n",
              "</tr>\n",
              "</table>"
            ],
            "text/plain": [
              "<class 'statsmodels.iolib.summary.Summary'>\n",
              "\"\"\"\n",
              "                 Generalized Linear Model Regression Results                  \n",
              "==============================================================================\n",
              "Dep. Variable:                 cancel   No. Observations:              1025272\n",
              "Model:                            GLM   Df Residuals:                  1025246\n",
              "Model Family:                Binomial   Df Model:                           25\n",
              "Link Function:                  logit   Scale:                             1.0\n",
              "Method:                          IRLS   Log-Likelihood:            -5.0362e+05\n",
              "Date:                Mon, 18 Mar 2019   Deviance:                   1.0072e+06\n",
              "Time:                        19:33:20   Pearson chi2:                 1.02e+06\n",
              "No. Iterations:                     5                                         \n",
              "==============================================================================\n",
              "                 coef    std err          z      P>|z|      [0.025      0.975]\n",
              "------------------------------------------------------------------------------\n",
              "Intercept   2.623e-07   4.56e-08      5.751      0.000    1.73e-07    3.52e-07\n",
              "age           -0.0118      0.000    -72.313      0.000      -0.012      -0.011\n",
              "len           -0.0221      0.001    -36.869      0.000      -0.023      -0.021\n",
              "premium       -0.0003    1.3e-05    -22.987      0.000      -0.000      -0.000\n",
              "marital       -0.3756      0.006    -62.993      0.000      -0.387      -0.364\n",
              "adults         0.0800      0.002     41.466      0.000       0.076       0.084\n",
              "children       0.1263      0.001    115.130      0.000       0.124       0.128\n",
              "tenure         0.0175      0.000     64.235      0.000       0.017       0.018\n",
              "claim          0.3975      0.006     67.147      0.000       0.386       0.409\n",
              "blue           0.0016      0.004      0.361      0.718      -0.007       0.010\n",
              "red           -0.0049      0.005     -1.092      0.275      -0.014       0.004\n",
              "white          0.0017      0.004      0.426      0.670      -0.006       0.010\n",
              "yellow         0.0016      0.006      0.254      0.800      -0.011       0.014\n",
              "low            0.7205      0.004    179.502      0.000       0.713       0.728\n",
              "high          -0.6730      0.003   -201.717      0.000      -0.679      -0.666\n",
              "medium        -0.0476      0.004    -12.241      0.000      -0.055      -0.040\n",
              "A             -0.0603      0.004    -16.978      0.000      -0.067      -0.053\n",
              "B             -0.0073      0.004     -1.881      0.060      -0.015       0.000\n",
              "C              0.0676      0.003     20.199      0.000       0.061       0.074\n",
              "Condo         -0.0077      0.004     -1.963      0.050      -0.015   -1.09e-05\n",
              "House         -0.0352      0.003    -10.292      0.000      -0.042      -0.029\n",
              "Tenant         0.0430      0.004     10.368      0.000       0.035       0.051\n",
              "Broker        -0.5085      0.004   -134.356      0.000      -0.516      -0.501\n",
              "Online         0.1388      0.006     24.793      0.000       0.128       0.150\n",
              "Phone          0.3698      0.004     94.912      0.000       0.362       0.377\n",
              "F             -0.0014      0.002     -0.549      0.583      -0.006       0.003\n",
              "M              0.0014      0.002      0.549      0.583      -0.003       0.006\n",
              "AZ             0.0104      0.005      2.117      0.034       0.001       0.020\n",
              "CO            -0.3438      0.006    -61.575      0.000      -0.355      -0.333\n",
              "IA            -0.1000      0.005    -21.102      0.000      -0.109      -0.091\n",
              "PA            -0.5865      0.006    -91.016      0.000      -0.599      -0.574\n",
              "VA             1.0043      0.008    121.163      0.000       0.988       1.021\n",
              "WA             0.0155      0.006      2.394      0.017       0.003       0.028\n",
              "PC1           -0.0005   3.43e-05    -15.603      0.000      -0.001      -0.000\n",
              "PC2           -0.0099      0.000    -95.742      0.000      -0.010      -0.010\n",
              "PC3           -0.0171      0.000    -59.872      0.000      -0.018      -0.017\n",
              "==============================================================================\n",
              "\"\"\""
            ]
          },
          "metadata": {
            "tags": []
          },
          "execution_count": 144
        }
      ]
    },
    {
      "metadata": {
        "id": "rCLhnpEDPLiu",
        "colab_type": "code",
        "outputId": "bd903d13-25b4-4d42-c620-37b9510b0b60",
        "colab": {
          "base_uri": "https://localhost:8080/",
          "height": 34
        }
      },
      "cell_type": "code",
      "source": [
        "y_true_pca = clean_pcacov['cancel']\n",
        "y_scores_pca = logistic_model_pca.predict()\n",
        "roc_auc_score(y_true_pca, y_scores_pca)"
      ],
      "execution_count": 0,
      "outputs": [
        {
          "output_type": "execute_result",
          "data": {
            "text/plain": [
              "0.7263643193606434"
            ]
          },
          "metadata": {
            "tags": []
          },
          "execution_count": 145
        }
      ]
    },
    {
      "metadata": {
        "id": "huTyioVkPcDB",
        "colab_type": "code",
        "colab": {}
      },
      "cell_type": "code",
      "source": [
        ""
      ],
      "execution_count": 0,
      "outputs": []
    }
  ]
}