{
  "nbformat": 4,
  "nbformat_minor": 0,
  "metadata": {
    "colab": {
      "name": "Feature Importance by Random Forest.ipynb",
      "version": "0.3.2",
      "provenance": [],
      "toc_visible": true
    },
    "kernelspec": {
      "display_name": "Python 3",
      "language": "python",
      "name": "python3"
    }
  },
  "cells": [
    {
      "metadata": {
        "id": "siZPsjOh4klO",
        "colab_type": "text"
      },
      "cell_type": "markdown",
      "source": [
        "#`Feature Importance by Random Forest`\n",
        "\n",
        "---\n",
        "\n"
      ]
    },
    {
      "metadata": {
        "id": "ojnOe7KA0uFZ",
        "colab_type": "code",
        "colab": {}
      },
      "cell_type": "code",
      "source": [
        "import pandas as pd\n",
        "import numpy as np\n",
        "import matplotlib.pyplot as plt\n",
        "import random\n",
        "from sklearn.ensemble import RandomForestClassifier\n",
        "random.seed(0)"
      ],
      "execution_count": 0,
      "outputs": []
    },
    {
      "metadata": {
        "id": "WJLBSfez0uFh",
        "colab_type": "code",
        "outputId": "1398f311-0eb8-4172-8ade-3e0958cc6150",
        "colab": {
          "base_uri": "https://localhost:8080/",
          "height": 270
        }
      },
      "cell_type": "code",
      "source": [
        "df = pd.read_csv('cleaned3.csv')\n",
        "df.head()"
      ],
      "execution_count": 83,
      "outputs": [
        {
          "output_type": "execute_result",
          "data": {
            "text/html": [
              "<div>\n",
              "<style scoped>\n",
              "    .dataframe tbody tr th:only-of-type {\n",
              "        vertical-align: middle;\n",
              "    }\n",
              "\n",
              "    .dataframe tbody tr th {\n",
              "        vertical-align: top;\n",
              "    }\n",
              "\n",
              "    .dataframe thead th {\n",
              "        text-align: right;\n",
              "    }\n",
              "</style>\n",
              "<table border=\"1\" class=\"dataframe\">\n",
              "  <thead>\n",
              "    <tr style=\"text-align: right;\">\n",
              "      <th></th>\n",
              "      <th>Unnamed: 0</th>\n",
              "      <th>cancel</th>\n",
              "      <th>year</th>\n",
              "      <th>zip.code</th>\n",
              "      <th>ni.age</th>\n",
              "      <th>len.at.res</th>\n",
              "      <th>credit</th>\n",
              "      <th>premium</th>\n",
              "      <th>gender</th>\n",
              "      <th>ni.marital.status</th>\n",
              "      <th>...</th>\n",
              "      <th>house.color_blue</th>\n",
              "      <th>house.color_red</th>\n",
              "      <th>house.color_white</th>\n",
              "      <th>house.color_yellow</th>\n",
              "      <th>dwelling_Condo</th>\n",
              "      <th>dwelling_House</th>\n",
              "      <th>dwelling_Tenant</th>\n",
              "      <th>coverage_A</th>\n",
              "      <th>coverage_B</th>\n",
              "      <th>coverage_C</th>\n",
              "    </tr>\n",
              "  </thead>\n",
              "  <tbody>\n",
              "    <tr>\n",
              "      <th>0</th>\n",
              "      <td>0</td>\n",
              "      <td>0</td>\n",
              "      <td>2013</td>\n",
              "      <td>98004.0</td>\n",
              "      <td>37.0</td>\n",
              "      <td>18.000000</td>\n",
              "      <td>2</td>\n",
              "      <td>950.507336</td>\n",
              "      <td>0</td>\n",
              "      <td>0.0</td>\n",
              "      <td>...</td>\n",
              "      <td>1</td>\n",
              "      <td>0</td>\n",
              "      <td>0</td>\n",
              "      <td>0</td>\n",
              "      <td>0</td>\n",
              "      <td>0</td>\n",
              "      <td>1</td>\n",
              "      <td>0</td>\n",
              "      <td>0</td>\n",
              "      <td>1</td>\n",
              "    </tr>\n",
              "    <tr>\n",
              "      <th>1</th>\n",
              "      <td>1</td>\n",
              "      <td>0</td>\n",
              "      <td>2013</td>\n",
              "      <td>85017.0</td>\n",
              "      <td>40.0</td>\n",
              "      <td>17.000000</td>\n",
              "      <td>1</td>\n",
              "      <td>909.346046</td>\n",
              "      <td>0</td>\n",
              "      <td>1.0</td>\n",
              "      <td>...</td>\n",
              "      <td>0</td>\n",
              "      <td>0</td>\n",
              "      <td>1</td>\n",
              "      <td>0</td>\n",
              "      <td>1</td>\n",
              "      <td>0</td>\n",
              "      <td>0</td>\n",
              "      <td>1</td>\n",
              "      <td>0</td>\n",
              "      <td>0</td>\n",
              "    </tr>\n",
              "    <tr>\n",
              "      <th>2</th>\n",
              "      <td>2</td>\n",
              "      <td>0</td>\n",
              "      <td>2013</td>\n",
              "      <td>80021.0</td>\n",
              "      <td>45.0</td>\n",
              "      <td>14.000000</td>\n",
              "      <td>2</td>\n",
              "      <td>897.084502</td>\n",
              "      <td>1</td>\n",
              "      <td>0.0</td>\n",
              "      <td>...</td>\n",
              "      <td>0</td>\n",
              "      <td>0</td>\n",
              "      <td>1</td>\n",
              "      <td>0</td>\n",
              "      <td>0</td>\n",
              "      <td>1</td>\n",
              "      <td>0</td>\n",
              "      <td>1</td>\n",
              "      <td>0</td>\n",
              "      <td>0</td>\n",
              "    </tr>\n",
              "    <tr>\n",
              "      <th>3</th>\n",
              "      <td>3</td>\n",
              "      <td>0</td>\n",
              "      <td>2013</td>\n",
              "      <td>85002.0</td>\n",
              "      <td>45.0</td>\n",
              "      <td>24.366136</td>\n",
              "      <td>2</td>\n",
              "      <td>979.039007</td>\n",
              "      <td>1</td>\n",
              "      <td>0.0</td>\n",
              "      <td>...</td>\n",
              "      <td>0</td>\n",
              "      <td>1</td>\n",
              "      <td>0</td>\n",
              "      <td>0</td>\n",
              "      <td>0</td>\n",
              "      <td>1</td>\n",
              "      <td>0</td>\n",
              "      <td>1</td>\n",
              "      <td>0</td>\n",
              "      <td>0</td>\n",
              "    </tr>\n",
              "    <tr>\n",
              "      <th>4</th>\n",
              "      <td>4</td>\n",
              "      <td>0</td>\n",
              "      <td>2013</td>\n",
              "      <td>50001.0</td>\n",
              "      <td>36.0</td>\n",
              "      <td>16.000000</td>\n",
              "      <td>2</td>\n",
              "      <td>932.379027</td>\n",
              "      <td>1</td>\n",
              "      <td>1.0</td>\n",
              "      <td>...</td>\n",
              "      <td>0</td>\n",
              "      <td>0</td>\n",
              "      <td>0</td>\n",
              "      <td>1</td>\n",
              "      <td>0</td>\n",
              "      <td>1</td>\n",
              "      <td>0</td>\n",
              "      <td>0</td>\n",
              "      <td>0</td>\n",
              "      <td>1</td>\n",
              "    </tr>\n",
              "  </tbody>\n",
              "</table>\n",
              "<p>5 rows × 33 columns</p>\n",
              "</div>"
            ],
            "text/plain": [
              "   Unnamed: 0  cancel  year  zip.code  ni.age  len.at.res  credit     premium  \\\n",
              "0           0       0  2013   98004.0    37.0   18.000000       2  950.507336   \n",
              "1           1       0  2013   85017.0    40.0   17.000000       1  909.346046   \n",
              "2           2       0  2013   80021.0    45.0   14.000000       2  897.084502   \n",
              "3           3       0  2013   85002.0    45.0   24.366136       2  979.039007   \n",
              "4           4       0  2013   50001.0    36.0   16.000000       2  932.379027   \n",
              "\n",
              "   gender  ni.marital.status     ...      house.color_blue  house.color_red  \\\n",
              "0       0                0.0     ...                     1                0   \n",
              "1       0                1.0     ...                     0                0   \n",
              "2       1                0.0     ...                     0                0   \n",
              "3       1                0.0     ...                     0                1   \n",
              "4       1                1.0     ...                     0                0   \n",
              "\n",
              "   house.color_white  house.color_yellow  dwelling_Condo  dwelling_House  \\\n",
              "0                  0                   0               0               0   \n",
              "1                  1                   0               1               0   \n",
              "2                  1                   0               0               1   \n",
              "3                  0                   0               0               1   \n",
              "4                  0                   1               0               1   \n",
              "\n",
              "   dwelling_Tenant  coverage_A  coverage_B  coverage_C  \n",
              "0                1           0           0           1  \n",
              "1                0           1           0           0  \n",
              "2                0           1           0           0  \n",
              "3                0           1           0           0  \n",
              "4                0           0           0           1  \n",
              "\n",
              "[5 rows x 33 columns]"
            ]
          },
          "metadata": {
            "tags": []
          },
          "execution_count": 83
        }
      ]
    },
    {
      "metadata": {
        "id": "ltqmD2pG0uFm",
        "colab_type": "code",
        "colab": {}
      },
      "cell_type": "code",
      "source": [
        "df = df.drop(\"Unnamed: 0\", 1)\n",
        "df = df.drop(\"zip.code\", 1)\n",
        "df = df.drop(\"year\",1)"
      ],
      "execution_count": 0,
      "outputs": []
    },
    {
      "metadata": {
        "id": "7M3mRjymspE-",
        "colab_type": "code",
        "colab": {}
      },
      "cell_type": "code",
      "source": [
        "# shuffle the dataframe\n",
        "df = df.sample(frac = 1)"
      ],
      "execution_count": 0,
      "outputs": []
    },
    {
      "metadata": {
        "id": "TIcNU-j10uFq",
        "colab_type": "code",
        "outputId": "7ea98ce4-1f7a-4267-a324-d73e75be08de",
        "colab": {
          "base_uri": "https://localhost:8080/",
          "height": 34
        }
      },
      "cell_type": "code",
      "source": [
        "df.shape"
      ],
      "execution_count": 86,
      "outputs": [
        {
          "output_type": "execute_result",
          "data": {
            "text/plain": [
              "(1025272, 30)"
            ]
          },
          "metadata": {
            "tags": []
          },
          "execution_count": 86
        }
      ]
    },
    {
      "metadata": {
        "id": "mS373tIe0uFt",
        "colab_type": "code",
        "colab": {}
      },
      "cell_type": "code",
      "source": [
        "y = df[['cancel']]"
      ],
      "execution_count": 0,
      "outputs": []
    },
    {
      "metadata": {
        "id": "GrE55Tjz0uFw",
        "colab_type": "code",
        "colab": {}
      },
      "cell_type": "code",
      "source": [
        "X = df.iloc[:,1:df.shape[1]]"
      ],
      "execution_count": 0,
      "outputs": []
    },
    {
      "metadata": {
        "id": "sWv-Zdf90uF0",
        "colab_type": "code",
        "colab": {}
      },
      "cell_type": "code",
      "source": [
        "# Only using 10000 obs to show a rough idea\n",
        "\n",
        "X_trial = X[1:10000]\n",
        "y_trial = y[1:10000]"
      ],
      "execution_count": 0,
      "outputs": []
    },
    {
      "metadata": {
        "id": "hPb3LRzl0uF9",
        "colab_type": "code",
        "colab": {
          "base_uri": "https://localhost:8080/",
          "height": 34
        },
        "outputId": "79b6c7d5-0ccd-4430-fa50-a47b711f68fd"
      },
      "cell_type": "code",
      "source": [
        "X.shape[1]"
      ],
      "execution_count": 90,
      "outputs": [
        {
          "output_type": "execute_result",
          "data": {
            "text/plain": [
              "29"
            ]
          },
          "metadata": {
            "tags": []
          },
          "execution_count": 90
        }
      ]
    },
    {
      "metadata": {
        "id": "3-IuEBCK0uGE",
        "colab_type": "code",
        "colab": {}
      },
      "cell_type": "code",
      "source": [
        ""
      ],
      "execution_count": 0,
      "outputs": []
    },
    {
      "metadata": {
        "id": "Vid1AzoU0uGA",
        "colab_type": "code",
        "outputId": "84cbd0cd-72d4-4d9e-8fdd-66557e8e69d0",
        "colab": {
          "base_uri": "https://localhost:8080/",
          "height": 948
        }
      },
      "cell_type": "code",
      "source": [
        "\n",
        "forest=RandomForestClassifier(n_estimators=100,n_jobs=-1,random_state=0)\n",
        "\n",
        "\n",
        "X_train=X_trial\n",
        "y_train=y_trial\n",
        "\n",
        "forest.fit(X_train,y_train)\n",
        "importances=forest.feature_importances_\n",
        "\n",
        "feat_labels = X.columns\n",
        "indices=np.argsort(importances)[::-1]\n",
        "\n",
        "X_train=np.array(X_train)\n",
        "N=X_train.shape[1]\n",
        "for f in range(X.shape[1]):\n",
        "    # assess feature importance\n",
        "    print (\"%2d) %-*s %f\" % (f+1,X.shape[1],feat_labels[indices[f]],importances[indices[f]]) )\n",
        "\n",
        "#Visualization of feature importance\n",
        "plt.title('Feature Importance-RandomForest')\n",
        "\n",
        "plt.bar(range(X.shape[1]),importances[indices[:X.shape[1]]],color='lightblue',align='center')\n",
        "plt.xticks(range(X.shape[1]),np.array(feat_labels)[indices[:X.shape[1]]],rotation=90)\n",
        "\n",
        "plt.xlim([-1,X.shape[1]])\n",
        "plt.tight_layout()\n",
        "plt.show()\n"
      ],
      "execution_count": 91,
      "outputs": [
        {
          "output_type": "stream",
          "text": [
            "/usr/local/lib/python3.6/dist-packages/ipykernel_launcher.py:8: DataConversionWarning: A column-vector y was passed when a 1d array was expected. Please change the shape of y to (n_samples,), for example using ravel().\n",
            "  \n"
          ],
          "name": "stderr"
        },
        {
          "output_type": "stream",
          "text": [
            " 1) premium                       0.139746\n",
            " 2) ni.age                        0.116806\n",
            " 3) tenure                        0.102329\n",
            " 4) len.at.res                    0.099487\n",
            " 5) n.children                    0.071529\n",
            " 6) credit                        0.064988\n",
            " 7) n.adults                      0.056925\n",
            " 8) gender                        0.025562\n",
            " 9) ni.marital.status             0.020185\n",
            "10) coverage_C                    0.019427\n",
            "11) house.color_white             0.019145\n",
            "12) dwelling_House                0.018334\n",
            "13) house.color_blue              0.018032\n",
            "14) coverage_A                    0.018024\n",
            "15) coverage_B                    0.017245\n",
            "16) house.color_red               0.017054\n",
            "17) state_IA                      0.016450\n",
            "18) claim.ind                     0.016411\n",
            "19) dwelling_Condo                0.016253\n",
            "20) sales.channel_Broker          0.016162\n",
            "21) state_AZ                      0.015253\n",
            "22) dwelling_Tenant               0.014639\n",
            "23) sales.channel_Phone           0.012945\n",
            "24) state_CO                      0.012863\n",
            "25) state_WA                      0.012383\n",
            "26) house.color_yellow            0.011945\n",
            "27) state_VA                      0.011874\n",
            "28) state_PA                      0.011267\n",
            "29) sales.channel_Online          0.006737\n"
          ],
          "name": "stdout"
        },
        {
          "output_type": "display_data",
          "data": {
            "image/png": "[encoded data removed]",
            "text/plain": [
              "<Figure size 576x396 with 1 Axes>"
            ]
          },
          "metadata": {
            "tags": []
          }
        }
      ]
    },
    {
      "metadata": {
        "id": "BE4bar_70uGH",
        "colab_type": "code",
        "colab": {}
      },
      "cell_type": "code",
      "source": [
        ""
      ],
      "execution_count": 0,
      "outputs": []
    },
    {
      "metadata": {
        "id": "XqkC8LvR0uGK",
        "colab_type": "code",
        "colab": {}
      },
      "cell_type": "code",
      "source": [
        ""
      ],
      "execution_count": 0,
      "outputs": []
    },
    {
      "metadata": {
        "id": "Vp3RCPgj0uGN",
        "colab_type": "code",
        "colab": {}
      },
      "cell_type": "code",
      "source": [
        "\n"
      ],
      "execution_count": 0,
      "outputs": []
    },
    {
      "metadata": {
        "id": "KLIm9IK50uGP",
        "colab_type": "code",
        "colab": {}
      },
      "cell_type": "code",
      "source": [
        ""
      ],
      "execution_count": 0,
      "outputs": []
    },
    {
      "metadata": {
        "id": "53Mg_Ev-0uGS",
        "colab_type": "code",
        "colab": {}
      },
      "cell_type": "code",
      "source": [
        ""
      ],
      "execution_count": 0,
      "outputs": []
    },
    {
      "metadata": {
        "id": "St3T7cV30uGU",
        "colab_type": "code",
        "colab": {}
      },
      "cell_type": "code",
      "source": [
        ""
      ],
      "execution_count": 0,
      "outputs": []
    }
  ]
}